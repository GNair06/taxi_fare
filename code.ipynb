{
 "cells": [
  {
   "cell_type": "code",
   "execution_count": 1,
   "id": "458b62c6",
   "metadata": {
    "_cell_guid": "b1076dfc-b9ad-4769-8c92-a6c4dae69d19",
    "_uuid": "8f2839f25d086af736a60e9eeb907d3b93b6e0e5",
    "execution": {
     "iopub.execute_input": "2023-12-20T12:27:07.015496Z",
     "iopub.status.busy": "2023-12-20T12:27:07.014460Z",
     "iopub.status.idle": "2023-12-20T12:27:07.980449Z",
     "shell.execute_reply": "2023-12-20T12:27:07.979293Z"
    },
    "papermill": {
     "duration": 1.011383,
     "end_time": "2023-12-20T12:27:07.983645",
     "exception": false,
     "start_time": "2023-12-20T12:27:06.972262",
     "status": "completed"
    },
    "tags": []
   },
   "outputs": [
    {
     "name": "stdout",
     "output_type": "stream",
     "text": [
      "/kaggle/input/taxi-fare-guru-total-amount-prediction-challenge/sample.csv.csv\n",
      "/kaggle/input/taxi-fare-guru-total-amount-prediction-challenge/train.csv\n",
      "/kaggle/input/taxi-fare-guru-total-amount-prediction-challenge/test.csv\n"
     ]
    }
   ],
   "source": [
    "# This Python 3 environment comes with many helpful analytics libraries installed\n",
    "# It is defined by the kaggle/python Docker image: https://github.com/kaggle/docker-python\n",
    "# For example, here's several helpful packages to load\n",
    "\n",
    "import numpy as np # linear algebra\n",
    "import pandas as pd # data processing, CSV file I/O (e.g. pd.read_csv)\n",
    "\n",
    "# Input data files are available in the read-only \"../input/\" directory\n",
    "# For example, running this (by clicking run or pressing Shift+Enter) will list all files under the input directory\n",
    "\n",
    "import os\n",
    "for dirname, _, filenames in os.walk('/kaggle/input'):\n",
    "    for filename in filenames:\n",
    "        print(os.path.join(dirname, filename))\n",
    "\n",
    "# You can write up to 20GB to the current directory (/kaggle/working/) that gets preserved as output when you create a version using \"Save & Run All\" \n",
    "# You can also write temporary files to /kaggle/temp/, but they won't be saved outside of the current session"
   ]
  },
  {
   "cell_type": "code",
   "execution_count": 2,
   "id": "b280b126",
   "metadata": {
    "execution": {
     "iopub.execute_input": "2023-12-20T12:27:08.065719Z",
     "iopub.status.busy": "2023-12-20T12:27:08.064593Z",
     "iopub.status.idle": "2023-12-20T12:27:10.407872Z",
     "shell.execute_reply": "2023-12-20T12:27:10.406731Z"
    },
    "papermill": {
     "duration": 2.386813,
     "end_time": "2023-12-20T12:27:10.410679",
     "exception": false,
     "start_time": "2023-12-20T12:27:08.023866",
     "status": "completed"
    },
    "tags": []
   },
   "outputs": [],
   "source": [
    "import pandas as pd\n",
    "import numpy as np\n",
    "import matplotlib.pyplot as plt\n",
    "import seaborn as sns\n",
    "import xgboost as xgb"
   ]
  },
  {
   "cell_type": "code",
   "execution_count": 3,
   "id": "601d1290",
   "metadata": {
    "execution": {
     "iopub.execute_input": "2023-12-20T12:27:10.490706Z",
     "iopub.status.busy": "2023-12-20T12:27:10.490241Z",
     "iopub.status.idle": "2023-12-20T12:27:10.968065Z",
     "shell.execute_reply": "2023-12-20T12:27:10.966775Z"
    },
    "papermill": {
     "duration": 0.521604,
     "end_time": "2023-12-20T12:27:10.970830",
     "exception": false,
     "start_time": "2023-12-20T12:27:10.449226",
     "status": "completed"
    },
    "tags": []
   },
   "outputs": [],
   "source": [
    "from sklearn.pipeline import Pipeline\n",
    "from sklearn.compose import ColumnTransformer\n",
    "\n",
    "from sklearn.impute import SimpleImputer\n",
    "\n",
    "from sklearn.preprocessing import OrdinalEncoder, StandardScaler, OneHotEncoder, MinMaxScaler\n",
    "\n",
    "from sklearn.decomposition import PCA\n",
    "\n",
    "from sklearn.feature_selection import VarianceThreshold, SelectKBest, f_regression\n",
    "\n",
    "from sklearn.linear_model import LinearRegression, SGDRegressor\n",
    "\n",
    "from sklearn.model_selection import train_test_split, RandomizedSearchCV, GridSearchCV\n",
    "\n",
    "from sklearn.ensemble import RandomForestRegressor, GradientBoostingRegressor\n",
    "\n",
    "from sklearn.metrics import r2_score, mean_squared_error, mean_absolute_error"
   ]
  },
  {
   "cell_type": "markdown",
   "id": "f6a23395",
   "metadata": {
    "papermill": {
     "duration": 0.038123,
     "end_time": "2023-12-20T12:27:11.114914",
     "exception": false,
     "start_time": "2023-12-20T12:27:11.076791",
     "status": "completed"
    },
    "tags": []
   },
   "source": [
    "## ......................................................................................................................."
   ]
  },
  {
   "cell_type": "markdown",
   "id": "e4db6b93",
   "metadata": {
    "papermill": {
     "duration": 0.038181,
     "end_time": "2023-12-20T12:27:11.191285",
     "exception": false,
     "start_time": "2023-12-20T12:27:11.153104",
     "status": "completed"
    },
    "tags": []
   },
   "source": [
    "## Load data"
   ]
  },
  {
   "cell_type": "code",
   "execution_count": 4,
   "id": "e0f85717",
   "metadata": {
    "execution": {
     "iopub.execute_input": "2023-12-20T12:27:11.270834Z",
     "iopub.status.busy": "2023-12-20T12:27:11.269936Z",
     "iopub.status.idle": "2023-12-20T12:27:11.291707Z",
     "shell.execute_reply": "2023-12-20T12:27:11.290397Z"
    },
    "papermill": {
     "duration": 0.064843,
     "end_time": "2023-12-20T12:27:11.294686",
     "exception": false,
     "start_time": "2023-12-20T12:27:11.229843",
     "status": "completed"
    },
    "tags": []
   },
   "outputs": [],
   "source": [
    "# sample data\n",
    "sample = pd.read_csv('/kaggle/input/taxi-fare-guru-total-amount-prediction-challenge/sample.csv.csv')"
   ]
  },
  {
   "cell_type": "code",
   "execution_count": 5,
   "id": "784a1b1c",
   "metadata": {
    "execution": {
     "iopub.execute_input": "2023-12-20T12:27:11.376017Z",
     "iopub.status.busy": "2023-12-20T12:27:11.375585Z",
     "iopub.status.idle": "2023-12-20T12:27:11.399175Z",
     "shell.execute_reply": "2023-12-20T12:27:11.397924Z"
    },
    "papermill": {
     "duration": 0.067977,
     "end_time": "2023-12-20T12:27:11.401843",
     "exception": false,
     "start_time": "2023-12-20T12:27:11.333866",
     "status": "completed"
    },
    "tags": []
   },
   "outputs": [
    {
     "data": {
      "text/html": [
       "<div>\n",
       "<style scoped>\n",
       "    .dataframe tbody tr th:only-of-type {\n",
       "        vertical-align: middle;\n",
       "    }\n",
       "\n",
       "    .dataframe tbody tr th {\n",
       "        vertical-align: top;\n",
       "    }\n",
       "\n",
       "    .dataframe thead th {\n",
       "        text-align: right;\n",
       "    }\n",
       "</style>\n",
       "<table border=\"1\" class=\"dataframe\">\n",
       "  <thead>\n",
       "    <tr style=\"text-align: right;\">\n",
       "      <th></th>\n",
       "      <th>ID</th>\n",
       "      <th>total_amount</th>\n",
       "    </tr>\n",
       "  </thead>\n",
       "  <tbody>\n",
       "    <tr>\n",
       "      <th>0</th>\n",
       "      <td>1</td>\n",
       "      <td>24.456348</td>\n",
       "    </tr>\n",
       "    <tr>\n",
       "      <th>1</th>\n",
       "      <td>2</td>\n",
       "      <td>24.374058</td>\n",
       "    </tr>\n",
       "    <tr>\n",
       "      <th>2</th>\n",
       "      <td>3</td>\n",
       "      <td>19.878154</td>\n",
       "    </tr>\n",
       "    <tr>\n",
       "      <th>3</th>\n",
       "      <td>4</td>\n",
       "      <td>25.015569</td>\n",
       "    </tr>\n",
       "    <tr>\n",
       "      <th>4</th>\n",
       "      <td>5</td>\n",
       "      <td>22.252489</td>\n",
       "    </tr>\n",
       "  </tbody>\n",
       "</table>\n",
       "</div>"
      ],
      "text/plain": [
       "   ID  total_amount\n",
       "0   1     24.456348\n",
       "1   2     24.374058\n",
       "2   3     19.878154\n",
       "3   4     25.015569\n",
       "4   5     22.252489"
      ]
     },
     "execution_count": 5,
     "metadata": {},
     "output_type": "execute_result"
    }
   ],
   "source": [
    "sample.head()"
   ]
  },
  {
   "cell_type": "code",
   "execution_count": 6,
   "id": "5175ca1a",
   "metadata": {
    "execution": {
     "iopub.execute_input": "2023-12-20T12:27:11.482558Z",
     "iopub.status.busy": "2023-12-20T12:27:11.481667Z",
     "iopub.status.idle": "2023-12-20T12:27:12.508342Z",
     "shell.execute_reply": "2023-12-20T12:27:12.506777Z"
    },
    "papermill": {
     "duration": 1.070564,
     "end_time": "2023-12-20T12:27:12.511506",
     "exception": false,
     "start_time": "2023-12-20T12:27:11.440942",
     "status": "completed"
    },
    "tags": []
   },
   "outputs": [],
   "source": [
    "# train data\n",
    "data = pd.read_csv('/kaggle/input/taxi-fare-guru-total-amount-prediction-challenge/train.csv')"
   ]
  },
  {
   "cell_type": "code",
   "execution_count": 7,
   "id": "3d2e02c2",
   "metadata": {
    "execution": {
     "iopub.execute_input": "2023-12-20T12:27:12.591594Z",
     "iopub.status.busy": "2023-12-20T12:27:12.591114Z",
     "iopub.status.idle": "2023-12-20T12:27:12.619651Z",
     "shell.execute_reply": "2023-12-20T12:27:12.618285Z"
    },
    "papermill": {
     "duration": 0.07172,
     "end_time": "2023-12-20T12:27:12.622444",
     "exception": false,
     "start_time": "2023-12-20T12:27:12.550724",
     "status": "completed"
    },
    "tags": []
   },
   "outputs": [
    {
     "data": {
      "text/html": [
       "<div>\n",
       "<style scoped>\n",
       "    .dataframe tbody tr th:only-of-type {\n",
       "        vertical-align: middle;\n",
       "    }\n",
       "\n",
       "    .dataframe tbody tr th {\n",
       "        vertical-align: top;\n",
       "    }\n",
       "\n",
       "    .dataframe thead th {\n",
       "        text-align: right;\n",
       "    }\n",
       "</style>\n",
       "<table border=\"1\" class=\"dataframe\">\n",
       "  <thead>\n",
       "    <tr style=\"text-align: right;\">\n",
       "      <th></th>\n",
       "      <th>VendorID</th>\n",
       "      <th>tpep_pickup_datetime</th>\n",
       "      <th>tpep_dropoff_datetime</th>\n",
       "      <th>passenger_count</th>\n",
       "      <th>trip_distance</th>\n",
       "      <th>RatecodeID</th>\n",
       "      <th>store_and_fwd_flag</th>\n",
       "      <th>PULocationID</th>\n",
       "      <th>DOLocationID</th>\n",
       "      <th>payment_type</th>\n",
       "      <th>extra</th>\n",
       "      <th>tip_amount</th>\n",
       "      <th>tolls_amount</th>\n",
       "      <th>improvement_surcharge</th>\n",
       "      <th>total_amount</th>\n",
       "      <th>congestion_surcharge</th>\n",
       "      <th>Airport_fee</th>\n",
       "    </tr>\n",
       "  </thead>\n",
       "  <tbody>\n",
       "    <tr>\n",
       "      <th>0</th>\n",
       "      <td>1</td>\n",
       "      <td>2023-06-28 17:20:21</td>\n",
       "      <td>2023-06-28 16:34:45</td>\n",
       "      <td>1.0</td>\n",
       "      <td>2.14</td>\n",
       "      <td>1.0</td>\n",
       "      <td>N</td>\n",
       "      <td>120</td>\n",
       "      <td>9</td>\n",
       "      <td>Credit Card</td>\n",
       "      <td>2.5</td>\n",
       "      <td>7.165589</td>\n",
       "      <td>0.0</td>\n",
       "      <td>1.0</td>\n",
       "      <td>20.64</td>\n",
       "      <td>2.5</td>\n",
       "      <td>0.0</td>\n",
       "    </tr>\n",
       "    <tr>\n",
       "      <th>1</th>\n",
       "      <td>0</td>\n",
       "      <td>2023-06-29 23:05:01</td>\n",
       "      <td>2023-06-29 22:01:35</td>\n",
       "      <td>1.0</td>\n",
       "      <td>2.70</td>\n",
       "      <td>1.0</td>\n",
       "      <td>N</td>\n",
       "      <td>15</td>\n",
       "      <td>215</td>\n",
       "      <td>Credit Card</td>\n",
       "      <td>3.5</td>\n",
       "      <td>6.067401</td>\n",
       "      <td>0.0</td>\n",
       "      <td>1.0</td>\n",
       "      <td>25.55</td>\n",
       "      <td>2.5</td>\n",
       "      <td>0.0</td>\n",
       "    </tr>\n",
       "    <tr>\n",
       "      <th>2</th>\n",
       "      <td>1</td>\n",
       "      <td>2023-06-30 10:19:31</td>\n",
       "      <td>2023-06-30 11:13:10</td>\n",
       "      <td>1.0</td>\n",
       "      <td>1.15</td>\n",
       "      <td>1.0</td>\n",
       "      <td>N</td>\n",
       "      <td>167</td>\n",
       "      <td>223</td>\n",
       "      <td>Credit Card</td>\n",
       "      <td>0.0</td>\n",
       "      <td>4.111547</td>\n",
       "      <td>0.0</td>\n",
       "      <td>1.0</td>\n",
       "      <td>17.64</td>\n",
       "      <td>2.5</td>\n",
       "      <td>0.0</td>\n",
       "    </tr>\n",
       "    <tr>\n",
       "      <th>3</th>\n",
       "      <td>0</td>\n",
       "      <td>2023-06-29 13:23:09</td>\n",
       "      <td>2023-06-29 14:20:01</td>\n",
       "      <td>1.0</td>\n",
       "      <td>0.40</td>\n",
       "      <td>1.0</td>\n",
       "      <td>N</td>\n",
       "      <td>128</td>\n",
       "      <td>239</td>\n",
       "      <td>Credit Card</td>\n",
       "      <td>2.5</td>\n",
       "      <td>6.411079</td>\n",
       "      <td>0.0</td>\n",
       "      <td>1.0</td>\n",
       "      <td>12.80</td>\n",
       "      <td>2.5</td>\n",
       "      <td>0.0</td>\n",
       "    </tr>\n",
       "    <tr>\n",
       "      <th>4</th>\n",
       "      <td>1</td>\n",
       "      <td>2023-06-29 22:03:32</td>\n",
       "      <td>2023-06-29 22:22:22</td>\n",
       "      <td>3.0</td>\n",
       "      <td>1.10</td>\n",
       "      <td>1.0</td>\n",
       "      <td>N</td>\n",
       "      <td>203</td>\n",
       "      <td>52</td>\n",
       "      <td>Credit Card</td>\n",
       "      <td>1.0</td>\n",
       "      <td>4.769377</td>\n",
       "      <td>0.0</td>\n",
       "      <td>1.0</td>\n",
       "      <td>18.00</td>\n",
       "      <td>2.5</td>\n",
       "      <td>0.0</td>\n",
       "    </tr>\n",
       "  </tbody>\n",
       "</table>\n",
       "</div>"
      ],
      "text/plain": [
       "   VendorID tpep_pickup_datetime tpep_dropoff_datetime  passenger_count  \\\n",
       "0         1  2023-06-28 17:20:21   2023-06-28 16:34:45              1.0   \n",
       "1         0  2023-06-29 23:05:01   2023-06-29 22:01:35              1.0   \n",
       "2         1  2023-06-30 10:19:31   2023-06-30 11:13:10              1.0   \n",
       "3         0  2023-06-29 13:23:09   2023-06-29 14:20:01              1.0   \n",
       "4         1  2023-06-29 22:03:32   2023-06-29 22:22:22              3.0   \n",
       "\n",
       "   trip_distance  RatecodeID store_and_fwd_flag  PULocationID  DOLocationID  \\\n",
       "0           2.14         1.0                  N           120             9   \n",
       "1           2.70         1.0                  N            15           215   \n",
       "2           1.15         1.0                  N           167           223   \n",
       "3           0.40         1.0                  N           128           239   \n",
       "4           1.10         1.0                  N           203            52   \n",
       "\n",
       "  payment_type  extra  tip_amount  tolls_amount  improvement_surcharge  \\\n",
       "0  Credit Card    2.5    7.165589           0.0                    1.0   \n",
       "1  Credit Card    3.5    6.067401           0.0                    1.0   \n",
       "2  Credit Card    0.0    4.111547           0.0                    1.0   \n",
       "3  Credit Card    2.5    6.411079           0.0                    1.0   \n",
       "4  Credit Card    1.0    4.769377           0.0                    1.0   \n",
       "\n",
       "   total_amount  congestion_surcharge  Airport_fee  \n",
       "0         20.64                   2.5          0.0  \n",
       "1         25.55                   2.5          0.0  \n",
       "2         17.64                   2.5          0.0  \n",
       "3         12.80                   2.5          0.0  \n",
       "4         18.00                   2.5          0.0  "
      ]
     },
     "execution_count": 7,
     "metadata": {},
     "output_type": "execute_result"
    }
   ],
   "source": [
    "data.head()"
   ]
  },
  {
   "cell_type": "code",
   "execution_count": 8,
   "id": "60b67657",
   "metadata": {
    "execution": {
     "iopub.execute_input": "2023-12-20T12:27:12.705459Z",
     "iopub.status.busy": "2023-12-20T12:27:12.704655Z",
     "iopub.status.idle": "2023-12-20T12:27:12.930805Z",
     "shell.execute_reply": "2023-12-20T12:27:12.929626Z"
    },
    "papermill": {
     "duration": 0.270683,
     "end_time": "2023-12-20T12:27:12.933613",
     "exception": false,
     "start_time": "2023-12-20T12:27:12.662930",
     "status": "completed"
    },
    "tags": []
   },
   "outputs": [],
   "source": [
    "# test data\n",
    "test_data = pd.read_csv('/kaggle/input/taxi-fare-guru-total-amount-prediction-challenge/test.csv')"
   ]
  },
  {
   "cell_type": "code",
   "execution_count": 9,
   "id": "d0a78165",
   "metadata": {
    "execution": {
     "iopub.execute_input": "2023-12-20T12:27:13.015009Z",
     "iopub.status.busy": "2023-12-20T12:27:13.014592Z",
     "iopub.status.idle": "2023-12-20T12:27:13.040848Z",
     "shell.execute_reply": "2023-12-20T12:27:13.039624Z"
    },
    "papermill": {
     "duration": 0.07006,
     "end_time": "2023-12-20T12:27:13.043556",
     "exception": false,
     "start_time": "2023-12-20T12:27:12.973496",
     "status": "completed"
    },
    "tags": []
   },
   "outputs": [
    {
     "data": {
      "text/html": [
       "<div>\n",
       "<style scoped>\n",
       "    .dataframe tbody tr th:only-of-type {\n",
       "        vertical-align: middle;\n",
       "    }\n",
       "\n",
       "    .dataframe tbody tr th {\n",
       "        vertical-align: top;\n",
       "    }\n",
       "\n",
       "    .dataframe thead th {\n",
       "        text-align: right;\n",
       "    }\n",
       "</style>\n",
       "<table border=\"1\" class=\"dataframe\">\n",
       "  <thead>\n",
       "    <tr style=\"text-align: right;\">\n",
       "      <th></th>\n",
       "      <th>VendorID</th>\n",
       "      <th>tpep_pickup_datetime</th>\n",
       "      <th>tpep_dropoff_datetime</th>\n",
       "      <th>passenger_count</th>\n",
       "      <th>trip_distance</th>\n",
       "      <th>RatecodeID</th>\n",
       "      <th>store_and_fwd_flag</th>\n",
       "      <th>PULocationID</th>\n",
       "      <th>DOLocationID</th>\n",
       "      <th>payment_type</th>\n",
       "      <th>extra</th>\n",
       "      <th>tip_amount</th>\n",
       "      <th>tolls_amount</th>\n",
       "      <th>improvement_surcharge</th>\n",
       "      <th>congestion_surcharge</th>\n",
       "      <th>Airport_fee</th>\n",
       "    </tr>\n",
       "  </thead>\n",
       "  <tbody>\n",
       "    <tr>\n",
       "      <th>0</th>\n",
       "      <td>1</td>\n",
       "      <td>2023-06-29 00:21:20</td>\n",
       "      <td>2023-06-29 00:25:20</td>\n",
       "      <td>1.0</td>\n",
       "      <td>4.95</td>\n",
       "      <td>1.0</td>\n",
       "      <td>N</td>\n",
       "      <td>20</td>\n",
       "      <td>3</td>\n",
       "      <td>Credit Card</td>\n",
       "      <td>1.0</td>\n",
       "      <td>6.067612</td>\n",
       "      <td>0.0</td>\n",
       "      <td>1.0</td>\n",
       "      <td>2.5</td>\n",
       "      <td>0.0</td>\n",
       "    </tr>\n",
       "    <tr>\n",
       "      <th>1</th>\n",
       "      <td>1</td>\n",
       "      <td>2023-06-30 17:44:43</td>\n",
       "      <td>2023-06-30 17:53:13</td>\n",
       "      <td>1.0</td>\n",
       "      <td>2.10</td>\n",
       "      <td>1.0</td>\n",
       "      <td>N</td>\n",
       "      <td>9</td>\n",
       "      <td>81</td>\n",
       "      <td>Credit Card</td>\n",
       "      <td>2.5</td>\n",
       "      <td>6.191269</td>\n",
       "      <td>0.0</td>\n",
       "      <td>1.0</td>\n",
       "      <td>2.5</td>\n",
       "      <td>0.0</td>\n",
       "    </tr>\n",
       "    <tr>\n",
       "      <th>2</th>\n",
       "      <td>1</td>\n",
       "      <td>2023-06-29 18:17:04</td>\n",
       "      <td>2023-06-29 19:23:48</td>\n",
       "      <td>1.0</td>\n",
       "      <td>0.95</td>\n",
       "      <td>1.0</td>\n",
       "      <td>N</td>\n",
       "      <td>92</td>\n",
       "      <td>90</td>\n",
       "      <td>Cash</td>\n",
       "      <td>2.5</td>\n",
       "      <td>3.983872</td>\n",
       "      <td>0.0</td>\n",
       "      <td>1.0</td>\n",
       "      <td>2.5</td>\n",
       "      <td>0.0</td>\n",
       "    </tr>\n",
       "    <tr>\n",
       "      <th>3</th>\n",
       "      <td>0</td>\n",
       "      <td>2023-06-30 21:33:53</td>\n",
       "      <td>2023-06-30 21:46:20</td>\n",
       "      <td>1.0</td>\n",
       "      <td>0.80</td>\n",
       "      <td>1.0</td>\n",
       "      <td>N</td>\n",
       "      <td>19</td>\n",
       "      <td>102</td>\n",
       "      <td>Credit Card</td>\n",
       "      <td>3.5</td>\n",
       "      <td>6.839341</td>\n",
       "      <td>0.0</td>\n",
       "      <td>1.0</td>\n",
       "      <td>2.5</td>\n",
       "      <td>0.0</td>\n",
       "    </tr>\n",
       "    <tr>\n",
       "      <th>4</th>\n",
       "      <td>1</td>\n",
       "      <td>2023-06-29 14:53:54</td>\n",
       "      <td>2023-06-29 15:22:17</td>\n",
       "      <td>1.0</td>\n",
       "      <td>4.01</td>\n",
       "      <td>1.0</td>\n",
       "      <td>N</td>\n",
       "      <td>131</td>\n",
       "      <td>229</td>\n",
       "      <td>Cash</td>\n",
       "      <td>0.0</td>\n",
       "      <td>1.468943</td>\n",
       "      <td>0.0</td>\n",
       "      <td>1.0</td>\n",
       "      <td>0.0</td>\n",
       "      <td>0.0</td>\n",
       "    </tr>\n",
       "  </tbody>\n",
       "</table>\n",
       "</div>"
      ],
      "text/plain": [
       "   VendorID tpep_pickup_datetime tpep_dropoff_datetime  passenger_count  \\\n",
       "0         1  2023-06-29 00:21:20   2023-06-29 00:25:20              1.0   \n",
       "1         1  2023-06-30 17:44:43   2023-06-30 17:53:13              1.0   \n",
       "2         1  2023-06-29 18:17:04   2023-06-29 19:23:48              1.0   \n",
       "3         0  2023-06-30 21:33:53   2023-06-30 21:46:20              1.0   \n",
       "4         1  2023-06-29 14:53:54   2023-06-29 15:22:17              1.0   \n",
       "\n",
       "   trip_distance  RatecodeID store_and_fwd_flag  PULocationID  DOLocationID  \\\n",
       "0           4.95         1.0                  N            20             3   \n",
       "1           2.10         1.0                  N             9            81   \n",
       "2           0.95         1.0                  N            92            90   \n",
       "3           0.80         1.0                  N            19           102   \n",
       "4           4.01         1.0                  N           131           229   \n",
       "\n",
       "  payment_type  extra  tip_amount  tolls_amount  improvement_surcharge  \\\n",
       "0  Credit Card    1.0    6.067612           0.0                    1.0   \n",
       "1  Credit Card    2.5    6.191269           0.0                    1.0   \n",
       "2         Cash    2.5    3.983872           0.0                    1.0   \n",
       "3  Credit Card    3.5    6.839341           0.0                    1.0   \n",
       "4         Cash    0.0    1.468943           0.0                    1.0   \n",
       "\n",
       "   congestion_surcharge  Airport_fee  \n",
       "0                   2.5          0.0  \n",
       "1                   2.5          0.0  \n",
       "2                   2.5          0.0  \n",
       "3                   2.5          0.0  \n",
       "4                   0.0          0.0  "
      ]
     },
     "execution_count": 9,
     "metadata": {},
     "output_type": "execute_result"
    }
   ],
   "source": [
    "test_data.head()"
   ]
  },
  {
   "cell_type": "markdown",
   "id": "f206b12d",
   "metadata": {
    "papermill": {
     "duration": 0.039372,
     "end_time": "2023-12-20T12:27:13.123066",
     "exception": false,
     "start_time": "2023-12-20T12:27:13.083694",
     "status": "completed"
    },
    "tags": []
   },
   "source": [
    "## ......................................................................................................................."
   ]
  },
  {
   "cell_type": "markdown",
   "id": "43db3781",
   "metadata": {
    "papermill": {
     "duration": 0.040297,
     "end_time": "2023-12-20T12:27:13.203222",
     "exception": false,
     "start_time": "2023-12-20T12:27:13.162925",
     "status": "completed"
    },
    "tags": []
   },
   "source": [
    "### EDA:"
   ]
  },
  {
   "cell_type": "markdown",
   "id": "c75d61d8",
   "metadata": {
    "papermill": {
     "duration": 0.039399,
     "end_time": "2023-12-20T12:27:13.284475",
     "exception": false,
     "start_time": "2023-12-20T12:27:13.245076",
     "status": "completed"
    },
    "tags": []
   },
   "source": [
    "### Data shape"
   ]
  },
  {
   "cell_type": "code",
   "execution_count": 10,
   "id": "7411bbd5",
   "metadata": {
    "execution": {
     "iopub.execute_input": "2023-12-20T12:27:13.367338Z",
     "iopub.status.busy": "2023-12-20T12:27:13.366885Z",
     "iopub.status.idle": "2023-12-20T12:27:13.374022Z",
     "shell.execute_reply": "2023-12-20T12:27:13.372901Z"
    },
    "papermill": {
     "duration": 0.052342,
     "end_time": "2023-12-20T12:27:13.376628",
     "exception": false,
     "start_time": "2023-12-20T12:27:13.324286",
     "status": "completed"
    },
    "tags": []
   },
   "outputs": [
    {
     "data": {
      "text/plain": [
       "(175000, 17)"
      ]
     },
     "execution_count": 10,
     "metadata": {},
     "output_type": "execute_result"
    }
   ],
   "source": [
    "data.shape"
   ]
  },
  {
   "cell_type": "markdown",
   "id": "5ad87274",
   "metadata": {
    "papermill": {
     "duration": 0.041124,
     "end_time": "2023-12-20T12:27:13.458273",
     "exception": false,
     "start_time": "2023-12-20T12:27:13.417149",
     "status": "completed"
    },
    "tags": []
   },
   "source": [
    "* 175000 samples\n",
    "* 17 columns including target variable - total_amount"
   ]
  },
  {
   "cell_type": "code",
   "execution_count": 11,
   "id": "cd49ed70",
   "metadata": {
    "execution": {
     "iopub.execute_input": "2023-12-20T12:27:13.539906Z",
     "iopub.status.busy": "2023-12-20T12:27:13.539410Z",
     "iopub.status.idle": "2023-12-20T12:27:13.647130Z",
     "shell.execute_reply": "2023-12-20T12:27:13.646165Z"
    },
    "papermill": {
     "duration": 0.151912,
     "end_time": "2023-12-20T12:27:13.649876",
     "exception": false,
     "start_time": "2023-12-20T12:27:13.497964",
     "status": "completed"
    },
    "tags": []
   },
   "outputs": [
    {
     "name": "stdout",
     "output_type": "stream",
     "text": [
      "<class 'pandas.core.frame.DataFrame'>\n",
      "RangeIndex: 175000 entries, 0 to 174999\n",
      "Data columns (total 17 columns):\n",
      " #   Column                 Non-Null Count   Dtype  \n",
      "---  ------                 --------------   -----  \n",
      " 0   VendorID               175000 non-null  int64  \n",
      " 1   tpep_pickup_datetime   175000 non-null  object \n",
      " 2   tpep_dropoff_datetime  175000 non-null  object \n",
      " 3   passenger_count        168923 non-null  float64\n",
      " 4   trip_distance          175000 non-null  float64\n",
      " 5   RatecodeID             168923 non-null  float64\n",
      " 6   store_and_fwd_flag     168923 non-null  object \n",
      " 7   PULocationID           175000 non-null  int64  \n",
      " 8   DOLocationID           175000 non-null  int64  \n",
      " 9   payment_type           175000 non-null  object \n",
      " 10  extra                  175000 non-null  float64\n",
      " 11  tip_amount             175000 non-null  float64\n",
      " 12  tolls_amount           175000 non-null  float64\n",
      " 13  improvement_surcharge  175000 non-null  float64\n",
      " 14  total_amount           175000 non-null  float64\n",
      " 15  congestion_surcharge   168923 non-null  float64\n",
      " 16  Airport_fee            168923 non-null  float64\n",
      "dtypes: float64(10), int64(3), object(4)\n",
      "memory usage: 22.7+ MB\n"
     ]
    }
   ],
   "source": [
    "data.info()"
   ]
  },
  {
   "cell_type": "code",
   "execution_count": 12,
   "id": "0f3a098b",
   "metadata": {
    "execution": {
     "iopub.execute_input": "2023-12-20T12:27:13.734865Z",
     "iopub.status.busy": "2023-12-20T12:27:13.733759Z",
     "iopub.status.idle": "2023-12-20T12:27:13.759911Z",
     "shell.execute_reply": "2023-12-20T12:27:13.758125Z"
    },
    "papermill": {
     "duration": 0.071804,
     "end_time": "2023-12-20T12:27:13.762796",
     "exception": false,
     "start_time": "2023-12-20T12:27:13.690992",
     "status": "completed"
    },
    "tags": []
   },
   "outputs": [
    {
     "name": "stdout",
     "output_type": "stream",
     "text": [
      "Index(['tpep_pickup_datetime', 'tpep_dropoff_datetime', 'store_and_fwd_flag',\n",
      "       'payment_type'],\n",
      "      dtype='object')\n",
      ".............\n",
      "Index(['VendorID', 'passenger_count', 'trip_distance', 'RatecodeID',\n",
      "       'PULocationID', 'DOLocationID', 'extra', 'tip_amount', 'tolls_amount',\n",
      "       'improvement_surcharge', 'total_amount', 'congestion_surcharge',\n",
      "       'Airport_fee'],\n",
      "      dtype='object')\n"
     ]
    }
   ],
   "source": [
    "print(data.select_dtypes(include=['object']).columns) # object type\n",
    "print('.............')\n",
    "print(data.select_dtypes(include=['int', 'float']).columns) # numerical "
   ]
  },
  {
   "cell_type": "markdown",
   "id": "1e755bf4",
   "metadata": {
    "papermill": {
     "duration": 0.040627,
     "end_time": "2023-12-20T12:27:13.843755",
     "exception": false,
     "start_time": "2023-12-20T12:27:13.803128",
     "status": "completed"
    },
    "tags": []
   },
   "source": [
    "#### Observations:\n",
    "* **Numerical features**: \n",
    "        'VendorID', 'passenger_count', 'trip_distance', 'RatecodeID',\n",
    "       'PULocationID', 'DOLocationID', 'extra', 'tip_amount', 'tolls_amount',\n",
    "       'improvement_surcharge', 'congestion_surcharge', 'Airport_fee'\n",
    "       \n",
    "* **Categorical features**: \n",
    "    'store_and_fwd_flag', 'payment_type'\n",
    "* **Datetime**: \n",
    "    'tpep_pickup_datetime', 'tpep_dropoff_datetime' are variables of 'object' data type, which are to be converted to 'datetime' type."
   ]
  },
  {
   "cell_type": "markdown",
   "id": "4f1f55e2",
   "metadata": {
    "papermill": {
     "duration": 0.040332,
     "end_time": "2023-12-20T12:27:13.924843",
     "exception": false,
     "start_time": "2023-12-20T12:27:13.884511",
     "status": "completed"
    },
    "tags": []
   },
   "source": [
    "## ......................................................................................................................."
   ]
  },
  {
   "cell_type": "markdown",
   "id": "5e35bde0",
   "metadata": {
    "papermill": {
     "duration": 0.039517,
     "end_time": "2023-12-20T12:27:14.004347",
     "exception": false,
     "start_time": "2023-12-20T12:27:13.964830",
     "status": "completed"
    },
    "tags": []
   },
   "source": [
    "#### Descriptive statistics:"
   ]
  },
  {
   "cell_type": "code",
   "execution_count": 13,
   "id": "d9fc4d8f",
   "metadata": {
    "execution": {
     "iopub.execute_input": "2023-12-20T12:27:14.087252Z",
     "iopub.status.busy": "2023-12-20T12:27:14.086798Z",
     "iopub.status.idle": "2023-12-20T12:27:14.737365Z",
     "shell.execute_reply": "2023-12-20T12:27:14.736071Z"
    },
    "papermill": {
     "duration": 0.69733,
     "end_time": "2023-12-20T12:27:14.741396",
     "exception": false,
     "start_time": "2023-12-20T12:27:14.044066",
     "status": "completed"
    },
    "tags": []
   },
   "outputs": [
    {
     "data": {
      "text/html": [
       "<div>\n",
       "<style scoped>\n",
       "    .dataframe tbody tr th:only-of-type {\n",
       "        vertical-align: middle;\n",
       "    }\n",
       "\n",
       "    .dataframe tbody tr th {\n",
       "        vertical-align: top;\n",
       "    }\n",
       "\n",
       "    .dataframe thead th {\n",
       "        text-align: right;\n",
       "    }\n",
       "</style>\n",
       "<table border=\"1\" class=\"dataframe\">\n",
       "  <thead>\n",
       "    <tr style=\"text-align: right;\">\n",
       "      <th></th>\n",
       "      <th>VendorID</th>\n",
       "      <th>tpep_pickup_datetime</th>\n",
       "      <th>tpep_dropoff_datetime</th>\n",
       "      <th>passenger_count</th>\n",
       "      <th>trip_distance</th>\n",
       "      <th>RatecodeID</th>\n",
       "      <th>store_and_fwd_flag</th>\n",
       "      <th>PULocationID</th>\n",
       "      <th>DOLocationID</th>\n",
       "      <th>payment_type</th>\n",
       "      <th>extra</th>\n",
       "      <th>tip_amount</th>\n",
       "      <th>tolls_amount</th>\n",
       "      <th>improvement_surcharge</th>\n",
       "      <th>total_amount</th>\n",
       "      <th>congestion_surcharge</th>\n",
       "      <th>Airport_fee</th>\n",
       "    </tr>\n",
       "  </thead>\n",
       "  <tbody>\n",
       "    <tr>\n",
       "      <th>count</th>\n",
       "      <td>175000.000000</td>\n",
       "      <td>175000</td>\n",
       "      <td>175000</td>\n",
       "      <td>168923.000000</td>\n",
       "      <td>175000.000000</td>\n",
       "      <td>168923.000000</td>\n",
       "      <td>168923</td>\n",
       "      <td>175000.000000</td>\n",
       "      <td>175000.000000</td>\n",
       "      <td>175000</td>\n",
       "      <td>175000.000000</td>\n",
       "      <td>175000.000000</td>\n",
       "      <td>175000.000000</td>\n",
       "      <td>175000.000000</td>\n",
       "      <td>175000.000000</td>\n",
       "      <td>168923.000000</td>\n",
       "      <td>168923.000000</td>\n",
       "    </tr>\n",
       "    <tr>\n",
       "      <th>unique</th>\n",
       "      <td>NaN</td>\n",
       "      <td>109877</td>\n",
       "      <td>109713</td>\n",
       "      <td>NaN</td>\n",
       "      <td>NaN</td>\n",
       "      <td>NaN</td>\n",
       "      <td>2</td>\n",
       "      <td>NaN</td>\n",
       "      <td>NaN</td>\n",
       "      <td>5</td>\n",
       "      <td>NaN</td>\n",
       "      <td>NaN</td>\n",
       "      <td>NaN</td>\n",
       "      <td>NaN</td>\n",
       "      <td>NaN</td>\n",
       "      <td>NaN</td>\n",
       "      <td>NaN</td>\n",
       "    </tr>\n",
       "    <tr>\n",
       "      <th>top</th>\n",
       "      <td>NaN</td>\n",
       "      <td>2023-06-28 18:11:16</td>\n",
       "      <td>2023-06-29 19:08:22</td>\n",
       "      <td>NaN</td>\n",
       "      <td>NaN</td>\n",
       "      <td>NaN</td>\n",
       "      <td>N</td>\n",
       "      <td>NaN</td>\n",
       "      <td>NaN</td>\n",
       "      <td>Credit Card</td>\n",
       "      <td>NaN</td>\n",
       "      <td>NaN</td>\n",
       "      <td>NaN</td>\n",
       "      <td>NaN</td>\n",
       "      <td>NaN</td>\n",
       "      <td>NaN</td>\n",
       "      <td>NaN</td>\n",
       "    </tr>\n",
       "    <tr>\n",
       "      <th>freq</th>\n",
       "      <td>NaN</td>\n",
       "      <td>8</td>\n",
       "      <td>10</td>\n",
       "      <td>NaN</td>\n",
       "      <td>NaN</td>\n",
       "      <td>NaN</td>\n",
       "      <td>167729</td>\n",
       "      <td>NaN</td>\n",
       "      <td>NaN</td>\n",
       "      <td>135257</td>\n",
       "      <td>NaN</td>\n",
       "      <td>NaN</td>\n",
       "      <td>NaN</td>\n",
       "      <td>NaN</td>\n",
       "      <td>NaN</td>\n",
       "      <td>NaN</td>\n",
       "      <td>NaN</td>\n",
       "    </tr>\n",
       "    <tr>\n",
       "      <th>mean</th>\n",
       "      <td>0.728377</td>\n",
       "      <td>NaN</td>\n",
       "      <td>NaN</td>\n",
       "      <td>1.357678</td>\n",
       "      <td>5.145930</td>\n",
       "      <td>1.518307</td>\n",
       "      <td>NaN</td>\n",
       "      <td>132.710349</td>\n",
       "      <td>132.701429</td>\n",
       "      <td>NaN</td>\n",
       "      <td>1.932143</td>\n",
       "      <td>6.127497</td>\n",
       "      <td>0.646816</td>\n",
       "      <td>0.979689</td>\n",
       "      <td>29.633901</td>\n",
       "      <td>2.246971</td>\n",
       "      <td>0.158825</td>\n",
       "    </tr>\n",
       "    <tr>\n",
       "      <th>std</th>\n",
       "      <td>0.445606</td>\n",
       "      <td>NaN</td>\n",
       "      <td>NaN</td>\n",
       "      <td>0.891283</td>\n",
       "      <td>394.971052</td>\n",
       "      <td>6.514678</td>\n",
       "      <td>NaN</td>\n",
       "      <td>76.148799</td>\n",
       "      <td>76.192493</td>\n",
       "      <td>NaN</td>\n",
       "      <td>1.948497</td>\n",
       "      <td>4.610834</td>\n",
       "      <td>2.328274</td>\n",
       "      <td>0.198775</td>\n",
       "      <td>25.425206</td>\n",
       "      <td>0.819216</td>\n",
       "      <td>0.511968</td>\n",
       "    </tr>\n",
       "    <tr>\n",
       "      <th>min</th>\n",
       "      <td>0.000000</td>\n",
       "      <td>NaN</td>\n",
       "      <td>NaN</td>\n",
       "      <td>0.000000</td>\n",
       "      <td>0.000000</td>\n",
       "      <td>1.000000</td>\n",
       "      <td>NaN</td>\n",
       "      <td>1.000000</td>\n",
       "      <td>1.000000</td>\n",
       "      <td>NaN</td>\n",
       "      <td>-7.500000</td>\n",
       "      <td>0.000079</td>\n",
       "      <td>-29.300000</td>\n",
       "      <td>-1.000000</td>\n",
       "      <td>-576.750000</td>\n",
       "      <td>-2.500000</td>\n",
       "      <td>-1.750000</td>\n",
       "    </tr>\n",
       "    <tr>\n",
       "      <th>25%</th>\n",
       "      <td>0.000000</td>\n",
       "      <td>NaN</td>\n",
       "      <td>NaN</td>\n",
       "      <td>1.000000</td>\n",
       "      <td>1.080000</td>\n",
       "      <td>1.000000</td>\n",
       "      <td>NaN</td>\n",
       "      <td>67.000000</td>\n",
       "      <td>67.000000</td>\n",
       "      <td>NaN</td>\n",
       "      <td>0.000000</td>\n",
       "      <td>3.473321</td>\n",
       "      <td>0.000000</td>\n",
       "      <td>1.000000</td>\n",
       "      <td>16.300000</td>\n",
       "      <td>2.500000</td>\n",
       "      <td>0.000000</td>\n",
       "    </tr>\n",
       "    <tr>\n",
       "      <th>50%</th>\n",
       "      <td>1.000000</td>\n",
       "      <td>NaN</td>\n",
       "      <td>NaN</td>\n",
       "      <td>1.000000</td>\n",
       "      <td>1.840000</td>\n",
       "      <td>1.000000</td>\n",
       "      <td>NaN</td>\n",
       "      <td>133.000000</td>\n",
       "      <td>133.000000</td>\n",
       "      <td>NaN</td>\n",
       "      <td>1.000000</td>\n",
       "      <td>5.286217</td>\n",
       "      <td>0.000000</td>\n",
       "      <td>1.000000</td>\n",
       "      <td>21.450000</td>\n",
       "      <td>2.500000</td>\n",
       "      <td>0.000000</td>\n",
       "    </tr>\n",
       "    <tr>\n",
       "      <th>75%</th>\n",
       "      <td>1.000000</td>\n",
       "      <td>NaN</td>\n",
       "      <td>NaN</td>\n",
       "      <td>1.000000</td>\n",
       "      <td>3.610000</td>\n",
       "      <td>1.000000</td>\n",
       "      <td>NaN</td>\n",
       "      <td>199.000000</td>\n",
       "      <td>199.000000</td>\n",
       "      <td>NaN</td>\n",
       "      <td>2.500000</td>\n",
       "      <td>7.502746</td>\n",
       "      <td>0.000000</td>\n",
       "      <td>1.000000</td>\n",
       "      <td>31.800000</td>\n",
       "      <td>2.500000</td>\n",
       "      <td>0.000000</td>\n",
       "    </tr>\n",
       "    <tr>\n",
       "      <th>max</th>\n",
       "      <td>2.000000</td>\n",
       "      <td>NaN</td>\n",
       "      <td>NaN</td>\n",
       "      <td>9.000000</td>\n",
       "      <td>135182.060000</td>\n",
       "      <td>99.000000</td>\n",
       "      <td>NaN</td>\n",
       "      <td>264.000000</td>\n",
       "      <td>264.000000</td>\n",
       "      <td>NaN</td>\n",
       "      <td>11.750000</td>\n",
       "      <td>484.876151</td>\n",
       "      <td>80.000000</td>\n",
       "      <td>1.000000</td>\n",
       "      <td>587.250000</td>\n",
       "      <td>2.500000</td>\n",
       "      <td>1.750000</td>\n",
       "    </tr>\n",
       "  </tbody>\n",
       "</table>\n",
       "</div>"
      ],
      "text/plain": [
       "             VendorID tpep_pickup_datetime tpep_dropoff_datetime  \\\n",
       "count   175000.000000               175000                175000   \n",
       "unique            NaN               109877                109713   \n",
       "top               NaN  2023-06-28 18:11:16   2023-06-29 19:08:22   \n",
       "freq              NaN                    8                    10   \n",
       "mean         0.728377                  NaN                   NaN   \n",
       "std          0.445606                  NaN                   NaN   \n",
       "min          0.000000                  NaN                   NaN   \n",
       "25%          0.000000                  NaN                   NaN   \n",
       "50%          1.000000                  NaN                   NaN   \n",
       "75%          1.000000                  NaN                   NaN   \n",
       "max          2.000000                  NaN                   NaN   \n",
       "\n",
       "        passenger_count  trip_distance     RatecodeID store_and_fwd_flag  \\\n",
       "count     168923.000000  175000.000000  168923.000000             168923   \n",
       "unique              NaN            NaN            NaN                  2   \n",
       "top                 NaN            NaN            NaN                  N   \n",
       "freq                NaN            NaN            NaN             167729   \n",
       "mean           1.357678       5.145930       1.518307                NaN   \n",
       "std            0.891283     394.971052       6.514678                NaN   \n",
       "min            0.000000       0.000000       1.000000                NaN   \n",
       "25%            1.000000       1.080000       1.000000                NaN   \n",
       "50%            1.000000       1.840000       1.000000                NaN   \n",
       "75%            1.000000       3.610000       1.000000                NaN   \n",
       "max            9.000000  135182.060000      99.000000                NaN   \n",
       "\n",
       "         PULocationID   DOLocationID payment_type          extra  \\\n",
       "count   175000.000000  175000.000000       175000  175000.000000   \n",
       "unique            NaN            NaN            5            NaN   \n",
       "top               NaN            NaN  Credit Card            NaN   \n",
       "freq              NaN            NaN       135257            NaN   \n",
       "mean       132.710349     132.701429          NaN       1.932143   \n",
       "std         76.148799      76.192493          NaN       1.948497   \n",
       "min          1.000000       1.000000          NaN      -7.500000   \n",
       "25%         67.000000      67.000000          NaN       0.000000   \n",
       "50%        133.000000     133.000000          NaN       1.000000   \n",
       "75%        199.000000     199.000000          NaN       2.500000   \n",
       "max        264.000000     264.000000          NaN      11.750000   \n",
       "\n",
       "           tip_amount   tolls_amount  improvement_surcharge   total_amount  \\\n",
       "count   175000.000000  175000.000000          175000.000000  175000.000000   \n",
       "unique            NaN            NaN                    NaN            NaN   \n",
       "top               NaN            NaN                    NaN            NaN   \n",
       "freq              NaN            NaN                    NaN            NaN   \n",
       "mean         6.127497       0.646816               0.979689      29.633901   \n",
       "std          4.610834       2.328274               0.198775      25.425206   \n",
       "min          0.000079     -29.300000              -1.000000    -576.750000   \n",
       "25%          3.473321       0.000000               1.000000      16.300000   \n",
       "50%          5.286217       0.000000               1.000000      21.450000   \n",
       "75%          7.502746       0.000000               1.000000      31.800000   \n",
       "max        484.876151      80.000000               1.000000     587.250000   \n",
       "\n",
       "        congestion_surcharge    Airport_fee  \n",
       "count          168923.000000  168923.000000  \n",
       "unique                   NaN            NaN  \n",
       "top                      NaN            NaN  \n",
       "freq                     NaN            NaN  \n",
       "mean                2.246971       0.158825  \n",
       "std                 0.819216       0.511968  \n",
       "min                -2.500000      -1.750000  \n",
       "25%                 2.500000       0.000000  \n",
       "50%                 2.500000       0.000000  \n",
       "75%                 2.500000       0.000000  \n",
       "max                 2.500000       1.750000  "
      ]
     },
     "execution_count": 13,
     "metadata": {},
     "output_type": "execute_result"
    }
   ],
   "source": [
    "data.describe(include='all')"
   ]
  },
  {
   "cell_type": "markdown",
   "id": "02ebcdb4",
   "metadata": {
    "papermill": {
     "duration": 0.041907,
     "end_time": "2023-12-20T12:27:14.824464",
     "exception": false,
     "start_time": "2023-12-20T12:27:14.782557",
     "status": "completed"
    },
    "tags": []
   },
   "source": [
    "## ......................................................................................................................."
   ]
  },
  {
   "cell_type": "markdown",
   "id": "26474705",
   "metadata": {
    "papermill": {
     "duration": 0.040967,
     "end_time": "2023-12-20T12:27:14.906370",
     "exception": false,
     "start_time": "2023-12-20T12:27:14.865403",
     "status": "completed"
    },
    "tags": []
   },
   "source": [
    "#### Data vizualization:\n",
    "**1. Histogram:**"
   ]
  },
  {
   "cell_type": "code",
   "execution_count": 14,
   "id": "83602943",
   "metadata": {
    "execution": {
     "iopub.execute_input": "2023-12-20T12:27:14.989700Z",
     "iopub.status.busy": "2023-12-20T12:27:14.989259Z",
     "iopub.status.idle": "2023-12-20T12:27:19.719979Z",
     "shell.execute_reply": "2023-12-20T12:27:19.718787Z"
    },
    "papermill": {
     "duration": 4.776425,
     "end_time": "2023-12-20T12:27:19.723321",
     "exception": false,
     "start_time": "2023-12-20T12:27:14.946896",
     "status": "completed"
    },
    "tags": []
   },
   "outputs": [
    {
     "data": {
      "image/png": "[encoded data removed]",
      "text/plain": [
       "<Figure size 1500x1000 with 16 Axes>"
      ]
     },
     "metadata": {},
     "output_type": "display_data"
    }
   ],
   "source": [
    "# Plot histogram\n",
    "data.hist(bins = 100, figsize=(15,10))\n",
    "plt.show()"
   ]
  },
  {
   "cell_type": "code",
   "execution_count": 15,
   "id": "af97ea39",
   "metadata": {
    "execution": {
     "iopub.execute_input": "2023-12-20T12:27:19.811725Z",
     "iopub.status.busy": "2023-12-20T12:27:19.810352Z",
     "iopub.status.idle": "2023-12-20T12:27:19.906912Z",
     "shell.execute_reply": "2023-12-20T12:27:19.905651Z"
    },
    "papermill": {
     "duration": 0.143285,
     "end_time": "2023-12-20T12:27:19.909674",
     "exception": false,
     "start_time": "2023-12-20T12:27:19.766389",
     "status": "completed"
    },
    "tags": []
   },
   "outputs": [
    {
     "name": "stdout",
     "output_type": "stream",
     "text": [
      "VendorID\n",
      "VendorID\n",
      "1    127340\n",
      "0     47597\n",
      "2        63\n",
      "Name: count, dtype: int64\n",
      "..............................\n",
      "passenger_count\n",
      "passenger_count\n",
      "1.0    128534\n",
      "2.0     24316\n",
      "3.0      6018\n",
      "4.0      3668\n",
      "0.0      2818\n",
      "5.0      1970\n",
      "6.0      1596\n",
      "8.0         2\n",
      "9.0         1\n",
      "Name: count, dtype: int64\n",
      "..............................\n",
      "trip_distance\n",
      "trip_distance\n",
      "0.00     2632\n",
      "1.00     2431\n",
      "0.90     2383\n",
      "1.20     2363\n",
      "1.10     2297\n",
      "         ... \n",
      "31.42       1\n",
      "26.80       1\n",
      "27.53       1\n",
      "13.29       1\n",
      "15.17       1\n",
      "Name: count, Length: 2929, dtype: int64\n",
      "..............................\n",
      "RatecodeID\n",
      "RatecodeID\n",
      "1.0     158652\n",
      "2.0       7314\n",
      "5.0       1036\n",
      "99.0       748\n",
      "3.0        727\n",
      "4.0        446\n",
      "Name: count, dtype: int64\n",
      "..............................\n",
      "PULocationID\n",
      "PULocationID\n",
      "264    730\n",
      "85     725\n",
      "43     719\n",
      "162    718\n",
      "97     717\n",
      "      ... \n",
      "254    613\n",
      "94     613\n",
      "153    611\n",
      "179    606\n",
      "252    606\n",
      "Name: count, Length: 264, dtype: int64\n",
      "..............................\n",
      "DOLocationID\n",
      "DOLocationID\n",
      "263    759\n",
      "127    736\n",
      "37     729\n",
      "115    726\n",
      "254    721\n",
      "      ... \n",
      "9      611\n",
      "140    610\n",
      "195    607\n",
      "187    606\n",
      "183    605\n",
      "Name: count, Length: 264, dtype: int64\n",
      "..............................\n",
      "extra\n",
      "extra\n",
      " 0.00     51247\n",
      " 2.50     50180\n",
      " 1.00     35614\n",
      " 5.00     17280\n",
      " 3.50     11839\n",
      " 7.50      2351\n",
      " 6.00      1774\n",
      " 4.25       871\n",
      " 9.25       812\n",
      "-1.00       514\n",
      "-2.50       472\n",
      " 1.75       413\n",
      " 2.75       375\n",
      " 6.75       284\n",
      " 11.75      258\n",
      " 10.25      231\n",
      " 7.75       199\n",
      " 10.00       96\n",
      "-5.00        76\n",
      " 8.50        56\n",
      "-7.50        22\n",
      "-6.00        21\n",
      " 5.25         8\n",
      " 0.75         2\n",
      " 3.25         2\n",
      " 0.25         1\n",
      " 0.11         1\n",
      " 1.50         1\n",
      "Name: count, dtype: int64\n",
      "..............................\n",
      "tip_amount\n",
      "tip_amount\n",
      "7.165589     1\n",
      "3.850730     1\n",
      "5.311822     1\n",
      "9.137562     1\n",
      "6.716744     1\n",
      "            ..\n",
      "11.560123    1\n",
      "3.256321     1\n",
      "6.093614     1\n",
      "1.099215     1\n",
      "6.541699     1\n",
      "Name: count, Length: 175000, dtype: int64\n",
      "..............................\n",
      "tolls_amount\n",
      "tolls_amount\n",
      "0.00     159328\n",
      "6.55      14011\n",
      "12.75       254\n",
      "14.75       209\n",
      "3.00        132\n",
      "          ...  \n",
      "63.00         1\n",
      "18.64         1\n",
      "15.10         1\n",
      "20.50         1\n",
      "14.99         1\n",
      "Name: count, Length: 214, dtype: int64\n",
      "..............................\n",
      "improvement_surcharge\n",
      "improvement_surcharge\n",
      " 1.0    173145\n",
      "-1.0      1725\n",
      " 0.3        85\n",
      " 0.0        45\n",
      "Name: count, dtype: int64\n",
      "..............................\n",
      "total_amount\n",
      "total_amount\n",
      "16.80     1787\n",
      "12.60     1648\n",
      "18.00     1515\n",
      "21.00     1490\n",
      "19.80     1260\n",
      "          ... \n",
      "23.64        1\n",
      "130.65       1\n",
      "40.46        1\n",
      "79.97        1\n",
      "57.43        1\n",
      "Name: count, Length: 8164, dtype: int64\n",
      "..............................\n",
      "congestion_surcharge\n",
      "congestion_surcharge\n",
      " 2.5    153212\n",
      " 0.0     14325\n",
      "-2.5      1386\n",
      "Name: count, dtype: int64\n",
      "..............................\n",
      "Airport_fee\n",
      "Airport_fee\n",
      " 0.00    153074\n",
      " 1.75     15590\n",
      "-1.75       259\n",
      "Name: count, dtype: int64\n",
      "..............................\n"
     ]
    }
   ],
   "source": [
    "# counts of unique values\n",
    "lst = data.select_dtypes(['int', 'float'])\n",
    "for i, v in lst.items():\n",
    "    print(i)\n",
    "    print(data[i].value_counts())\n",
    "    print(\"..............................\")"
   ]
  },
  {
   "cell_type": "markdown",
   "id": "bb4481e4",
   "metadata": {
    "papermill": {
     "duration": 0.042591,
     "end_time": "2023-12-20T12:27:19.994650",
     "exception": false,
     "start_time": "2023-12-20T12:27:19.952059",
     "status": "completed"
    },
    "tags": []
   },
   "source": [
    "**Observations:** \n",
    "* **RatecodeID, passenger_count, tolls_amount, VendorID, Airport_fee, congestion_surcharge and improvement_surcharge** have a unique mode or one single peak. Thus they are unimodal.\n",
    "\n",
    "* **extra, trip_distance, tip_amount, total_amount** have got multiple peaks. Thus, they are multimodal.\n",
    "\n",
    "* **VendorID** has three distinct groups i.e '0', '1' and '2' within the data set, with most of the entries having 'VendorID' = 1.\n",
    "\n",
    "* **Airport_fee** has three distinct groups i.e '-1.75', '0' and '1.75' within the data set, with most of the entries having 'Airport_fee' = 0.\n",
    "\n",
    "* **congestion_surcharge** has three distinct groups i.e '-2.5', '0' and '2.5' within the data set, with most of the entries having 'congestion_surcharge' = 2.5.\n",
    "\n",
    "* **PULocationID** and **DOLocationID**: the frequencies of all bins are roughly the same. Thus, the distribution is uniform.\n",
    "\n"
   ]
  },
  {
   "cell_type": "markdown",
   "id": "fb157d71",
   "metadata": {
    "papermill": {
     "duration": 0.04201,
     "end_time": "2023-12-20T12:27:20.080424",
     "exception": false,
     "start_time": "2023-12-20T12:27:20.038414",
     "status": "completed"
    },
    "tags": []
   },
   "source": [
    "**2. Catplot:** (for categorical features)"
   ]
  },
  {
   "cell_type": "code",
   "execution_count": 16,
   "id": "4f6cda99",
   "metadata": {
    "execution": {
     "iopub.execute_input": "2023-12-20T12:27:20.168495Z",
     "iopub.status.busy": "2023-12-20T12:27:20.168000Z",
     "iopub.status.idle": "2023-12-20T12:27:22.164401Z",
     "shell.execute_reply": "2023-12-20T12:27:22.163347Z"
    },
    "papermill": {
     "duration": 2.044181,
     "end_time": "2023-12-20T12:27:22.167154",
     "exception": false,
     "start_time": "2023-12-20T12:27:20.122973",
     "status": "completed"
    },
    "tags": []
   },
   "outputs": [
    {
     "name": "stderr",
     "output_type": "stream",
     "text": [
      "/opt/conda/lib/python3.10/site-packages/seaborn/axisgrid.py:118: UserWarning: The figure layout has changed to tight\n",
      "  self._figure.tight_layout(*args, **kwargs)\n",
      "/opt/conda/lib/python3.10/site-packages/seaborn/axisgrid.py:118: UserWarning: The figure layout has changed to tight\n",
      "  self._figure.tight_layout(*args, **kwargs)\n"
     ]
    },
    {
     "data": {
      "text/plain": [
       "<seaborn.axisgrid.FacetGrid at 0x7ce08cb52860>"
      ]
     },
     "execution_count": 16,
     "metadata": {},
     "output_type": "execute_result"
    },
    {
     "data": {
      "image/png": "[encoded data removed]",
      "text/plain": [
       "<Figure size 500x500 with 1 Axes>"
      ]
     },
     "metadata": {},
     "output_type": "display_data"
    },
    {
     "data": {
      "image/png": "[encoded data removed]",
      "text/plain": [
       "<Figure size 500x500 with 1 Axes>"
      ]
     },
     "metadata": {},
     "output_type": "display_data"
    }
   ],
   "source": [
    "# plot catplot\n",
    "sns.catplot(data=data, x='store_and_fwd_flag', kind='count')\n",
    "sns.catplot(data=data, x='payment_type', kind='count')"
   ]
  },
  {
   "cell_type": "code",
   "execution_count": 17,
   "id": "d3ec12ae",
   "metadata": {
    "execution": {
     "iopub.execute_input": "2023-12-20T12:27:22.257148Z",
     "iopub.status.busy": "2023-12-20T12:27:22.256726Z",
     "iopub.status.idle": "2023-12-20T12:27:22.317398Z",
     "shell.execute_reply": "2023-12-20T12:27:22.315937Z"
    },
    "papermill": {
     "duration": 0.108729,
     "end_time": "2023-12-20T12:27:22.319592",
     "exception": false,
     "start_time": "2023-12-20T12:27:22.210863",
     "status": "completed"
    },
    "tags": []
   },
   "outputs": [
    {
     "name": "stdout",
     "output_type": "stream",
     "text": [
      "store_and_fwd_flag\n",
      "N    167729\n",
      "Y      1194\n",
      "Name: count, dtype: int64\n",
      "payment_type\n",
      "Credit Card    135257\n",
      "Cash            30141\n",
      "Wallet           6077\n",
      "unknown          2333\n",
      "UPI              1192\n",
      "Name: count, dtype: int64\n"
     ]
    }
   ],
   "source": [
    "# counts of unique values\n",
    "print(data['store_and_fwd_flag'].value_counts())\n",
    "print(data['payment_type'].value_counts())"
   ]
  },
  {
   "cell_type": "markdown",
   "id": "86f8f2e6",
   "metadata": {
    "papermill": {
     "duration": 0.045147,
     "end_time": "2023-12-20T12:27:22.408461",
     "exception": false,
     "start_time": "2023-12-20T12:27:22.363314",
     "status": "completed"
    },
    "tags": []
   },
   "source": [
    "**Observations:**\n",
    "* **'store_and_fwd_flag':** \n",
    "    * Has two distinct groups i.e 'N' and 'Y' within the data set.\n",
    "    * Most frequent value is 'N'.\n",
    "* **'payment_type':** \n",
    "    * Has four distinct groups within the data set.\n",
    "    * Most frequent value is 'Credit Card'."
   ]
  },
  {
   "cell_type": "markdown",
   "id": "f4998a71",
   "metadata": {
    "papermill": {
     "duration": 0.043386,
     "end_time": "2023-12-20T12:27:22.495468",
     "exception": false,
     "start_time": "2023-12-20T12:27:22.452082",
     "status": "completed"
    },
    "tags": []
   },
   "source": [
    "**3. Boxplot:**"
   ]
  },
  {
   "cell_type": "code",
   "execution_count": 18,
   "id": "6e2ceef3",
   "metadata": {
    "execution": {
     "iopub.execute_input": "2023-12-20T12:27:22.587428Z",
     "iopub.status.busy": "2023-12-20T12:27:22.586244Z",
     "iopub.status.idle": "2023-12-20T12:27:24.711640Z",
     "shell.execute_reply": "2023-12-20T12:27:24.710500Z"
    },
    "papermill": {
     "duration": 2.173519,
     "end_time": "2023-12-20T12:27:24.714507",
     "exception": false,
     "start_time": "2023-12-20T12:27:22.540988",
     "status": "completed"
    },
    "tags": []
   },
   "outputs": [
    {
     "data": {
      "image/png": "[encoded data removed]",
      "text/plain": [
       "<Figure size 1600x1000 with 13 Axes>"
      ]
     },
     "metadata": {},
     "output_type": "display_data"
    }
   ],
   "source": [
    "# plot boxplot\n",
    "data.plot(kind='box',sharey = False, subplots=True,figsize=(16,10))\n",
    "plt.subplots_adjust(wspace = 3)\n",
    "plt.show()"
   ]
  },
  {
   "cell_type": "code",
   "execution_count": 19,
   "id": "19e3f920",
   "metadata": {
    "execution": {
     "iopub.execute_input": "2023-12-20T12:27:24.810260Z",
     "iopub.status.busy": "2023-12-20T12:27:24.809495Z",
     "iopub.status.idle": "2023-12-20T12:27:24.829110Z",
     "shell.execute_reply": "2023-12-20T12:27:24.827352Z"
    },
    "papermill": {
     "duration": 0.070106,
     "end_time": "2023-12-20T12:27:24.831709",
     "exception": false,
     "start_time": "2023-12-20T12:27:24.761603",
     "status": "completed"
    },
    "tags": []
   },
   "outputs": [
    {
     "name": "stdout",
     "output_type": "stream",
     "text": [
      "(2636, 17)\n",
      "(1, 17)\n",
      "29.633900971428567\n",
      "(2818, 17)\n"
     ]
    }
   ],
   "source": [
    "# trip_distance\n",
    "print(data[(data['trip_distance'] > 9000) | (data['trip_distance'] == 0)].shape)\n",
    "\n",
    "# tip_amout\n",
    "print(data[data['tip_amount'] > 400].shape)\n",
    "\n",
    "# Average fare\n",
    "print(data['total_amount'].mean())\n",
    "\n",
    "# passenger_count\n",
    "print(data[data['passenger_count'] == 0].shape)"
   ]
  },
  {
   "cell_type": "markdown",
   "id": "85be1292",
   "metadata": {
    "papermill": {
     "duration": 0.045943,
     "end_time": "2023-12-20T12:27:24.923330",
     "exception": false,
     "start_time": "2023-12-20T12:27:24.877387",
     "status": "completed"
    },
    "tags": []
   },
   "source": [
    "#### Observations:\n",
    "\n",
    "* **trip_distance:** \n",
    "    * trip_distance > 9000 is very large (4 entries)\n",
    "    * trip_distance == 0 is not possible (2632 entries)\n",
    "    * Replace those values with the median.\n",
    "    \n",
    "* **tip_amout:** \n",
    "    * Average fare = 29.63\n",
    "    * tip > 400 is very high compared to average fare. (1 entry)\n",
    "    * It is replaced with the median.\n",
    "    \n",
    "* **passenger_count:**\n",
    "    * 0 passengers is not possible. (2818 entries)\n",
    "    * Replace values equal to 0 with the median."
   ]
  },
  {
   "cell_type": "markdown",
   "id": "10cc2d85",
   "metadata": {
    "papermill": {
     "duration": 0.04581,
     "end_time": "2023-12-20T12:27:25.017527",
     "exception": false,
     "start_time": "2023-12-20T12:27:24.971717",
     "status": "completed"
    },
    "tags": []
   },
   "source": [
    "## ......................................................................................................................."
   ]
  },
  {
   "cell_type": "markdown",
   "id": "bef82e09",
   "metadata": {
    "papermill": {
     "duration": 0.045836,
     "end_time": "2023-12-20T12:27:25.109436",
     "exception": false,
     "start_time": "2023-12-20T12:27:25.063600",
     "status": "completed"
    },
    "tags": []
   },
   "source": [
    "#### Correlation Matrix:\n",
    "* Find highly correlated features and remove the columns.  \n",
    "* The columns that have correlation values of more than 0. 75 will be removed."
   ]
  },
  {
   "cell_type": "code",
   "execution_count": 20,
   "id": "2cf488ff",
   "metadata": {
    "execution": {
     "iopub.execute_input": "2023-12-20T12:27:25.204529Z",
     "iopub.status.busy": "2023-12-20T12:27:25.204046Z",
     "iopub.status.idle": "2023-12-20T12:27:25.334172Z",
     "shell.execute_reply": "2023-12-20T12:27:25.332825Z"
    },
    "papermill": {
     "duration": 0.181997,
     "end_time": "2023-12-20T12:27:25.337252",
     "exception": false,
     "start_time": "2023-12-20T12:27:25.155255",
     "status": "completed"
    },
    "tags": []
   },
   "outputs": [
    {
     "data": {
      "text/html": [
       "<div>\n",
       "<style scoped>\n",
       "    .dataframe tbody tr th:only-of-type {\n",
       "        vertical-align: middle;\n",
       "    }\n",
       "\n",
       "    .dataframe tbody tr th {\n",
       "        vertical-align: top;\n",
       "    }\n",
       "\n",
       "    .dataframe thead th {\n",
       "        text-align: right;\n",
       "    }\n",
       "</style>\n",
       "<table border=\"1\" class=\"dataframe\">\n",
       "  <thead>\n",
       "    <tr style=\"text-align: right;\">\n",
       "      <th></th>\n",
       "      <th>VendorID</th>\n",
       "      <th>passenger_count</th>\n",
       "      <th>trip_distance</th>\n",
       "      <th>RatecodeID</th>\n",
       "      <th>PULocationID</th>\n",
       "      <th>DOLocationID</th>\n",
       "      <th>extra</th>\n",
       "      <th>tip_amount</th>\n",
       "      <th>tolls_amount</th>\n",
       "      <th>improvement_surcharge</th>\n",
       "      <th>total_amount</th>\n",
       "      <th>congestion_surcharge</th>\n",
       "      <th>Airport_fee</th>\n",
       "    </tr>\n",
       "  </thead>\n",
       "  <tbody>\n",
       "    <tr>\n",
       "      <th>VendorID</th>\n",
       "      <td>1.000000</td>\n",
       "      <td>0.099990</td>\n",
       "      <td>0.002857</td>\n",
       "      <td>-0.106361</td>\n",
       "      <td>-0.001315</td>\n",
       "      <td>-0.003946</td>\n",
       "      <td>-0.530096</td>\n",
       "      <td>0.043941</td>\n",
       "      <td>0.023642</td>\n",
       "      <td>-0.063197</td>\n",
       "      <td>0.039695</td>\n",
       "      <td>-0.023495</td>\n",
       "      <td>0.036483</td>\n",
       "    </tr>\n",
       "    <tr>\n",
       "      <th>passenger_count</th>\n",
       "      <td>0.099990</td>\n",
       "      <td>1.000000</td>\n",
       "      <td>0.010163</td>\n",
       "      <td>-0.023627</td>\n",
       "      <td>-0.000822</td>\n",
       "      <td>-0.000726</td>\n",
       "      <td>-0.039732</td>\n",
       "      <td>0.017175</td>\n",
       "      <td>0.042856</td>\n",
       "      <td>-0.002800</td>\n",
       "      <td>0.053224</td>\n",
       "      <td>-0.002266</td>\n",
       "      <td>0.040786</td>\n",
       "    </tr>\n",
       "    <tr>\n",
       "      <th>trip_distance</th>\n",
       "      <td>0.002857</td>\n",
       "      <td>0.010163</td>\n",
       "      <td>1.000000</td>\n",
       "      <td>0.014745</td>\n",
       "      <td>-0.000958</td>\n",
       "      <td>-0.002496</td>\n",
       "      <td>-0.001849</td>\n",
       "      <td>0.005847</td>\n",
       "      <td>0.006778</td>\n",
       "      <td>0.000459</td>\n",
       "      <td>0.009911</td>\n",
       "      <td>-0.060883</td>\n",
       "      <td>0.126236</td>\n",
       "    </tr>\n",
       "    <tr>\n",
       "      <th>RatecodeID</th>\n",
       "      <td>-0.106361</td>\n",
       "      <td>-0.023627</td>\n",
       "      <td>0.014745</td>\n",
       "      <td>1.000000</td>\n",
       "      <td>-0.001090</td>\n",
       "      <td>-0.000644</td>\n",
       "      <td>-0.070959</td>\n",
       "      <td>-0.032172</td>\n",
       "      <td>0.063754</td>\n",
       "      <td>0.002579</td>\n",
       "      <td>0.055527</td>\n",
       "      <td>-0.197608</td>\n",
       "      <td>-0.004480</td>\n",
       "    </tr>\n",
       "    <tr>\n",
       "      <th>PULocationID</th>\n",
       "      <td>-0.001315</td>\n",
       "      <td>-0.000822</td>\n",
       "      <td>-0.000958</td>\n",
       "      <td>-0.001090</td>\n",
       "      <td>1.000000</td>\n",
       "      <td>-0.000161</td>\n",
       "      <td>0.001495</td>\n",
       "      <td>0.000748</td>\n",
       "      <td>-0.000868</td>\n",
       "      <td>-0.000501</td>\n",
       "      <td>0.000715</td>\n",
       "      <td>0.001194</td>\n",
       "      <td>-0.000654</td>\n",
       "    </tr>\n",
       "    <tr>\n",
       "      <th>DOLocationID</th>\n",
       "      <td>-0.003946</td>\n",
       "      <td>-0.000726</td>\n",
       "      <td>-0.002496</td>\n",
       "      <td>-0.000644</td>\n",
       "      <td>-0.000161</td>\n",
       "      <td>1.000000</td>\n",
       "      <td>0.002955</td>\n",
       "      <td>-0.000247</td>\n",
       "      <td>-0.002290</td>\n",
       "      <td>-0.002810</td>\n",
       "      <td>-0.002954</td>\n",
       "      <td>0.000641</td>\n",
       "      <td>-0.004940</td>\n",
       "    </tr>\n",
       "    <tr>\n",
       "      <th>extra</th>\n",
       "      <td>-0.530096</td>\n",
       "      <td>-0.039732</td>\n",
       "      <td>-0.001849</td>\n",
       "      <td>-0.070959</td>\n",
       "      <td>0.001495</td>\n",
       "      <td>0.002955</td>\n",
       "      <td>1.000000</td>\n",
       "      <td>0.160331</td>\n",
       "      <td>0.201179</td>\n",
       "      <td>0.170831</td>\n",
       "      <td>0.234346</td>\n",
       "      <td>0.068088</td>\n",
       "      <td>0.337456</td>\n",
       "    </tr>\n",
       "    <tr>\n",
       "      <th>tip_amount</th>\n",
       "      <td>0.043941</td>\n",
       "      <td>0.017175</td>\n",
       "      <td>0.005847</td>\n",
       "      <td>-0.032172</td>\n",
       "      <td>0.000748</td>\n",
       "      <td>-0.000247</td>\n",
       "      <td>0.160331</td>\n",
       "      <td>1.000000</td>\n",
       "      <td>0.411588</td>\n",
       "      <td>0.076436</td>\n",
       "      <td>0.638658</td>\n",
       "      <td>-0.059346</td>\n",
       "      <td>0.335614</td>\n",
       "    </tr>\n",
       "    <tr>\n",
       "      <th>tolls_amount</th>\n",
       "      <td>0.023642</td>\n",
       "      <td>0.042856</td>\n",
       "      <td>0.006778</td>\n",
       "      <td>0.063754</td>\n",
       "      <td>-0.000868</td>\n",
       "      <td>-0.002290</td>\n",
       "      <td>0.201179</td>\n",
       "      <td>0.411588</td>\n",
       "      <td>1.000000</td>\n",
       "      <td>0.051190</td>\n",
       "      <td>0.684765</td>\n",
       "      <td>-0.134409</td>\n",
       "      <td>0.437600</td>\n",
       "    </tr>\n",
       "    <tr>\n",
       "      <th>improvement_surcharge</th>\n",
       "      <td>-0.063197</td>\n",
       "      <td>-0.002800</td>\n",
       "      <td>0.000459</td>\n",
       "      <td>0.002579</td>\n",
       "      <td>-0.000501</td>\n",
       "      <td>-0.002810</td>\n",
       "      <td>0.170831</td>\n",
       "      <td>0.076436</td>\n",
       "      <td>0.051190</td>\n",
       "      <td>1.000000</td>\n",
       "      <td>0.224036</td>\n",
       "      <td>0.528606</td>\n",
       "      <td>0.083739</td>\n",
       "    </tr>\n",
       "    <tr>\n",
       "      <th>total_amount</th>\n",
       "      <td>0.039695</td>\n",
       "      <td>0.053224</td>\n",
       "      <td>0.009911</td>\n",
       "      <td>0.055527</td>\n",
       "      <td>0.000715</td>\n",
       "      <td>-0.002954</td>\n",
       "      <td>0.234346</td>\n",
       "      <td>0.638658</td>\n",
       "      <td>0.684765</td>\n",
       "      <td>0.224036</td>\n",
       "      <td>1.000000</td>\n",
       "      <td>-0.147765</td>\n",
       "      <td>0.597829</td>\n",
       "    </tr>\n",
       "    <tr>\n",
       "      <th>congestion_surcharge</th>\n",
       "      <td>-0.023495</td>\n",
       "      <td>-0.002266</td>\n",
       "      <td>-0.060883</td>\n",
       "      <td>-0.197608</td>\n",
       "      <td>0.001194</td>\n",
       "      <td>0.000641</td>\n",
       "      <td>0.068088</td>\n",
       "      <td>-0.059346</td>\n",
       "      <td>-0.134409</td>\n",
       "      <td>0.528606</td>\n",
       "      <td>-0.147765</td>\n",
       "      <td>1.000000</td>\n",
       "      <td>-0.336012</td>\n",
       "    </tr>\n",
       "    <tr>\n",
       "      <th>Airport_fee</th>\n",
       "      <td>0.036483</td>\n",
       "      <td>0.040786</td>\n",
       "      <td>0.126236</td>\n",
       "      <td>-0.004480</td>\n",
       "      <td>-0.000654</td>\n",
       "      <td>-0.004940</td>\n",
       "      <td>0.337456</td>\n",
       "      <td>0.335614</td>\n",
       "      <td>0.437600</td>\n",
       "      <td>0.083739</td>\n",
       "      <td>0.597829</td>\n",
       "      <td>-0.336012</td>\n",
       "      <td>1.000000</td>\n",
       "    </tr>\n",
       "  </tbody>\n",
       "</table>\n",
       "</div>"
      ],
      "text/plain": [
       "                       VendorID  passenger_count  trip_distance  RatecodeID  \\\n",
       "VendorID               1.000000         0.099990       0.002857   -0.106361   \n",
       "passenger_count        0.099990         1.000000       0.010163   -0.023627   \n",
       "trip_distance          0.002857         0.010163       1.000000    0.014745   \n",
       "RatecodeID            -0.106361        -0.023627       0.014745    1.000000   \n",
       "PULocationID          -0.001315        -0.000822      -0.000958   -0.001090   \n",
       "DOLocationID          -0.003946        -0.000726      -0.002496   -0.000644   \n",
       "extra                 -0.530096        -0.039732      -0.001849   -0.070959   \n",
       "tip_amount             0.043941         0.017175       0.005847   -0.032172   \n",
       "tolls_amount           0.023642         0.042856       0.006778    0.063754   \n",
       "improvement_surcharge -0.063197        -0.002800       0.000459    0.002579   \n",
       "total_amount           0.039695         0.053224       0.009911    0.055527   \n",
       "congestion_surcharge  -0.023495        -0.002266      -0.060883   -0.197608   \n",
       "Airport_fee            0.036483         0.040786       0.126236   -0.004480   \n",
       "\n",
       "                       PULocationID  DOLocationID     extra  tip_amount  \\\n",
       "VendorID                  -0.001315     -0.003946 -0.530096    0.043941   \n",
       "passenger_count           -0.000822     -0.000726 -0.039732    0.017175   \n",
       "trip_distance             -0.000958     -0.002496 -0.001849    0.005847   \n",
       "RatecodeID                -0.001090     -0.000644 -0.070959   -0.032172   \n",
       "PULocationID               1.000000     -0.000161  0.001495    0.000748   \n",
       "DOLocationID              -0.000161      1.000000  0.002955   -0.000247   \n",
       "extra                      0.001495      0.002955  1.000000    0.160331   \n",
       "tip_amount                 0.000748     -0.000247  0.160331    1.000000   \n",
       "tolls_amount              -0.000868     -0.002290  0.201179    0.411588   \n",
       "improvement_surcharge     -0.000501     -0.002810  0.170831    0.076436   \n",
       "total_amount               0.000715     -0.002954  0.234346    0.638658   \n",
       "congestion_surcharge       0.001194      0.000641  0.068088   -0.059346   \n",
       "Airport_fee               -0.000654     -0.004940  0.337456    0.335614   \n",
       "\n",
       "                       tolls_amount  improvement_surcharge  total_amount  \\\n",
       "VendorID                   0.023642              -0.063197      0.039695   \n",
       "passenger_count            0.042856              -0.002800      0.053224   \n",
       "trip_distance              0.006778               0.000459      0.009911   \n",
       "RatecodeID                 0.063754               0.002579      0.055527   \n",
       "PULocationID              -0.000868              -0.000501      0.000715   \n",
       "DOLocationID              -0.002290              -0.002810     -0.002954   \n",
       "extra                      0.201179               0.170831      0.234346   \n",
       "tip_amount                 0.411588               0.076436      0.638658   \n",
       "tolls_amount               1.000000               0.051190      0.684765   \n",
       "improvement_surcharge      0.051190               1.000000      0.224036   \n",
       "total_amount               0.684765               0.224036      1.000000   \n",
       "congestion_surcharge      -0.134409               0.528606     -0.147765   \n",
       "Airport_fee                0.437600               0.083739      0.597829   \n",
       "\n",
       "                       congestion_surcharge  Airport_fee  \n",
       "VendorID                          -0.023495     0.036483  \n",
       "passenger_count                   -0.002266     0.040786  \n",
       "trip_distance                     -0.060883     0.126236  \n",
       "RatecodeID                        -0.197608    -0.004480  \n",
       "PULocationID                       0.001194    -0.000654  \n",
       "DOLocationID                       0.000641    -0.004940  \n",
       "extra                              0.068088     0.337456  \n",
       "tip_amount                        -0.059346     0.335614  \n",
       "tolls_amount                      -0.134409     0.437600  \n",
       "improvement_surcharge              0.528606     0.083739  \n",
       "total_amount                      -0.147765     0.597829  \n",
       "congestion_surcharge               1.000000    -0.336012  \n",
       "Airport_fee                       -0.336012     1.000000  "
      ]
     },
     "execution_count": 20,
     "metadata": {},
     "output_type": "execute_result"
    }
   ],
   "source": [
    "corr = data.corr(method='pearson', numeric_only=True)\n",
    "corr"
   ]
  },
  {
   "cell_type": "code",
   "execution_count": 21,
   "id": "031fd085",
   "metadata": {
    "execution": {
     "iopub.execute_input": "2023-12-20T12:27:25.432853Z",
     "iopub.status.busy": "2023-12-20T12:27:25.432407Z",
     "iopub.status.idle": "2023-12-20T12:27:25.441295Z",
     "shell.execute_reply": "2023-12-20T12:27:25.439991Z"
    },
    "papermill": {
     "duration": 0.059647,
     "end_time": "2023-12-20T12:27:25.444119",
     "exception": false,
     "start_time": "2023-12-20T12:27:25.384472",
     "status": "completed"
    },
    "tags": []
   },
   "outputs": [
    {
     "name": "stdout",
     "output_type": "stream",
     "text": [
      "[]\n"
     ]
    }
   ],
   "source": [
    "cols_to_drop = []\n",
    "for i in corr:\n",
    "    for j, v in corr[i].items():\n",
    "        if ((j != i) and ((i != 'total_amount') or (j != 'total_amount')) and (abs(v) >= 0.75)):\n",
    "            cols_to_drop.append(j)\n",
    "            # data = data.drop([j], axis=1)\n",
    "    \n",
    "print(cols_to_drop)\n",
    "\n",
    "# No columns to drop"
   ]
  },
  {
   "cell_type": "markdown",
   "id": "27f499ef",
   "metadata": {
    "papermill": {
     "duration": 0.045589,
     "end_time": "2023-12-20T12:27:25.537042",
     "exception": false,
     "start_time": "2023-12-20T12:27:25.491453",
     "status": "completed"
    },
    "tags": []
   },
   "source": [
    "## ......................................................................................................................."
   ]
  },
  {
   "cell_type": "markdown",
   "id": "abdb9052",
   "metadata": {
    "papermill": {
     "duration": 0.046743,
     "end_time": "2023-12-20T12:27:25.629644",
     "exception": false,
     "start_time": "2023-12-20T12:27:25.582901",
     "status": "completed"
    },
    "tags": []
   },
   "source": [
    "#### 'tpep_pickup_datetime' and 'tpep_dropoff_datetime' columns:\n",
    "* Split into year, month, day, hour, minute and second columns.\n",
    "* Delete the year column as it has just 1 unique value.\n",
    "* Merge the hour, minute and second column into one column by converting hours and seconds into minutes and then adding the three together.\n",
    "* Name the new columns 'tpep_pickup_time' and 'tpep_dropoff_time'.\n",
    "* Drop originial date-time columns and hour, minute and seconds column."
   ]
  },
  {
   "cell_type": "code",
   "execution_count": 22,
   "id": "9a3ce879",
   "metadata": {
    "execution": {
     "iopub.execute_input": "2023-12-20T12:27:25.726571Z",
     "iopub.status.busy": "2023-12-20T12:27:25.725842Z",
     "iopub.status.idle": "2023-12-20T12:27:25.876273Z",
     "shell.execute_reply": "2023-12-20T12:27:25.875001Z"
    },
    "papermill": {
     "duration": 0.20229,
     "end_time": "2023-12-20T12:27:25.879049",
     "exception": false,
     "start_time": "2023-12-20T12:27:25.676759",
     "status": "completed"
    },
    "tags": []
   },
   "outputs": [],
   "source": [
    "# Convert to datetime\n",
    "data['tpep_pickup_datetime'] = pd.to_datetime(data['tpep_pickup_datetime'], format='%Y-%m-%d %H:%M:%S')\n",
    "data['tpep_dropoff_datetime'] = pd.to_datetime(data['tpep_dropoff_datetime'], format='%Y-%m-%d %H:%M:%S')"
   ]
  },
  {
   "cell_type": "code",
   "execution_count": 23,
   "id": "f3cada24",
   "metadata": {
    "execution": {
     "iopub.execute_input": "2023-12-20T12:27:25.973845Z",
     "iopub.status.busy": "2023-12-20T12:27:25.973425Z",
     "iopub.status.idle": "2023-12-20T12:27:26.026982Z",
     "shell.execute_reply": "2023-12-20T12:27:26.025695Z"
    },
    "papermill": {
     "duration": 0.104335,
     "end_time": "2023-12-20T12:27:26.029931",
     "exception": false,
     "start_time": "2023-12-20T12:27:25.925596",
     "status": "completed"
    },
    "tags": []
   },
   "outputs": [],
   "source": [
    "# Convert to datetime\n",
    "test_data['tpep_pickup_datetime'] = pd.to_datetime(test_data['tpep_pickup_datetime'], format='%Y-%m-%d %H:%M:%S')\n",
    "test_data['tpep_dropoff_datetime'] = pd.to_datetime(test_data['tpep_dropoff_datetime'], format='%Y-%m-%d %H:%M:%S')"
   ]
  },
  {
   "cell_type": "code",
   "execution_count": 24,
   "id": "aa24502d",
   "metadata": {
    "execution": {
     "iopub.execute_input": "2023-12-20T12:27:26.124647Z",
     "iopub.status.busy": "2023-12-20T12:27:26.124172Z",
     "iopub.status.idle": "2023-12-20T12:27:26.348365Z",
     "shell.execute_reply": "2023-12-20T12:27:26.347314Z"
    },
    "papermill": {
     "duration": 0.274783,
     "end_time": "2023-12-20T12:27:26.351243",
     "exception": false,
     "start_time": "2023-12-20T12:27:26.076460",
     "status": "completed"
    },
    "tags": []
   },
   "outputs": [],
   "source": [
    "# Split into year, month, day, hour, minute and second columns\n",
    "data['tpep_pickup_year'] = data['tpep_pickup_datetime'].dt.year\n",
    "data['tpep_dropoff_year'] = data['tpep_dropoff_datetime'].dt.year\n",
    "\n",
    "data['tpep_pickup_month'] = data['tpep_pickup_datetime'].dt.month\n",
    "data['tpep_dropoff_month'] = data['tpep_dropoff_datetime'].dt.month\n",
    "\n",
    "data['tpep_pickup_day'] = data['tpep_pickup_datetime'].dt.day\n",
    "data['tpep_dropoff_day'] = data['tpep_dropoff_datetime'].dt.day\n",
    "\n",
    "data['tpep_pickup_hour'] = data['tpep_pickup_datetime'].dt.hour\n",
    "data['tpep_dropoff_hour'] = data['tpep_dropoff_datetime'].dt.hour\n",
    "\n",
    "data['tpep_pickup_min'] = data['tpep_pickup_datetime'].dt.minute\n",
    "data['tpep_dropoff_min'] = data['tpep_dropoff_datetime'].dt.minute\n",
    "\n",
    "data['tpep_pickup_sec'] = data['tpep_pickup_datetime'].dt.second\n",
    "data['tpep_dropoff_sec'] = data['tpep_dropoff_datetime'].dt.second"
   ]
  },
  {
   "cell_type": "code",
   "execution_count": 25,
   "id": "f276978f",
   "metadata": {
    "execution": {
     "iopub.execute_input": "2023-12-20T12:27:26.448097Z",
     "iopub.status.busy": "2023-12-20T12:27:26.447649Z",
     "iopub.status.idle": "2023-12-20T12:27:26.528625Z",
     "shell.execute_reply": "2023-12-20T12:27:26.527257Z"
    },
    "papermill": {
     "duration": 0.134016,
     "end_time": "2023-12-20T12:27:26.531724",
     "exception": false,
     "start_time": "2023-12-20T12:27:26.397708",
     "status": "completed"
    },
    "tags": []
   },
   "outputs": [],
   "source": [
    "# Split into year, month, day, hour, minute and second columns\n",
    "test_data['tpep_pickup_year'] = test_data['tpep_pickup_datetime'].dt.year\n",
    "test_data['tpep_dropoff_year'] = test_data['tpep_dropoff_datetime'].dt.year\n",
    "\n",
    "test_data['tpep_pickup_month'] = test_data['tpep_pickup_datetime'].dt.month\n",
    "test_data['tpep_dropoff_month'] = test_data['tpep_dropoff_datetime'].dt.month\n",
    "\n",
    "test_data['tpep_pickup_day'] = test_data['tpep_pickup_datetime'].dt.day\n",
    "test_data['tpep_dropoff_day'] = test_data['tpep_dropoff_datetime'].dt.day\n",
    "\n",
    "test_data['tpep_pickup_hour'] = test_data['tpep_pickup_datetime'].dt.hour\n",
    "test_data['tpep_dropoff_hour'] = test_data['tpep_dropoff_datetime'].dt.hour\n",
    "\n",
    "test_data['tpep_pickup_min'] = test_data['tpep_pickup_datetime'].dt.minute\n",
    "test_data['tpep_dropoff_min'] = test_data['tpep_dropoff_datetime'].dt.minute\n",
    "\n",
    "test_data['tpep_pickup_sec'] = test_data['tpep_pickup_datetime'].dt.second\n",
    "test_data['tpep_dropoff_sec'] = test_data['tpep_dropoff_datetime'].dt.second"
   ]
  },
  {
   "cell_type": "code",
   "execution_count": 26,
   "id": "67bf46cd",
   "metadata": {
    "execution": {
     "iopub.execute_input": "2023-12-20T12:27:26.628521Z",
     "iopub.status.busy": "2023-12-20T12:27:26.628039Z",
     "iopub.status.idle": "2023-12-20T12:27:26.640902Z",
     "shell.execute_reply": "2023-12-20T12:27:26.639640Z"
    },
    "papermill": {
     "duration": 0.064605,
     "end_time": "2023-12-20T12:27:26.643779",
     "exception": false,
     "start_time": "2023-12-20T12:27:26.579174",
     "status": "completed"
    },
    "tags": []
   },
   "outputs": [
    {
     "name": "stdout",
     "output_type": "stream",
     "text": [
      "tpep_pickup_year\n",
      "2023    175000\n",
      "Name: count, dtype: int64\n",
      "tpep_dropoff_year\n",
      "2023    175000\n",
      "Name: count, dtype: int64\n"
     ]
    }
   ],
   "source": [
    "# Counts of values in the year column\n",
    "print(data['tpep_pickup_year'].value_counts())\n",
    "print(data['tpep_dropoff_year'].value_counts())\n",
    "# Only a single unique value present."
   ]
  },
  {
   "cell_type": "code",
   "execution_count": 27,
   "id": "5cc8eee7",
   "metadata": {
    "execution": {
     "iopub.execute_input": "2023-12-20T12:27:26.740277Z",
     "iopub.status.busy": "2023-12-20T12:27:26.739811Z",
     "iopub.status.idle": "2023-12-20T12:29:25.448759Z",
     "shell.execute_reply": "2023-12-20T12:29:25.447428Z"
    },
    "papermill": {
     "duration": 118.761197,
     "end_time": "2023-12-20T12:29:25.452139",
     "exception": false,
     "start_time": "2023-12-20T12:27:26.690942",
     "status": "completed"
    },
    "tags": []
   },
   "outputs": [],
   "source": [
    "# Merge the hour, minute and second column into one column by converting hours and seconds into minutes\n",
    "# add the three together.\n",
    "# Name the new columns 'tpep_pickup_time' and 'tpep_dropoff_time'.\n",
    "for i in data.index:\n",
    "    data['tpep_pickup_time'] = (data.loc[i, 'tpep_pickup_hour']*60) + (data.loc[i, 'tpep_pickup_min']) + (data.loc[i, 'tpep_pickup_sec']/60)\n",
    "    data['tpep_dropoff_time'] = (data.loc[i, 'tpep_dropoff_hour']*60) + (data.loc[i, 'tpep_dropoff_min']) + (data.loc[i, 'tpep_dropoff_sec']/60)"
   ]
  },
  {
   "cell_type": "code",
   "execution_count": 28,
   "id": "e79e97a8",
   "metadata": {
    "execution": {
     "iopub.execute_input": "2023-12-20T12:29:25.550562Z",
     "iopub.status.busy": "2023-12-20T12:29:25.550090Z",
     "iopub.status.idle": "2023-12-20T12:29:49.807152Z",
     "shell.execute_reply": "2023-12-20T12:29:49.805908Z"
    },
    "papermill": {
     "duration": 24.309427,
     "end_time": "2023-12-20T12:29:49.810139",
     "exception": false,
     "start_time": "2023-12-20T12:29:25.500712",
     "status": "completed"
    },
    "tags": []
   },
   "outputs": [],
   "source": [
    "# Merge the hour, minute and second column into one column by converting hours and seconds into minutes\n",
    "# Add the three together.\n",
    "# Name the new columns 'tpep_pickup_time' and 'tpep_dropoff_time'.\n",
    "for i in test_data.index:\n",
    "    test_data['tpep_pickup_time'] = (test_data.loc[i, 'tpep_pickup_hour']*60) + (test_data.loc[i, 'tpep_pickup_min']) + (test_data.loc[i, 'tpep_pickup_sec']/60)\n",
    "    test_data['tpep_dropoff_time'] = (test_data.loc[i, 'tpep_dropoff_hour']*60) + (test_data.loc[i, 'tpep_dropoff_min']) + (test_data.loc[i, 'tpep_dropoff_sec']/60)"
   ]
  },
  {
   "cell_type": "code",
   "execution_count": 29,
   "id": "9cff973d",
   "metadata": {
    "execution": {
     "iopub.execute_input": "2023-12-20T12:29:49.904760Z",
     "iopub.status.busy": "2023-12-20T12:29:49.904271Z",
     "iopub.status.idle": "2023-12-20T12:29:50.031406Z",
     "shell.execute_reply": "2023-12-20T12:29:50.030285Z"
    },
    "papermill": {
     "duration": 0.177916,
     "end_time": "2023-12-20T12:29:50.034377",
     "exception": false,
     "start_time": "2023-12-20T12:29:49.856461",
     "status": "completed"
    },
    "tags": []
   },
   "outputs": [
    {
     "data": {
      "text/plain": [
       "Index(['VendorID', 'passenger_count', 'trip_distance', 'RatecodeID',\n",
       "       'store_and_fwd_flag', 'PULocationID', 'DOLocationID', 'payment_type',\n",
       "       'extra', 'tip_amount', 'tolls_amount', 'improvement_surcharge',\n",
       "       'total_amount', 'congestion_surcharge', 'Airport_fee',\n",
       "       'tpep_pickup_month', 'tpep_dropoff_month', 'tpep_pickup_day',\n",
       "       'tpep_dropoff_day', 'tpep_pickup_time', 'tpep_dropoff_time'],\n",
       "      dtype='object')"
      ]
     },
     "execution_count": 29,
     "metadata": {},
     "output_type": "execute_result"
    }
   ],
   "source": [
    "# drop originial date-time columns\n",
    "# drop year column as single value\n",
    "# drop hour, minute and seconds column.\n",
    "data = data.drop(['tpep_pickup_datetime', 'tpep_dropoff_datetime', 'tpep_pickup_year', 'tpep_dropoff_year', 'tpep_pickup_hour', 'tpep_dropoff_hour', 'tpep_pickup_min', 'tpep_dropoff_min', 'tpep_pickup_sec', 'tpep_dropoff_sec'], axis=1)\n",
    "data.columns"
   ]
  },
  {
   "cell_type": "code",
   "execution_count": 30,
   "id": "112f6108",
   "metadata": {
    "execution": {
     "iopub.execute_input": "2023-12-20T12:29:50.129657Z",
     "iopub.status.busy": "2023-12-20T12:29:50.129194Z",
     "iopub.status.idle": "2023-12-20T12:29:50.187373Z",
     "shell.execute_reply": "2023-12-20T12:29:50.186473Z"
    },
    "papermill": {
     "duration": 0.108657,
     "end_time": "2023-12-20T12:29:50.189625",
     "exception": false,
     "start_time": "2023-12-20T12:29:50.080968",
     "status": "completed"
    },
    "tags": []
   },
   "outputs": [
    {
     "data": {
      "text/plain": [
       "Index(['VendorID', 'passenger_count', 'trip_distance', 'RatecodeID',\n",
       "       'store_and_fwd_flag', 'PULocationID', 'DOLocationID', 'payment_type',\n",
       "       'extra', 'tip_amount', 'tolls_amount', 'improvement_surcharge',\n",
       "       'congestion_surcharge', 'Airport_fee', 'tpep_pickup_month',\n",
       "       'tpep_dropoff_month', 'tpep_pickup_day', 'tpep_dropoff_day',\n",
       "       'tpep_pickup_time', 'tpep_dropoff_time'],\n",
       "      dtype='object')"
      ]
     },
     "execution_count": 30,
     "metadata": {},
     "output_type": "execute_result"
    }
   ],
   "source": [
    "# drop originial date-time columns\n",
    "# drop year column as single value\n",
    "# drop hour, minute and seconds column.\n",
    "test_data = test_data.drop(['tpep_pickup_datetime', 'tpep_dropoff_datetime', 'tpep_pickup_year', 'tpep_dropoff_year', 'tpep_pickup_hour', 'tpep_dropoff_hour', 'tpep_pickup_min', 'tpep_dropoff_min', 'tpep_pickup_sec', 'tpep_dropoff_sec'], axis=1)\n",
    "test_data.columns"
   ]
  },
  {
   "cell_type": "markdown",
   "id": "df8a3bdd",
   "metadata": {
    "papermill": {
     "duration": 0.046117,
     "end_time": "2023-12-20T12:29:50.282994",
     "exception": false,
     "start_time": "2023-12-20T12:29:50.236877",
     "status": "completed"
    },
    "tags": []
   },
   "source": [
    "## ......................................................................................................................."
   ]
  },
  {
   "cell_type": "markdown",
   "id": "025c29fc",
   "metadata": {
    "papermill": {
     "duration": 0.046137,
     "end_time": "2023-12-20T12:29:50.376155",
     "exception": false,
     "start_time": "2023-12-20T12:29:50.330018",
     "status": "completed"
    },
    "tags": []
   },
   "source": [
    "#### Train-test-split"
   ]
  },
  {
   "cell_type": "code",
   "execution_count": 31,
   "id": "0d125dad",
   "metadata": {
    "execution": {
     "iopub.execute_input": "2023-12-20T12:29:50.471830Z",
     "iopub.status.busy": "2023-12-20T12:29:50.471375Z",
     "iopub.status.idle": "2023-12-20T12:29:50.523672Z",
     "shell.execute_reply": "2023-12-20T12:29:50.522315Z"
    },
    "papermill": {
     "duration": 0.103394,
     "end_time": "2023-12-20T12:29:50.526634",
     "exception": false,
     "start_time": "2023-12-20T12:29:50.423240",
     "status": "completed"
    },
    "tags": []
   },
   "outputs": [],
   "source": [
    "X = data.drop(['total_amount'], axis=1)\n",
    "y = data['total_amount']"
   ]
  },
  {
   "cell_type": "code",
   "execution_count": 32,
   "id": "9bb09fd9",
   "metadata": {
    "execution": {
     "iopub.execute_input": "2023-12-20T12:29:50.622655Z",
     "iopub.status.busy": "2023-12-20T12:29:50.622184Z",
     "iopub.status.idle": "2023-12-20T12:29:50.761350Z",
     "shell.execute_reply": "2023-12-20T12:29:50.760425Z"
    },
    "papermill": {
     "duration": 0.189538,
     "end_time": "2023-12-20T12:29:50.763619",
     "exception": false,
     "start_time": "2023-12-20T12:29:50.574081",
     "status": "completed"
    },
    "tags": []
   },
   "outputs": [
    {
     "data": {
      "text/plain": [
       "((140000, 20), (35000, 20), (140000,), (35000,))"
      ]
     },
     "execution_count": 32,
     "metadata": {},
     "output_type": "execute_result"
    }
   ],
   "source": [
    "X_train, X_test, y_train, y_test = train_test_split(X, y, test_size=0.2, random_state=42)\n",
    "X_train.shape, X_test.shape, y_train.shape, y_test.shape"
   ]
  },
  {
   "cell_type": "markdown",
   "id": "10e8a567",
   "metadata": {
    "papermill": {
     "duration": 0.045751,
     "end_time": "2023-12-20T12:29:50.856992",
     "exception": false,
     "start_time": "2023-12-20T12:29:50.811241",
     "status": "completed"
    },
    "tags": []
   },
   "source": [
    "## ......................................................................................................................."
   ]
  },
  {
   "cell_type": "markdown",
   "id": "58e3227a",
   "metadata": {
    "papermill": {
     "duration": 0.045838,
     "end_time": "2023-12-20T12:29:50.949642",
     "exception": false,
     "start_time": "2023-12-20T12:29:50.903804",
     "status": "completed"
    },
    "tags": []
   },
   "source": [
    "### Preprocessing"
   ]
  },
  {
   "cell_type": "markdown",
   "id": "9413fdf7",
   "metadata": {
    "papermill": {
     "duration": 0.046353,
     "end_time": "2023-12-20T12:29:51.042372",
     "exception": false,
     "start_time": "2023-12-20T12:29:50.996019",
     "status": "completed"
    },
    "tags": []
   },
   "source": [
    "#### Handling outliers:"
   ]
  },
  {
   "cell_type": "markdown",
   "id": "a2e10a64",
   "metadata": {
    "papermill": {
     "duration": 0.045953,
     "end_time": "2023-12-20T12:29:51.134778",
     "exception": false,
     "start_time": "2023-12-20T12:29:51.088825",
     "status": "completed"
    },
    "tags": []
   },
   "source": [
    "* **trip_distance:** \n",
    "    * trip_distance > 9000 is very large\n",
    "    * trip_distance == 0 is not possible \n",
    "    * Replace those values with the median.\n",
    "    "
   ]
  },
  {
   "cell_type": "code",
   "execution_count": 33,
   "id": "0913efbd",
   "metadata": {
    "execution": {
     "iopub.execute_input": "2023-12-20T12:29:51.230485Z",
     "iopub.status.busy": "2023-12-20T12:29:51.230027Z",
     "iopub.status.idle": "2023-12-20T12:29:52.855430Z",
     "shell.execute_reply": "2023-12-20T12:29:52.854349Z"
    },
    "papermill": {
     "duration": 1.677687,
     "end_time": "2023-12-20T12:29:52.858987",
     "exception": false,
     "start_time": "2023-12-20T12:29:51.181300",
     "status": "completed"
    },
    "tags": []
   },
   "outputs": [
    {
     "name": "stdout",
     "output_type": "stream",
     "text": [
      "3.707778642857143\n"
     ]
    }
   ],
   "source": [
    "#X_train\n",
    "ind = X_train[(X_train['trip_distance'] >= 9000) | (X_train['trip_distance'] == 0)].index\n",
    "x = X_train['trip_distance'].median()\n",
    "for i in ind:\n",
    "    out = X_train.loc[i, 'trip_distance']\n",
    "    X_train['trip_distance'] = X_train['trip_distance'].replace(out, x)\n",
    "\n",
    "print(X_train['trip_distance'].mean()) # 3.7"
   ]
  },
  {
   "cell_type": "code",
   "execution_count": 34,
   "id": "abbc0dc8",
   "metadata": {
    "execution": {
     "iopub.execute_input": "2023-12-20T12:29:52.957395Z",
     "iopub.status.busy": "2023-12-20T12:29:52.956943Z",
     "iopub.status.idle": "2023-12-20T12:29:53.179466Z",
     "shell.execute_reply": "2023-12-20T12:29:53.177891Z"
    },
    "papermill": {
     "duration": 0.274352,
     "end_time": "2023-12-20T12:29:53.182058",
     "exception": false,
     "start_time": "2023-12-20T12:29:52.907706",
     "status": "completed"
    },
    "tags": []
   },
   "outputs": [
    {
     "name": "stdout",
     "output_type": "stream",
     "text": [
      "3.6806099999999997\n"
     ]
    }
   ],
   "source": [
    "#X_test\n",
    "ind = X_test[(X_test['trip_distance'] >= 9000) | (X_test['trip_distance'] == 0)].index\n",
    "x = X_test['trip_distance'].median()\n",
    "for i in ind:\n",
    "    out = X_test.loc[i, 'trip_distance']\n",
    "    X_test['trip_distance'] = X_test['trip_distance'].replace(out, x)\n",
    "\n",
    "print(X_test['trip_distance'].mean())"
   ]
  },
  {
   "cell_type": "code",
   "execution_count": 35,
   "id": "f9d48406",
   "metadata": {
    "execution": {
     "iopub.execute_input": "2023-12-20T12:29:53.280230Z",
     "iopub.status.busy": "2023-12-20T12:29:53.279785Z",
     "iopub.status.idle": "2023-12-20T12:29:53.630741Z",
     "shell.execute_reply": "2023-12-20T12:29:53.629382Z"
    },
    "papermill": {
     "duration": 0.403544,
     "end_time": "2023-12-20T12:29:53.633418",
     "exception": false,
     "start_time": "2023-12-20T12:29:53.229874",
     "status": "completed"
    },
    "tags": []
   },
   "outputs": [
    {
     "name": "stdout",
     "output_type": "stream",
     "text": [
      "3.6740156000000006\n"
     ]
    }
   ],
   "source": [
    "#test_data\n",
    "ind = test_data[(test_data['trip_distance'] >= 9000) | (test_data['trip_distance'] == 0)].index\n",
    "x = test_data['trip_distance'].median()\n",
    "for i in ind:\n",
    "    out = test_data.loc[i, 'trip_distance']\n",
    "    test_data['trip_distance'] = test_data['trip_distance'].replace(out, x)\n",
    "\n",
    "print(test_data['trip_distance'].mean())"
   ]
  },
  {
   "cell_type": "markdown",
   "id": "d32fb884",
   "metadata": {
    "papermill": {
     "duration": 0.047833,
     "end_time": "2023-12-20T12:29:53.729342",
     "exception": false,
     "start_time": "2023-12-20T12:29:53.681509",
     "status": "completed"
    },
    "tags": []
   },
   "source": [
    "* **tip_amout:** \n",
    "    * tip > 400 is very high compared to average fare.\n",
    "    * It is replaced with the median."
   ]
  },
  {
   "cell_type": "code",
   "execution_count": 36,
   "id": "a3f745d7",
   "metadata": {
    "execution": {
     "iopub.execute_input": "2023-12-20T12:29:53.829232Z",
     "iopub.status.busy": "2023-12-20T12:29:53.828744Z",
     "iopub.status.idle": "2023-12-20T12:29:53.852780Z",
     "shell.execute_reply": "2023-12-20T12:29:53.851779Z"
    },
    "papermill": {
     "duration": 0.077524,
     "end_time": "2023-12-20T12:29:53.855159",
     "exception": false,
     "start_time": "2023-12-20T12:29:53.777635",
     "status": "completed"
    },
    "tags": []
   },
   "outputs": [
    {
     "name": "stdout",
     "output_type": "stream",
     "text": [
      "before:  484.876150598094\n",
      "......\n",
      "after:  5.288746925220948\n",
      "......\n"
     ]
    }
   ],
   "source": [
    "#X_train\n",
    "lst = X_train[X_train['tip_amount'] > 400]['tip_amount'].index\n",
    "\n",
    "for i in lst:\n",
    "    res = X_train.loc[i, 'tip_amount']\n",
    "    print('before: ', res)\n",
    "    print('......')\n",
    "    X_train['tip_amount'] = X_train['tip_amount'].replace(res, X_train['tip_amount'].median())\n",
    "    out = X_train.loc[i, 'tip_amount']\n",
    "    print('after: ', out)\n",
    "    print('......')\n",
    "    "
   ]
  },
  {
   "cell_type": "code",
   "execution_count": 37,
   "id": "00dc7dc1",
   "metadata": {
    "execution": {
     "iopub.execute_input": "2023-12-20T12:29:53.953815Z",
     "iopub.status.busy": "2023-12-20T12:29:53.952647Z",
     "iopub.status.idle": "2023-12-20T12:29:53.961672Z",
     "shell.execute_reply": "2023-12-20T12:29:53.960417Z"
    },
    "papermill": {
     "duration": 0.060988,
     "end_time": "2023-12-20T12:29:53.964258",
     "exception": false,
     "start_time": "2023-12-20T12:29:53.903270",
     "status": "completed"
    },
    "tags": []
   },
   "outputs": [],
   "source": [
    "#X_test\n",
    "lst = X_test[X_test['tip_amount'] > 400]['tip_amount'].index\n",
    "\n",
    "for i in lst:\n",
    "    res = X_test.loc[i, 'tip_amount']\n",
    "    print('before: ', res)\n",
    "    print('......')\n",
    "    X_test['tip_amount'] = X_test['tip_amount'].replace(res, X_train['tip_amount'].median())\n",
    "    out = X_test.loc[i, 'tip_amount']\n",
    "    print('after: ', out)\n",
    "    print('......')"
   ]
  },
  {
   "cell_type": "code",
   "execution_count": 38,
   "id": "694744d7",
   "metadata": {
    "execution": {
     "iopub.execute_input": "2023-12-20T12:29:54.062691Z",
     "iopub.status.busy": "2023-12-20T12:29:54.062272Z",
     "iopub.status.idle": "2023-12-20T12:29:54.071300Z",
     "shell.execute_reply": "2023-12-20T12:29:54.069975Z"
    },
    "papermill": {
     "duration": 0.062067,
     "end_time": "2023-12-20T12:29:54.073754",
     "exception": false,
     "start_time": "2023-12-20T12:29:54.011687",
     "status": "completed"
    },
    "tags": []
   },
   "outputs": [],
   "source": [
    "#test_data\n",
    "lst = test_data[test_data['tip_amount'] > 400]['tip_amount'].index\n",
    "\n",
    "for i in lst:\n",
    "    res = test_data.loc[i, 'tip_amount']\n",
    "    print('before: ', res)\n",
    "    print('......')\n",
    "    test_data['tip_amount'] = test_data['tip_amount'].replace(res, X_train['tip_amount'].median())\n",
    "    out = test_data.loc[i, 'tip_amount']\n",
    "    print('after: ', out)\n",
    "    print('......')"
   ]
  },
  {
   "cell_type": "markdown",
   "id": "d1614ecd",
   "metadata": {
    "papermill": {
     "duration": 0.046957,
     "end_time": "2023-12-20T12:29:54.168230",
     "exception": false,
     "start_time": "2023-12-20T12:29:54.121273",
     "status": "completed"
    },
    "tags": []
   },
   "source": [
    "* **passenger_count:**\n",
    "    * 0 passengers is not possible.\n",
    "    * Replace values equal to 0 with the median."
   ]
  },
  {
   "cell_type": "code",
   "execution_count": 39,
   "id": "91ca1136",
   "metadata": {
    "execution": {
     "iopub.execute_input": "2023-12-20T12:29:54.265743Z",
     "iopub.status.busy": "2023-12-20T12:29:54.264945Z",
     "iopub.status.idle": "2023-12-20T12:30:02.291550Z",
     "shell.execute_reply": "2023-12-20T12:30:02.290051Z"
    },
    "papermill": {
     "duration": 8.079732,
     "end_time": "2023-12-20T12:30:02.295358",
     "exception": false,
     "start_time": "2023-12-20T12:29:54.215626",
     "status": "completed"
    },
    "tags": []
   },
   "outputs": [],
   "source": [
    "#X_train\n",
    "lst = X_train[X_train['passenger_count'] == 0]['passenger_count'].index\n",
    "\n",
    "for i in lst:\n",
    "    res = X_train.loc[i, 'passenger_count']\n",
    "    X_train['passenger_count'] = X_train['passenger_count'].replace(res, X_train['passenger_count'].median())\n",
    "    out = X_train.loc[i, 'passenger_count']\n",
    "    "
   ]
  },
  {
   "cell_type": "code",
   "execution_count": 40,
   "id": "d386fdf8",
   "metadata": {
    "execution": {
     "iopub.execute_input": "2023-12-20T12:30:02.394062Z",
     "iopub.status.busy": "2023-12-20T12:30:02.392986Z",
     "iopub.status.idle": "2023-12-20T12:30:04.165775Z",
     "shell.execute_reply": "2023-12-20T12:30:04.164382Z"
    },
    "papermill": {
     "duration": 1.825704,
     "end_time": "2023-12-20T12:30:04.169136",
     "exception": false,
     "start_time": "2023-12-20T12:30:02.343432",
     "status": "completed"
    },
    "tags": []
   },
   "outputs": [],
   "source": [
    "#X_test\n",
    "lst = X_test[X_test['passenger_count'] == 0]['passenger_count'].index\n",
    "\n",
    "for i in lst:\n",
    "    res = X_test.loc[i, 'passenger_count']\n",
    "    X_test['passenger_count'] = X_test['passenger_count'].replace(res, X_train['passenger_count'].median())\n",
    "    out = X_test.loc[i, 'passenger_count']"
   ]
  },
  {
   "cell_type": "code",
   "execution_count": 41,
   "id": "576fadde",
   "metadata": {
    "execution": {
     "iopub.execute_input": "2023-12-20T12:30:04.266704Z",
     "iopub.status.busy": "2023-12-20T12:30:04.266179Z",
     "iopub.status.idle": "2023-12-20T12:30:06.655507Z",
     "shell.execute_reply": "2023-12-20T12:30:06.653819Z"
    },
    "papermill": {
     "duration": 2.442487,
     "end_time": "2023-12-20T12:30:06.659174",
     "exception": false,
     "start_time": "2023-12-20T12:30:04.216687",
     "status": "completed"
    },
    "tags": []
   },
   "outputs": [],
   "source": [
    "#test_data\n",
    "lst = test_data[test_data['passenger_count'] == 0]['passenger_count'].index\n",
    "\n",
    "for i in lst:\n",
    "    res = test_data.loc[i, 'passenger_count']\n",
    "    test_data['passenger_count'] = test_data['passenger_count'].replace(res, X_train['passenger_count'].median())\n",
    "    out = test_data.loc[i, 'passenger_count']"
   ]
  },
  {
   "cell_type": "markdown",
   "id": "57e7ba90",
   "metadata": {
    "papermill": {
     "duration": 0.049229,
     "end_time": "2023-12-20T12:30:06.760124",
     "exception": false,
     "start_time": "2023-12-20T12:30:06.710895",
     "status": "completed"
    },
    "tags": []
   },
   "source": [
    "## ......................................................................................................................."
   ]
  },
  {
   "cell_type": "markdown",
   "id": "bc8df03c",
   "metadata": {
    "papermill": {
     "duration": 0.056208,
     "end_time": "2023-12-20T12:30:06.864525",
     "exception": false,
     "start_time": "2023-12-20T12:30:06.808317",
     "status": "completed"
    },
    "tags": []
   },
   "source": [
    "#### Null values:\n",
    "Following features contain null values.\n",
    "* **categorical**: 'store_and_fwd_flag'\n",
    "* **numerical**: 'passenger_count', 'RatecodeID', 'congestion_surcharge', 'Airport_fee'"
   ]
  },
  {
   "cell_type": "code",
   "execution_count": 42,
   "id": "3f4d21bc",
   "metadata": {
    "execution": {
     "iopub.execute_input": "2023-12-20T12:30:06.965814Z",
     "iopub.status.busy": "2023-12-20T12:30:06.965063Z",
     "iopub.status.idle": "2023-12-20T12:30:07.687608Z",
     "shell.execute_reply": "2023-12-20T12:30:07.685817Z"
    },
    "papermill": {
     "duration": 0.776462,
     "end_time": "2023-12-20T12:30:07.690511",
     "exception": false,
     "start_time": "2023-12-20T12:30:06.914049",
     "status": "completed"
    },
    "tags": []
   },
   "outputs": [
    {
     "name": "stdout",
     "output_type": "stream",
     "text": [
      "VendorID                    0\n",
      "passenger_count          6077\n",
      "trip_distance               0\n",
      "RatecodeID               6077\n",
      "store_and_fwd_flag       6077\n",
      "PULocationID                0\n",
      "DOLocationID                0\n",
      "payment_type                0\n",
      "extra                       0\n",
      "tip_amount                  0\n",
      "tolls_amount                0\n",
      "improvement_surcharge       0\n",
      "total_amount                0\n",
      "congestion_surcharge     6077\n",
      "Airport_fee              6077\n",
      "tpep_pickup_month           0\n",
      "tpep_dropoff_month          0\n",
      "tpep_pickup_day             0\n",
      "tpep_dropoff_day            0\n",
      "tpep_pickup_time            0\n",
      "tpep_dropoff_time           0\n",
      "dtype: int64\n",
      ".......\n",
      "VendorID                 0\n",
      "passenger_count          0\n",
      "trip_distance            0\n",
      "RatecodeID               0\n",
      "store_and_fwd_flag       0\n",
      "PULocationID             0\n",
      "DOLocationID             0\n",
      "payment_type             0\n",
      "extra                    0\n",
      "tip_amount               0\n",
      "tolls_amount             0\n",
      "improvement_surcharge    0\n",
      "total_amount             0\n",
      "congestion_surcharge     0\n",
      "Airport_fee              0\n",
      "tpep_pickup_month        0\n",
      "tpep_dropoff_month       0\n",
      "tpep_pickup_day          0\n",
      "tpep_dropoff_day         0\n",
      "tpep_pickup_time         0\n",
      "tpep_dropoff_time        0\n",
      "dtype: int64\n"
     ]
    }
   ],
   "source": [
    "print(data.isnull().sum())\n",
    "print('.......')\n",
    "print(data.isin(['?']).sum())"
   ]
  },
  {
   "cell_type": "markdown",
   "id": "e5b8e4e6",
   "metadata": {
    "papermill": {
     "duration": 0.048973,
     "end_time": "2023-12-20T12:30:07.787648",
     "exception": false,
     "start_time": "2023-12-20T12:30:07.738675",
     "status": "completed"
    },
    "tags": []
   },
   "source": [
    "## ......................................................................................................................."
   ]
  },
  {
   "cell_type": "markdown",
   "id": "4bcc2117",
   "metadata": {
    "papermill": {
     "duration": 0.047208,
     "end_time": "2023-12-20T12:30:07.883125",
     "exception": false,
     "start_time": "2023-12-20T12:30:07.835917",
     "status": "completed"
    },
    "tags": []
   },
   "source": [
    "#### Imputation: Simple Imputer\n",
    "* **categorical:** strategy - most frequent\n",
    "* **numerical:** strategy - mean"
   ]
  },
  {
   "cell_type": "code",
   "execution_count": 43,
   "id": "59b40502",
   "metadata": {
    "execution": {
     "iopub.execute_input": "2023-12-20T12:30:07.980218Z",
     "iopub.status.busy": "2023-12-20T12:30:07.979741Z",
     "iopub.status.idle": "2023-12-20T12:30:07.986110Z",
     "shell.execute_reply": "2023-12-20T12:30:07.984667Z"
    },
    "papermill": {
     "duration": 0.057904,
     "end_time": "2023-12-20T12:30:07.988644",
     "exception": false,
     "start_time": "2023-12-20T12:30:07.930740",
     "status": "completed"
    },
    "tags": []
   },
   "outputs": [],
   "source": [
    "si_cat = SimpleImputer(missing_values=np.nan, strategy='most_frequent')\n",
    "si_num = SimpleImputer(missing_values=np.nan, strategy='mean')"
   ]
  },
  {
   "cell_type": "code",
   "execution_count": 44,
   "id": "ede5c321",
   "metadata": {
    "execution": {
     "iopub.execute_input": "2023-12-20T12:30:08.085793Z",
     "iopub.status.busy": "2023-12-20T12:30:08.085337Z",
     "iopub.status.idle": "2023-12-20T12:30:08.091381Z",
     "shell.execute_reply": "2023-12-20T12:30:08.090280Z"
    },
    "papermill": {
     "duration": 0.057086,
     "end_time": "2023-12-20T12:30:08.093559",
     "exception": false,
     "start_time": "2023-12-20T12:30:08.036473",
     "status": "completed"
    },
    "tags": []
   },
   "outputs": [],
   "source": [
    "trf1 = [('si_cat', si_cat, ['store_and_fwd_flag']),\n",
    "        ('si_num', si_num, ['passenger_count', 'RatecodeID', 'congestion_surcharge', 'Airport_fee'])]"
   ]
  },
  {
   "cell_type": "code",
   "execution_count": 45,
   "id": "22da7f5f",
   "metadata": {
    "execution": {
     "iopub.execute_input": "2023-12-20T12:30:08.191467Z",
     "iopub.status.busy": "2023-12-20T12:30:08.191042Z",
     "iopub.status.idle": "2023-12-20T12:30:08.212635Z",
     "shell.execute_reply": "2023-12-20T12:30:08.211233Z"
    },
    "papermill": {
     "duration": 0.073056,
     "end_time": "2023-12-20T12:30:08.215217",
     "exception": false,
     "start_time": "2023-12-20T12:30:08.142161",
     "status": "completed"
    },
    "tags": []
   },
   "outputs": [
    {
     "data": {
      "text/html": [
       "<style>#sk-container-id-1 {color: black;background-color: white;}#sk-container-id-1 pre{padding: 0;}#sk-container-id-1 div.sk-toggleable {background-color: white;}#sk-container-id-1 label.sk-toggleable__label {cursor: pointer;display: block;width: 100%;margin-bottom: 0;padding: 0.3em;box-sizing: border-box;text-align: center;}#sk-container-id-1 label.sk-toggleable__label-arrow:before {content: \"▸\";float: left;margin-right: 0.25em;color: #696969;}#sk-container-id-1 label.sk-toggleable__label-arrow:hover:before {color: black;}#sk-container-id-1 div.sk-estimator:hover label.sk-toggleable__label-arrow:before {color: black;}#sk-container-id-1 div.sk-toggleable__content {max-height: 0;max-width: 0;overflow: hidden;text-align: left;background-color: #f0f8ff;}#sk-container-id-1 div.sk-toggleable__content pre {margin: 0.2em;color: black;border-radius: 0.25em;background-color: #f0f8ff;}#sk-container-id-1 input.sk-toggleable__control:checked~div.sk-toggleable__content {max-height: 200px;max-width: 100%;overflow: auto;}#sk-container-id-1 input.sk-toggleable__control:checked~label.sk-toggleable__label-arrow:before {content: \"▾\";}#sk-container-id-1 div.sk-estimator input.sk-toggleable__control:checked~label.sk-toggleable__label {background-color: #d4ebff;}#sk-container-id-1 div.sk-label input.sk-toggleable__control:checked~label.sk-toggleable__label {background-color: #d4ebff;}#sk-container-id-1 input.sk-hidden--visually {border: 0;clip: rect(1px 1px 1px 1px);clip: rect(1px, 1px, 1px, 1px);height: 1px;margin: -1px;overflow: hidden;padding: 0;position: absolute;width: 1px;}#sk-container-id-1 div.sk-estimator {font-family: monospace;background-color: #f0f8ff;border: 1px dotted black;border-radius: 0.25em;box-sizing: border-box;margin-bottom: 0.5em;}#sk-container-id-1 div.sk-estimator:hover {background-color: #d4ebff;}#sk-container-id-1 div.sk-parallel-item::after {content: \"\";width: 100%;border-bottom: 1px solid gray;flex-grow: 1;}#sk-container-id-1 div.sk-label:hover label.sk-toggleable__label {background-color: #d4ebff;}#sk-container-id-1 div.sk-serial::before {content: \"\";position: absolute;border-left: 1px solid gray;box-sizing: border-box;top: 0;bottom: 0;left: 50%;z-index: 0;}#sk-container-id-1 div.sk-serial {display: flex;flex-direction: column;align-items: center;background-color: white;padding-right: 0.2em;padding-left: 0.2em;position: relative;}#sk-container-id-1 div.sk-item {position: relative;z-index: 1;}#sk-container-id-1 div.sk-parallel {display: flex;align-items: stretch;justify-content: center;background-color: white;position: relative;}#sk-container-id-1 div.sk-item::before, #sk-container-id-1 div.sk-parallel-item::before {content: \"\";position: absolute;border-left: 1px solid gray;box-sizing: border-box;top: 0;bottom: 0;left: 50%;z-index: -1;}#sk-container-id-1 div.sk-parallel-item {display: flex;flex-direction: column;z-index: 1;position: relative;background-color: white;}#sk-container-id-1 div.sk-parallel-item:first-child::after {align-self: flex-end;width: 50%;}#sk-container-id-1 div.sk-parallel-item:last-child::after {align-self: flex-start;width: 50%;}#sk-container-id-1 div.sk-parallel-item:only-child::after {width: 0;}#sk-container-id-1 div.sk-dashed-wrapped {border: 1px dashed gray;margin: 0 0.4em 0.5em 0.4em;box-sizing: border-box;padding-bottom: 0.4em;background-color: white;}#sk-container-id-1 div.sk-label label {font-family: monospace;font-weight: bold;display: inline-block;line-height: 1.2em;}#sk-container-id-1 div.sk-label-container {text-align: center;}#sk-container-id-1 div.sk-container {/* jupyter's `normalize.less` sets `[hidden] { display: none; }` but bootstrap.min.css set `[hidden] { display: none !important; }` so we also need the `!important` here to be able to override the default hidden behavior on the sphinx rendered scikit-learn.org. See: https://github.com/scikit-learn/scikit-learn/issues/21755 */display: inline-block !important;position: relative;}#sk-container-id-1 div.sk-text-repr-fallback {display: none;}</style><div id=\"sk-container-id-1\" class=\"sk-top-container\"><div class=\"sk-text-repr-fallback\"><pre>ColumnTransformer(remainder=&#x27;passthrough&#x27;,\n",
       "                  transformers=[(&#x27;si_cat&#x27;,\n",
       "                                 SimpleImputer(strategy=&#x27;most_frequent&#x27;),\n",
       "                                 [&#x27;store_and_fwd_flag&#x27;]),\n",
       "                                (&#x27;si_num&#x27;, SimpleImputer(),\n",
       "                                 [&#x27;passenger_count&#x27;, &#x27;RatecodeID&#x27;,\n",
       "                                  &#x27;congestion_surcharge&#x27;, &#x27;Airport_fee&#x27;])],\n",
       "                  verbose_feature_names_out=False)</pre><b>In a Jupyter environment, please rerun this cell to show the HTML representation or trust the notebook. <br />On GitHub, the HTML representation is unable to render, please try loading this page with nbviewer.org.</b></div><div class=\"sk-container\" hidden><div class=\"sk-item sk-dashed-wrapped\"><div class=\"sk-label-container\"><div class=\"sk-label sk-toggleable\"><input class=\"sk-toggleable__control sk-hidden--visually\" id=\"sk-estimator-id-1\" type=\"checkbox\" ><label for=\"sk-estimator-id-1\" class=\"sk-toggleable__label sk-toggleable__label-arrow\">ColumnTransformer</label><div class=\"sk-toggleable__content\"><pre>ColumnTransformer(remainder=&#x27;passthrough&#x27;,\n",
       "                  transformers=[(&#x27;si_cat&#x27;,\n",
       "                                 SimpleImputer(strategy=&#x27;most_frequent&#x27;),\n",
       "                                 [&#x27;store_and_fwd_flag&#x27;]),\n",
       "                                (&#x27;si_num&#x27;, SimpleImputer(),\n",
       "                                 [&#x27;passenger_count&#x27;, &#x27;RatecodeID&#x27;,\n",
       "                                  &#x27;congestion_surcharge&#x27;, &#x27;Airport_fee&#x27;])],\n",
       "                  verbose_feature_names_out=False)</pre></div></div></div><div class=\"sk-parallel\"><div class=\"sk-parallel-item\"><div class=\"sk-item\"><div class=\"sk-label-container\"><div class=\"sk-label sk-toggleable\"><input class=\"sk-toggleable__control sk-hidden--visually\" id=\"sk-estimator-id-2\" type=\"checkbox\" ><label for=\"sk-estimator-id-2\" class=\"sk-toggleable__label sk-toggleable__label-arrow\">si_cat</label><div class=\"sk-toggleable__content\"><pre>[&#x27;store_and_fwd_flag&#x27;]</pre></div></div></div><div class=\"sk-serial\"><div class=\"sk-item\"><div class=\"sk-estimator sk-toggleable\"><input class=\"sk-toggleable__control sk-hidden--visually\" id=\"sk-estimator-id-3\" type=\"checkbox\" ><label for=\"sk-estimator-id-3\" class=\"sk-toggleable__label sk-toggleable__label-arrow\">SimpleImputer</label><div class=\"sk-toggleable__content\"><pre>SimpleImputer(strategy=&#x27;most_frequent&#x27;)</pre></div></div></div></div></div></div><div class=\"sk-parallel-item\"><div class=\"sk-item\"><div class=\"sk-label-container\"><div class=\"sk-label sk-toggleable\"><input class=\"sk-toggleable__control sk-hidden--visually\" id=\"sk-estimator-id-4\" type=\"checkbox\" ><label for=\"sk-estimator-id-4\" class=\"sk-toggleable__label sk-toggleable__label-arrow\">si_num</label><div class=\"sk-toggleable__content\"><pre>[&#x27;passenger_count&#x27;, &#x27;RatecodeID&#x27;, &#x27;congestion_surcharge&#x27;, &#x27;Airport_fee&#x27;]</pre></div></div></div><div class=\"sk-serial\"><div class=\"sk-item\"><div class=\"sk-estimator sk-toggleable\"><input class=\"sk-toggleable__control sk-hidden--visually\" id=\"sk-estimator-id-5\" type=\"checkbox\" ><label for=\"sk-estimator-id-5\" class=\"sk-toggleable__label sk-toggleable__label-arrow\">SimpleImputer</label><div class=\"sk-toggleable__content\"><pre>SimpleImputer()</pre></div></div></div></div></div></div><div class=\"sk-parallel-item\"><div class=\"sk-item\"><div class=\"sk-label-container\"><div class=\"sk-label sk-toggleable\"><input class=\"sk-toggleable__control sk-hidden--visually\" id=\"sk-estimator-id-6\" type=\"checkbox\" ><label for=\"sk-estimator-id-6\" class=\"sk-toggleable__label sk-toggleable__label-arrow\">remainder</label><div class=\"sk-toggleable__content\"><pre></pre></div></div></div><div class=\"sk-serial\"><div class=\"sk-item\"><div class=\"sk-estimator sk-toggleable\"><input class=\"sk-toggleable__control sk-hidden--visually\" id=\"sk-estimator-id-7\" type=\"checkbox\" ><label for=\"sk-estimator-id-7\" class=\"sk-toggleable__label sk-toggleable__label-arrow\">passthrough</label><div class=\"sk-toggleable__content\"><pre>passthrough</pre></div></div></div></div></div></div></div></div></div></div>"
      ],
      "text/plain": [
       "ColumnTransformer(remainder='passthrough',\n",
       "                  transformers=[('si_cat',\n",
       "                                 SimpleImputer(strategy='most_frequent'),\n",
       "                                 ['store_and_fwd_flag']),\n",
       "                                ('si_num', SimpleImputer(),\n",
       "                                 ['passenger_count', 'RatecodeID',\n",
       "                                  'congestion_surcharge', 'Airport_fee'])],\n",
       "                  verbose_feature_names_out=False)"
      ]
     },
     "execution_count": 45,
     "metadata": {},
     "output_type": "execute_result"
    }
   ],
   "source": [
    "ct1 = ColumnTransformer(transformers=trf1, remainder='passthrough', verbose_feature_names_out = False).set_output(transform='pandas')\n",
    "ct1"
   ]
  },
  {
   "cell_type": "code",
   "execution_count": 46,
   "id": "6a0a6bb0",
   "metadata": {
    "execution": {
     "iopub.execute_input": "2023-12-20T12:30:08.315886Z",
     "iopub.status.busy": "2023-12-20T12:30:08.315459Z",
     "iopub.status.idle": "2023-12-20T12:30:08.439945Z",
     "shell.execute_reply": "2023-12-20T12:30:08.438694Z"
    },
    "papermill": {
     "duration": 0.180844,
     "end_time": "2023-12-20T12:30:08.444674",
     "exception": false,
     "start_time": "2023-12-20T12:30:08.263830",
     "status": "completed"
    },
    "tags": []
   },
   "outputs": [
    {
     "data": {
      "text/html": [
       "<style>#sk-container-id-2 {color: black;background-color: white;}#sk-container-id-2 pre{padding: 0;}#sk-container-id-2 div.sk-toggleable {background-color: white;}#sk-container-id-2 label.sk-toggleable__label {cursor: pointer;display: block;width: 100%;margin-bottom: 0;padding: 0.3em;box-sizing: border-box;text-align: center;}#sk-container-id-2 label.sk-toggleable__label-arrow:before {content: \"▸\";float: left;margin-right: 0.25em;color: #696969;}#sk-container-id-2 label.sk-toggleable__label-arrow:hover:before {color: black;}#sk-container-id-2 div.sk-estimator:hover label.sk-toggleable__label-arrow:before {color: black;}#sk-container-id-2 div.sk-toggleable__content {max-height: 0;max-width: 0;overflow: hidden;text-align: left;background-color: #f0f8ff;}#sk-container-id-2 div.sk-toggleable__content pre {margin: 0.2em;color: black;border-radius: 0.25em;background-color: #f0f8ff;}#sk-container-id-2 input.sk-toggleable__control:checked~div.sk-toggleable__content {max-height: 200px;max-width: 100%;overflow: auto;}#sk-container-id-2 input.sk-toggleable__control:checked~label.sk-toggleable__label-arrow:before {content: \"▾\";}#sk-container-id-2 div.sk-estimator input.sk-toggleable__control:checked~label.sk-toggleable__label {background-color: #d4ebff;}#sk-container-id-2 div.sk-label input.sk-toggleable__control:checked~label.sk-toggleable__label {background-color: #d4ebff;}#sk-container-id-2 input.sk-hidden--visually {border: 0;clip: rect(1px 1px 1px 1px);clip: rect(1px, 1px, 1px, 1px);height: 1px;margin: -1px;overflow: hidden;padding: 0;position: absolute;width: 1px;}#sk-container-id-2 div.sk-estimator {font-family: monospace;background-color: #f0f8ff;border: 1px dotted black;border-radius: 0.25em;box-sizing: border-box;margin-bottom: 0.5em;}#sk-container-id-2 div.sk-estimator:hover {background-color: #d4ebff;}#sk-container-id-2 div.sk-parallel-item::after {content: \"\";width: 100%;border-bottom: 1px solid gray;flex-grow: 1;}#sk-container-id-2 div.sk-label:hover label.sk-toggleable__label {background-color: #d4ebff;}#sk-container-id-2 div.sk-serial::before {content: \"\";position: absolute;border-left: 1px solid gray;box-sizing: border-box;top: 0;bottom: 0;left: 50%;z-index: 0;}#sk-container-id-2 div.sk-serial {display: flex;flex-direction: column;align-items: center;background-color: white;padding-right: 0.2em;padding-left: 0.2em;position: relative;}#sk-container-id-2 div.sk-item {position: relative;z-index: 1;}#sk-container-id-2 div.sk-parallel {display: flex;align-items: stretch;justify-content: center;background-color: white;position: relative;}#sk-container-id-2 div.sk-item::before, #sk-container-id-2 div.sk-parallel-item::before {content: \"\";position: absolute;border-left: 1px solid gray;box-sizing: border-box;top: 0;bottom: 0;left: 50%;z-index: -1;}#sk-container-id-2 div.sk-parallel-item {display: flex;flex-direction: column;z-index: 1;position: relative;background-color: white;}#sk-container-id-2 div.sk-parallel-item:first-child::after {align-self: flex-end;width: 50%;}#sk-container-id-2 div.sk-parallel-item:last-child::after {align-self: flex-start;width: 50%;}#sk-container-id-2 div.sk-parallel-item:only-child::after {width: 0;}#sk-container-id-2 div.sk-dashed-wrapped {border: 1px dashed gray;margin: 0 0.4em 0.5em 0.4em;box-sizing: border-box;padding-bottom: 0.4em;background-color: white;}#sk-container-id-2 div.sk-label label {font-family: monospace;font-weight: bold;display: inline-block;line-height: 1.2em;}#sk-container-id-2 div.sk-label-container {text-align: center;}#sk-container-id-2 div.sk-container {/* jupyter's `normalize.less` sets `[hidden] { display: none; }` but bootstrap.min.css set `[hidden] { display: none !important; }` so we also need the `!important` here to be able to override the default hidden behavior on the sphinx rendered scikit-learn.org. See: https://github.com/scikit-learn/scikit-learn/issues/21755 */display: inline-block !important;position: relative;}#sk-container-id-2 div.sk-text-repr-fallback {display: none;}</style><div id=\"sk-container-id-2\" class=\"sk-top-container\"><div class=\"sk-text-repr-fallback\"><pre>ColumnTransformer(remainder=&#x27;passthrough&#x27;,\n",
       "                  transformers=[(&#x27;si_cat&#x27;,\n",
       "                                 SimpleImputer(strategy=&#x27;most_frequent&#x27;),\n",
       "                                 [&#x27;store_and_fwd_flag&#x27;]),\n",
       "                                (&#x27;si_num&#x27;, SimpleImputer(),\n",
       "                                 [&#x27;passenger_count&#x27;, &#x27;RatecodeID&#x27;,\n",
       "                                  &#x27;congestion_surcharge&#x27;, &#x27;Airport_fee&#x27;])],\n",
       "                  verbose_feature_names_out=False)</pre><b>In a Jupyter environment, please rerun this cell to show the HTML representation or trust the notebook. <br />On GitHub, the HTML representation is unable to render, please try loading this page with nbviewer.org.</b></div><div class=\"sk-container\" hidden><div class=\"sk-item sk-dashed-wrapped\"><div class=\"sk-label-container\"><div class=\"sk-label sk-toggleable\"><input class=\"sk-toggleable__control sk-hidden--visually\" id=\"sk-estimator-id-8\" type=\"checkbox\" ><label for=\"sk-estimator-id-8\" class=\"sk-toggleable__label sk-toggleable__label-arrow\">ColumnTransformer</label><div class=\"sk-toggleable__content\"><pre>ColumnTransformer(remainder=&#x27;passthrough&#x27;,\n",
       "                  transformers=[(&#x27;si_cat&#x27;,\n",
       "                                 SimpleImputer(strategy=&#x27;most_frequent&#x27;),\n",
       "                                 [&#x27;store_and_fwd_flag&#x27;]),\n",
       "                                (&#x27;si_num&#x27;, SimpleImputer(),\n",
       "                                 [&#x27;passenger_count&#x27;, &#x27;RatecodeID&#x27;,\n",
       "                                  &#x27;congestion_surcharge&#x27;, &#x27;Airport_fee&#x27;])],\n",
       "                  verbose_feature_names_out=False)</pre></div></div></div><div class=\"sk-parallel\"><div class=\"sk-parallel-item\"><div class=\"sk-item\"><div class=\"sk-label-container\"><div class=\"sk-label sk-toggleable\"><input class=\"sk-toggleable__control sk-hidden--visually\" id=\"sk-estimator-id-9\" type=\"checkbox\" ><label for=\"sk-estimator-id-9\" class=\"sk-toggleable__label sk-toggleable__label-arrow\">si_cat</label><div class=\"sk-toggleable__content\"><pre>[&#x27;store_and_fwd_flag&#x27;]</pre></div></div></div><div class=\"sk-serial\"><div class=\"sk-item\"><div class=\"sk-estimator sk-toggleable\"><input class=\"sk-toggleable__control sk-hidden--visually\" id=\"sk-estimator-id-10\" type=\"checkbox\" ><label for=\"sk-estimator-id-10\" class=\"sk-toggleable__label sk-toggleable__label-arrow\">SimpleImputer</label><div class=\"sk-toggleable__content\"><pre>SimpleImputer(strategy=&#x27;most_frequent&#x27;)</pre></div></div></div></div></div></div><div class=\"sk-parallel-item\"><div class=\"sk-item\"><div class=\"sk-label-container\"><div class=\"sk-label sk-toggleable\"><input class=\"sk-toggleable__control sk-hidden--visually\" id=\"sk-estimator-id-11\" type=\"checkbox\" ><label for=\"sk-estimator-id-11\" class=\"sk-toggleable__label sk-toggleable__label-arrow\">si_num</label><div class=\"sk-toggleable__content\"><pre>[&#x27;passenger_count&#x27;, &#x27;RatecodeID&#x27;, &#x27;congestion_surcharge&#x27;, &#x27;Airport_fee&#x27;]</pre></div></div></div><div class=\"sk-serial\"><div class=\"sk-item\"><div class=\"sk-estimator sk-toggleable\"><input class=\"sk-toggleable__control sk-hidden--visually\" id=\"sk-estimator-id-12\" type=\"checkbox\" ><label for=\"sk-estimator-id-12\" class=\"sk-toggleable__label sk-toggleable__label-arrow\">SimpleImputer</label><div class=\"sk-toggleable__content\"><pre>SimpleImputer()</pre></div></div></div></div></div></div><div class=\"sk-parallel-item\"><div class=\"sk-item\"><div class=\"sk-label-container\"><div class=\"sk-label sk-toggleable\"><input class=\"sk-toggleable__control sk-hidden--visually\" id=\"sk-estimator-id-13\" type=\"checkbox\" ><label for=\"sk-estimator-id-13\" class=\"sk-toggleable__label sk-toggleable__label-arrow\">remainder</label><div class=\"sk-toggleable__content\"><pre>[&#x27;VendorID&#x27;, &#x27;trip_distance&#x27;, &#x27;PULocationID&#x27;, &#x27;DOLocationID&#x27;, &#x27;payment_type&#x27;, &#x27;extra&#x27;, &#x27;tip_amount&#x27;, &#x27;tolls_amount&#x27;, &#x27;improvement_surcharge&#x27;, &#x27;tpep_pickup_month&#x27;, &#x27;tpep_dropoff_month&#x27;, &#x27;tpep_pickup_day&#x27;, &#x27;tpep_dropoff_day&#x27;, &#x27;tpep_pickup_time&#x27;, &#x27;tpep_dropoff_time&#x27;]</pre></div></div></div><div class=\"sk-serial\"><div class=\"sk-item\"><div class=\"sk-estimator sk-toggleable\"><input class=\"sk-toggleable__control sk-hidden--visually\" id=\"sk-estimator-id-14\" type=\"checkbox\" ><label for=\"sk-estimator-id-14\" class=\"sk-toggleable__label sk-toggleable__label-arrow\">passthrough</label><div class=\"sk-toggleable__content\"><pre>passthrough</pre></div></div></div></div></div></div></div></div></div></div>"
      ],
      "text/plain": [
       "ColumnTransformer(remainder='passthrough',\n",
       "                  transformers=[('si_cat',\n",
       "                                 SimpleImputer(strategy='most_frequent'),\n",
       "                                 ['store_and_fwd_flag']),\n",
       "                                ('si_num', SimpleImputer(),\n",
       "                                 ['passenger_count', 'RatecodeID',\n",
       "                                  'congestion_surcharge', 'Airport_fee'])],\n",
       "                  verbose_feature_names_out=False)"
      ]
     },
     "execution_count": 46,
     "metadata": {},
     "output_type": "execute_result"
    }
   ],
   "source": [
    "ct1.fit(X_train)"
   ]
  },
  {
   "cell_type": "code",
   "execution_count": 47,
   "id": "eec57b05",
   "metadata": {
    "execution": {
     "iopub.execute_input": "2023-12-20T12:30:08.562514Z",
     "iopub.status.busy": "2023-12-20T12:30:08.562085Z",
     "iopub.status.idle": "2023-12-20T12:30:08.648508Z",
     "shell.execute_reply": "2023-12-20T12:30:08.647264Z"
    },
    "papermill": {
     "duration": 0.140914,
     "end_time": "2023-12-20T12:30:08.651326",
     "exception": false,
     "start_time": "2023-12-20T12:30:08.510412",
     "status": "completed"
    },
    "tags": []
   },
   "outputs": [],
   "source": [
    "X_train = ct1.transform(X_train)\n",
    "X_test = ct1.transform(X_test)\n",
    "test_data = ct1.transform(test_data)"
   ]
  },
  {
   "cell_type": "code",
   "execution_count": 48,
   "id": "757f2efd",
   "metadata": {
    "execution": {
     "iopub.execute_input": "2023-12-20T12:30:08.754923Z",
     "iopub.status.busy": "2023-12-20T12:30:08.754502Z",
     "iopub.status.idle": "2023-12-20T12:30:08.784156Z",
     "shell.execute_reply": "2023-12-20T12:30:08.783307Z"
    },
    "papermill": {
     "duration": 0.0849,
     "end_time": "2023-12-20T12:30:08.787389",
     "exception": false,
     "start_time": "2023-12-20T12:30:08.702489",
     "status": "completed"
    },
    "tags": []
   },
   "outputs": [
    {
     "data": {
      "text/html": [
       "<div>\n",
       "<style scoped>\n",
       "    .dataframe tbody tr th:only-of-type {\n",
       "        vertical-align: middle;\n",
       "    }\n",
       "\n",
       "    .dataframe tbody tr th {\n",
       "        vertical-align: top;\n",
       "    }\n",
       "\n",
       "    .dataframe thead th {\n",
       "        text-align: right;\n",
       "    }\n",
       "</style>\n",
       "<table border=\"1\" class=\"dataframe\">\n",
       "  <thead>\n",
       "    <tr style=\"text-align: right;\">\n",
       "      <th></th>\n",
       "      <th>store_and_fwd_flag</th>\n",
       "      <th>passenger_count</th>\n",
       "      <th>RatecodeID</th>\n",
       "      <th>congestion_surcharge</th>\n",
       "      <th>Airport_fee</th>\n",
       "      <th>VendorID</th>\n",
       "      <th>trip_distance</th>\n",
       "      <th>PULocationID</th>\n",
       "      <th>DOLocationID</th>\n",
       "      <th>payment_type</th>\n",
       "      <th>extra</th>\n",
       "      <th>tip_amount</th>\n",
       "      <th>tolls_amount</th>\n",
       "      <th>improvement_surcharge</th>\n",
       "      <th>tpep_pickup_month</th>\n",
       "      <th>tpep_dropoff_month</th>\n",
       "      <th>tpep_pickup_day</th>\n",
       "      <th>tpep_dropoff_day</th>\n",
       "      <th>tpep_pickup_time</th>\n",
       "      <th>tpep_dropoff_time</th>\n",
       "    </tr>\n",
       "  </thead>\n",
       "  <tbody>\n",
       "    <tr>\n",
       "      <th>143961</th>\n",
       "      <td>N</td>\n",
       "      <td>1.0</td>\n",
       "      <td>1.0</td>\n",
       "      <td>0.0</td>\n",
       "      <td>1.75</td>\n",
       "      <td>1</td>\n",
       "      <td>7.79</td>\n",
       "      <td>181</td>\n",
       "      <td>174</td>\n",
       "      <td>Credit Card</td>\n",
       "      <td>1.0</td>\n",
       "      <td>7.956385</td>\n",
       "      <td>0.0</td>\n",
       "      <td>1.0</td>\n",
       "      <td>6</td>\n",
       "      <td>6</td>\n",
       "      <td>29</td>\n",
       "      <td>30</td>\n",
       "      <td>1286.716667</td>\n",
       "      <td>1374.7</td>\n",
       "    </tr>\n",
       "    <tr>\n",
       "      <th>170292</th>\n",
       "      <td>N</td>\n",
       "      <td>1.0</td>\n",
       "      <td>1.0</td>\n",
       "      <td>2.5</td>\n",
       "      <td>0.00</td>\n",
       "      <td>1</td>\n",
       "      <td>0.79</td>\n",
       "      <td>250</td>\n",
       "      <td>226</td>\n",
       "      <td>Credit Card</td>\n",
       "      <td>2.5</td>\n",
       "      <td>2.276785</td>\n",
       "      <td>0.0</td>\n",
       "      <td>1.0</td>\n",
       "      <td>6</td>\n",
       "      <td>6</td>\n",
       "      <td>28</td>\n",
       "      <td>28</td>\n",
       "      <td>1286.716667</td>\n",
       "      <td>1374.7</td>\n",
       "    </tr>\n",
       "    <tr>\n",
       "      <th>161029</th>\n",
       "      <td>N</td>\n",
       "      <td>1.0</td>\n",
       "      <td>2.0</td>\n",
       "      <td>-2.5</td>\n",
       "      <td>0.00</td>\n",
       "      <td>1</td>\n",
       "      <td>0.29</td>\n",
       "      <td>236</td>\n",
       "      <td>251</td>\n",
       "      <td>unknown</td>\n",
       "      <td>0.0</td>\n",
       "      <td>1.062698</td>\n",
       "      <td>0.0</td>\n",
       "      <td>-1.0</td>\n",
       "      <td>6</td>\n",
       "      <td>6</td>\n",
       "      <td>30</td>\n",
       "      <td>30</td>\n",
       "      <td>1286.716667</td>\n",
       "      <td>1374.7</td>\n",
       "    </tr>\n",
       "    <tr>\n",
       "      <th>84006</th>\n",
       "      <td>N</td>\n",
       "      <td>1.0</td>\n",
       "      <td>1.0</td>\n",
       "      <td>2.5</td>\n",
       "      <td>0.00</td>\n",
       "      <td>0</td>\n",
       "      <td>0.60</td>\n",
       "      <td>83</td>\n",
       "      <td>166</td>\n",
       "      <td>Credit Card</td>\n",
       "      <td>3.5</td>\n",
       "      <td>2.444217</td>\n",
       "      <td>0.0</td>\n",
       "      <td>1.0</td>\n",
       "      <td>6</td>\n",
       "      <td>6</td>\n",
       "      <td>29</td>\n",
       "      <td>29</td>\n",
       "      <td>1286.716667</td>\n",
       "      <td>1374.7</td>\n",
       "    </tr>\n",
       "    <tr>\n",
       "      <th>95628</th>\n",
       "      <td>N</td>\n",
       "      <td>1.0</td>\n",
       "      <td>1.0</td>\n",
       "      <td>2.5</td>\n",
       "      <td>0.00</td>\n",
       "      <td>0</td>\n",
       "      <td>1.90</td>\n",
       "      <td>70</td>\n",
       "      <td>35</td>\n",
       "      <td>Credit Card</td>\n",
       "      <td>5.0</td>\n",
       "      <td>5.163920</td>\n",
       "      <td>0.0</td>\n",
       "      <td>1.0</td>\n",
       "      <td>6</td>\n",
       "      <td>6</td>\n",
       "      <td>28</td>\n",
       "      <td>28</td>\n",
       "      <td>1286.716667</td>\n",
       "      <td>1374.7</td>\n",
       "    </tr>\n",
       "  </tbody>\n",
       "</table>\n",
       "</div>"
      ],
      "text/plain": [
       "       store_and_fwd_flag  passenger_count  RatecodeID  congestion_surcharge  \\\n",
       "143961                  N              1.0         1.0                   0.0   \n",
       "170292                  N              1.0         1.0                   2.5   \n",
       "161029                  N              1.0         2.0                  -2.5   \n",
       "84006                   N              1.0         1.0                   2.5   \n",
       "95628                   N              1.0         1.0                   2.5   \n",
       "\n",
       "        Airport_fee  VendorID  trip_distance  PULocationID  DOLocationID  \\\n",
       "143961         1.75         1           7.79           181           174   \n",
       "170292         0.00         1           0.79           250           226   \n",
       "161029         0.00         1           0.29           236           251   \n",
       "84006          0.00         0           0.60            83           166   \n",
       "95628          0.00         0           1.90            70            35   \n",
       "\n",
       "       payment_type  extra  tip_amount  tolls_amount  improvement_surcharge  \\\n",
       "143961  Credit Card    1.0    7.956385           0.0                    1.0   \n",
       "170292  Credit Card    2.5    2.276785           0.0                    1.0   \n",
       "161029      unknown    0.0    1.062698           0.0                   -1.0   \n",
       "84006   Credit Card    3.5    2.444217           0.0                    1.0   \n",
       "95628   Credit Card    5.0    5.163920           0.0                    1.0   \n",
       "\n",
       "        tpep_pickup_month  tpep_dropoff_month  tpep_pickup_day  \\\n",
       "143961                  6                   6               29   \n",
       "170292                  6                   6               28   \n",
       "161029                  6                   6               30   \n",
       "84006                   6                   6               29   \n",
       "95628                   6                   6               28   \n",
       "\n",
       "        tpep_dropoff_day  tpep_pickup_time  tpep_dropoff_time  \n",
       "143961                30       1286.716667             1374.7  \n",
       "170292                28       1286.716667             1374.7  \n",
       "161029                30       1286.716667             1374.7  \n",
       "84006                 29       1286.716667             1374.7  \n",
       "95628                 28       1286.716667             1374.7  "
      ]
     },
     "execution_count": 48,
     "metadata": {},
     "output_type": "execute_result"
    }
   ],
   "source": [
    "X_train.head()"
   ]
  },
  {
   "cell_type": "markdown",
   "id": "48d8a4a5",
   "metadata": {
    "papermill": {
     "duration": 0.049495,
     "end_time": "2023-12-20T12:30:08.889791",
     "exception": false,
     "start_time": "2023-12-20T12:30:08.840296",
     "status": "completed"
    },
    "tags": []
   },
   "source": [
    "## ......................................................................................................................."
   ]
  },
  {
   "cell_type": "markdown",
   "id": "0fa4b869",
   "metadata": {
    "papermill": {
     "duration": 0.048662,
     "end_time": "2023-12-20T12:30:08.987370",
     "exception": false,
     "start_time": "2023-12-20T12:30:08.938708",
     "status": "completed"
    },
    "tags": []
   },
   "source": [
    "#### Duplicate rows:\n",
    "* No duplicates present."
   ]
  },
  {
   "cell_type": "code",
   "execution_count": 49,
   "id": "79b40d32",
   "metadata": {
    "execution": {
     "iopub.execute_input": "2023-12-20T12:30:09.091614Z",
     "iopub.status.busy": "2023-12-20T12:30:09.090323Z",
     "iopub.status.idle": "2023-12-20T12:30:09.242450Z",
     "shell.execute_reply": "2023-12-20T12:30:09.241067Z"
    },
    "papermill": {
     "duration": 0.206435,
     "end_time": "2023-12-20T12:30:09.244964",
     "exception": false,
     "start_time": "2023-12-20T12:30:09.038529",
     "status": "completed"
    },
    "tags": []
   },
   "outputs": [
    {
     "data": {
      "text/plain": [
       "0"
      ]
     },
     "execution_count": 49,
     "metadata": {},
     "output_type": "execute_result"
    }
   ],
   "source": [
    "data.duplicated().sum()"
   ]
  },
  {
   "cell_type": "markdown",
   "id": "5b616a87",
   "metadata": {
    "papermill": {
     "duration": 0.050539,
     "end_time": "2023-12-20T12:30:09.346568",
     "exception": false,
     "start_time": "2023-12-20T12:30:09.296029",
     "status": "completed"
    },
    "tags": []
   },
   "source": [
    "## ......................................................................................................................."
   ]
  },
  {
   "cell_type": "markdown",
   "id": "14fad521",
   "metadata": {
    "papermill": {
     "duration": 0.050425,
     "end_time": "2023-12-20T12:30:09.446354",
     "exception": false,
     "start_time": "2023-12-20T12:30:09.395929",
     "status": "completed"
    },
    "tags": []
   },
   "source": [
    "#### Encoding and scaling:\n",
    "* Encode categorical features.\n",
    "    * Ordinal: OrdinalEncoder\n",
    "    * Nominal: OneHotEncoder\n",
    "* Scale numerical features using MinMaxScaler."
   ]
  },
  {
   "cell_type": "code",
   "execution_count": 50,
   "id": "9d0521be",
   "metadata": {
    "execution": {
     "iopub.execute_input": "2023-12-20T12:30:09.547899Z",
     "iopub.status.busy": "2023-12-20T12:30:09.547073Z",
     "iopub.status.idle": "2023-12-20T12:30:09.576332Z",
     "shell.execute_reply": "2023-12-20T12:30:09.574889Z"
    },
    "papermill": {
     "duration": 0.083844,
     "end_time": "2023-12-20T12:30:09.579063",
     "exception": false,
     "start_time": "2023-12-20T12:30:09.495219",
     "status": "completed"
    },
    "tags": []
   },
   "outputs": [
    {
     "name": "stdout",
     "output_type": "stream",
     "text": [
      "Index(['store_and_fwd_flag', 'payment_type'], dtype='object')\n",
      "..........\n",
      "Index(['passenger_count', 'RatecodeID', 'congestion_surcharge', 'Airport_fee',\n",
      "       'VendorID', 'trip_distance', 'PULocationID', 'DOLocationID', 'extra',\n",
      "       'tip_amount', 'tolls_amount', 'improvement_surcharge',\n",
      "       'tpep_pickup_month', 'tpep_dropoff_month', 'tpep_pickup_day',\n",
      "       'tpep_dropoff_day', 'tpep_pickup_time', 'tpep_dropoff_time'],\n",
      "      dtype='object')\n"
     ]
    }
   ],
   "source": [
    "categorical = X_train.select_dtypes(include=['object']).columns\n",
    "numerical = X_train.select_dtypes(include=['int', 'float']).columns\n",
    "print(categorical)\n",
    "print('..........')\n",
    "print(numerical)"
   ]
  },
  {
   "cell_type": "code",
   "execution_count": 51,
   "id": "86416f66",
   "metadata": {
    "execution": {
     "iopub.execute_input": "2023-12-20T12:30:09.680951Z",
     "iopub.status.busy": "2023-12-20T12:30:09.680215Z",
     "iopub.status.idle": "2023-12-20T12:30:09.684618Z",
     "shell.execute_reply": "2023-12-20T12:30:09.683753Z"
    },
    "papermill": {
     "duration": 0.058078,
     "end_time": "2023-12-20T12:30:09.686799",
     "exception": false,
     "start_time": "2023-12-20T12:30:09.628721",
     "status": "completed"
    },
    "tags": []
   },
   "outputs": [],
   "source": [
    "ohe = OneHotEncoder(sparse_output=False)\n",
    "mms = MinMaxScaler()"
   ]
  },
  {
   "cell_type": "code",
   "execution_count": 52,
   "id": "e828268c",
   "metadata": {
    "execution": {
     "iopub.execute_input": "2023-12-20T12:30:09.788245Z",
     "iopub.status.busy": "2023-12-20T12:30:09.787559Z",
     "iopub.status.idle": "2023-12-20T12:30:09.792061Z",
     "shell.execute_reply": "2023-12-20T12:30:09.791236Z"
    },
    "papermill": {
     "duration": 0.057647,
     "end_time": "2023-12-20T12:30:09.794366",
     "exception": false,
     "start_time": "2023-12-20T12:30:09.736719",
     "status": "completed"
    },
    "tags": []
   },
   "outputs": [],
   "source": [
    "trf2 = [('ohe', ohe, categorical), ('mms', mms, numerical)]"
   ]
  },
  {
   "cell_type": "code",
   "execution_count": 53,
   "id": "3e520c98",
   "metadata": {
    "execution": {
     "iopub.execute_input": "2023-12-20T12:30:09.896331Z",
     "iopub.status.busy": "2023-12-20T12:30:09.895657Z",
     "iopub.status.idle": "2023-12-20T12:30:09.912721Z",
     "shell.execute_reply": "2023-12-20T12:30:09.911865Z"
    },
    "papermill": {
     "duration": 0.070811,
     "end_time": "2023-12-20T12:30:09.914962",
     "exception": false,
     "start_time": "2023-12-20T12:30:09.844151",
     "status": "completed"
    },
    "tags": []
   },
   "outputs": [
    {
     "data": {
      "text/html": [
       "<style>#sk-container-id-3 {color: black;background-color: white;}#sk-container-id-3 pre{padding: 0;}#sk-container-id-3 div.sk-toggleable {background-color: white;}#sk-container-id-3 label.sk-toggleable__label {cursor: pointer;display: block;width: 100%;margin-bottom: 0;padding: 0.3em;box-sizing: border-box;text-align: center;}#sk-container-id-3 label.sk-toggleable__label-arrow:before {content: \"▸\";float: left;margin-right: 0.25em;color: #696969;}#sk-container-id-3 label.sk-toggleable__label-arrow:hover:before {color: black;}#sk-container-id-3 div.sk-estimator:hover label.sk-toggleable__label-arrow:before {color: black;}#sk-container-id-3 div.sk-toggleable__content {max-height: 0;max-width: 0;overflow: hidden;text-align: left;background-color: #f0f8ff;}#sk-container-id-3 div.sk-toggleable__content pre {margin: 0.2em;color: black;border-radius: 0.25em;background-color: #f0f8ff;}#sk-container-id-3 input.sk-toggleable__control:checked~div.sk-toggleable__content {max-height: 200px;max-width: 100%;overflow: auto;}#sk-container-id-3 input.sk-toggleable__control:checked~label.sk-toggleable__label-arrow:before {content: \"▾\";}#sk-container-id-3 div.sk-estimator input.sk-toggleable__control:checked~label.sk-toggleable__label {background-color: #d4ebff;}#sk-container-id-3 div.sk-label input.sk-toggleable__control:checked~label.sk-toggleable__label {background-color: #d4ebff;}#sk-container-id-3 input.sk-hidden--visually {border: 0;clip: rect(1px 1px 1px 1px);clip: rect(1px, 1px, 1px, 1px);height: 1px;margin: -1px;overflow: hidden;padding: 0;position: absolute;width: 1px;}#sk-container-id-3 div.sk-estimator {font-family: monospace;background-color: #f0f8ff;border: 1px dotted black;border-radius: 0.25em;box-sizing: border-box;margin-bottom: 0.5em;}#sk-container-id-3 div.sk-estimator:hover {background-color: #d4ebff;}#sk-container-id-3 div.sk-parallel-item::after {content: \"\";width: 100%;border-bottom: 1px solid gray;flex-grow: 1;}#sk-container-id-3 div.sk-label:hover label.sk-toggleable__label {background-color: #d4ebff;}#sk-container-id-3 div.sk-serial::before {content: \"\";position: absolute;border-left: 1px solid gray;box-sizing: border-box;top: 0;bottom: 0;left: 50%;z-index: 0;}#sk-container-id-3 div.sk-serial {display: flex;flex-direction: column;align-items: center;background-color: white;padding-right: 0.2em;padding-left: 0.2em;position: relative;}#sk-container-id-3 div.sk-item {position: relative;z-index: 1;}#sk-container-id-3 div.sk-parallel {display: flex;align-items: stretch;justify-content: center;background-color: white;position: relative;}#sk-container-id-3 div.sk-item::before, #sk-container-id-3 div.sk-parallel-item::before {content: \"\";position: absolute;border-left: 1px solid gray;box-sizing: border-box;top: 0;bottom: 0;left: 50%;z-index: -1;}#sk-container-id-3 div.sk-parallel-item {display: flex;flex-direction: column;z-index: 1;position: relative;background-color: white;}#sk-container-id-3 div.sk-parallel-item:first-child::after {align-self: flex-end;width: 50%;}#sk-container-id-3 div.sk-parallel-item:last-child::after {align-self: flex-start;width: 50%;}#sk-container-id-3 div.sk-parallel-item:only-child::after {width: 0;}#sk-container-id-3 div.sk-dashed-wrapped {border: 1px dashed gray;margin: 0 0.4em 0.5em 0.4em;box-sizing: border-box;padding-bottom: 0.4em;background-color: white;}#sk-container-id-3 div.sk-label label {font-family: monospace;font-weight: bold;display: inline-block;line-height: 1.2em;}#sk-container-id-3 div.sk-label-container {text-align: center;}#sk-container-id-3 div.sk-container {/* jupyter's `normalize.less` sets `[hidden] { display: none; }` but bootstrap.min.css set `[hidden] { display: none !important; }` so we also need the `!important` here to be able to override the default hidden behavior on the sphinx rendered scikit-learn.org. See: https://github.com/scikit-learn/scikit-learn/issues/21755 */display: inline-block !important;position: relative;}#sk-container-id-3 div.sk-text-repr-fallback {display: none;}</style><div id=\"sk-container-id-3\" class=\"sk-top-container\"><div class=\"sk-text-repr-fallback\"><pre>ColumnTransformer(remainder=&#x27;passthrough&#x27;,\n",
       "                  transformers=[(&#x27;ohe&#x27;, OneHotEncoder(sparse_output=False),\n",
       "                                 Index([&#x27;store_and_fwd_flag&#x27;, &#x27;payment_type&#x27;], dtype=&#x27;object&#x27;)),\n",
       "                                (&#x27;mms&#x27;, MinMaxScaler(),\n",
       "                                 Index([&#x27;passenger_count&#x27;, &#x27;RatecodeID&#x27;, &#x27;congestion_surcharge&#x27;, &#x27;Airport_fee&#x27;,\n",
       "       &#x27;VendorID&#x27;, &#x27;trip_distance&#x27;, &#x27;PULocationID&#x27;, &#x27;DOLocationID&#x27;, &#x27;extra&#x27;,\n",
       "       &#x27;tip_amount&#x27;, &#x27;tolls_amount&#x27;, &#x27;improvement_surcharge&#x27;,\n",
       "       &#x27;tpep_pickup_month&#x27;, &#x27;tpep_dropoff_month&#x27;, &#x27;tpep_pickup_day&#x27;,\n",
       "       &#x27;tpep_dropoff_day&#x27;, &#x27;tpep_pickup_time&#x27;, &#x27;tpep_dropoff_time&#x27;],\n",
       "      dtype=&#x27;object&#x27;))],\n",
       "                  verbose_feature_names_out=False)</pre><b>In a Jupyter environment, please rerun this cell to show the HTML representation or trust the notebook. <br />On GitHub, the HTML representation is unable to render, please try loading this page with nbviewer.org.</b></div><div class=\"sk-container\" hidden><div class=\"sk-item sk-dashed-wrapped\"><div class=\"sk-label-container\"><div class=\"sk-label sk-toggleable\"><input class=\"sk-toggleable__control sk-hidden--visually\" id=\"sk-estimator-id-15\" type=\"checkbox\" ><label for=\"sk-estimator-id-15\" class=\"sk-toggleable__label sk-toggleable__label-arrow\">ColumnTransformer</label><div class=\"sk-toggleable__content\"><pre>ColumnTransformer(remainder=&#x27;passthrough&#x27;,\n",
       "                  transformers=[(&#x27;ohe&#x27;, OneHotEncoder(sparse_output=False),\n",
       "                                 Index([&#x27;store_and_fwd_flag&#x27;, &#x27;payment_type&#x27;], dtype=&#x27;object&#x27;)),\n",
       "                                (&#x27;mms&#x27;, MinMaxScaler(),\n",
       "                                 Index([&#x27;passenger_count&#x27;, &#x27;RatecodeID&#x27;, &#x27;congestion_surcharge&#x27;, &#x27;Airport_fee&#x27;,\n",
       "       &#x27;VendorID&#x27;, &#x27;trip_distance&#x27;, &#x27;PULocationID&#x27;, &#x27;DOLocationID&#x27;, &#x27;extra&#x27;,\n",
       "       &#x27;tip_amount&#x27;, &#x27;tolls_amount&#x27;, &#x27;improvement_surcharge&#x27;,\n",
       "       &#x27;tpep_pickup_month&#x27;, &#x27;tpep_dropoff_month&#x27;, &#x27;tpep_pickup_day&#x27;,\n",
       "       &#x27;tpep_dropoff_day&#x27;, &#x27;tpep_pickup_time&#x27;, &#x27;tpep_dropoff_time&#x27;],\n",
       "      dtype=&#x27;object&#x27;))],\n",
       "                  verbose_feature_names_out=False)</pre></div></div></div><div class=\"sk-parallel\"><div class=\"sk-parallel-item\"><div class=\"sk-item\"><div class=\"sk-label-container\"><div class=\"sk-label sk-toggleable\"><input class=\"sk-toggleable__control sk-hidden--visually\" id=\"sk-estimator-id-16\" type=\"checkbox\" ><label for=\"sk-estimator-id-16\" class=\"sk-toggleable__label sk-toggleable__label-arrow\">ohe</label><div class=\"sk-toggleable__content\"><pre>Index([&#x27;store_and_fwd_flag&#x27;, &#x27;payment_type&#x27;], dtype=&#x27;object&#x27;)</pre></div></div></div><div class=\"sk-serial\"><div class=\"sk-item\"><div class=\"sk-estimator sk-toggleable\"><input class=\"sk-toggleable__control sk-hidden--visually\" id=\"sk-estimator-id-17\" type=\"checkbox\" ><label for=\"sk-estimator-id-17\" class=\"sk-toggleable__label sk-toggleable__label-arrow\">OneHotEncoder</label><div class=\"sk-toggleable__content\"><pre>OneHotEncoder(sparse_output=False)</pre></div></div></div></div></div></div><div class=\"sk-parallel-item\"><div class=\"sk-item\"><div class=\"sk-label-container\"><div class=\"sk-label sk-toggleable\"><input class=\"sk-toggleable__control sk-hidden--visually\" id=\"sk-estimator-id-18\" type=\"checkbox\" ><label for=\"sk-estimator-id-18\" class=\"sk-toggleable__label sk-toggleable__label-arrow\">mms</label><div class=\"sk-toggleable__content\"><pre>Index([&#x27;passenger_count&#x27;, &#x27;RatecodeID&#x27;, &#x27;congestion_surcharge&#x27;, &#x27;Airport_fee&#x27;,\n",
       "       &#x27;VendorID&#x27;, &#x27;trip_distance&#x27;, &#x27;PULocationID&#x27;, &#x27;DOLocationID&#x27;, &#x27;extra&#x27;,\n",
       "       &#x27;tip_amount&#x27;, &#x27;tolls_amount&#x27;, &#x27;improvement_surcharge&#x27;,\n",
       "       &#x27;tpep_pickup_month&#x27;, &#x27;tpep_dropoff_month&#x27;, &#x27;tpep_pickup_day&#x27;,\n",
       "       &#x27;tpep_dropoff_day&#x27;, &#x27;tpep_pickup_time&#x27;, &#x27;tpep_dropoff_time&#x27;],\n",
       "      dtype=&#x27;object&#x27;)</pre></div></div></div><div class=\"sk-serial\"><div class=\"sk-item\"><div class=\"sk-estimator sk-toggleable\"><input class=\"sk-toggleable__control sk-hidden--visually\" id=\"sk-estimator-id-19\" type=\"checkbox\" ><label for=\"sk-estimator-id-19\" class=\"sk-toggleable__label sk-toggleable__label-arrow\">MinMaxScaler</label><div class=\"sk-toggleable__content\"><pre>MinMaxScaler()</pre></div></div></div></div></div></div><div class=\"sk-parallel-item\"><div class=\"sk-item\"><div class=\"sk-label-container\"><div class=\"sk-label sk-toggleable\"><input class=\"sk-toggleable__control sk-hidden--visually\" id=\"sk-estimator-id-20\" type=\"checkbox\" ><label for=\"sk-estimator-id-20\" class=\"sk-toggleable__label sk-toggleable__label-arrow\">remainder</label><div class=\"sk-toggleable__content\"><pre></pre></div></div></div><div class=\"sk-serial\"><div class=\"sk-item\"><div class=\"sk-estimator sk-toggleable\"><input class=\"sk-toggleable__control sk-hidden--visually\" id=\"sk-estimator-id-21\" type=\"checkbox\" ><label for=\"sk-estimator-id-21\" class=\"sk-toggleable__label sk-toggleable__label-arrow\">passthrough</label><div class=\"sk-toggleable__content\"><pre>passthrough</pre></div></div></div></div></div></div></div></div></div></div>"
      ],
      "text/plain": [
       "ColumnTransformer(remainder='passthrough',\n",
       "                  transformers=[('ohe', OneHotEncoder(sparse_output=False),\n",
       "                                 Index(['store_and_fwd_flag', 'payment_type'], dtype='object')),\n",
       "                                ('mms', MinMaxScaler(),\n",
       "                                 Index(['passenger_count', 'RatecodeID', 'congestion_surcharge', 'Airport_fee',\n",
       "       'VendorID', 'trip_distance', 'PULocationID', 'DOLocationID', 'extra',\n",
       "       'tip_amount', 'tolls_amount', 'improvement_surcharge',\n",
       "       'tpep_pickup_month', 'tpep_dropoff_month', 'tpep_pickup_day',\n",
       "       'tpep_dropoff_day', 'tpep_pickup_time', 'tpep_dropoff_time'],\n",
       "      dtype='object'))],\n",
       "                  verbose_feature_names_out=False)"
      ]
     },
     "execution_count": 53,
     "metadata": {},
     "output_type": "execute_result"
    }
   ],
   "source": [
    "ct2 = ColumnTransformer(transformers=trf2, remainder='passthrough', verbose_feature_names_out = False).set_output(transform='pandas')\n",
    "ct2"
   ]
  },
  {
   "cell_type": "markdown",
   "id": "dff1fd94",
   "metadata": {
    "papermill": {
     "duration": 0.049924,
     "end_time": "2023-12-20T12:30:10.014505",
     "exception": false,
     "start_time": "2023-12-20T12:30:09.964581",
     "status": "completed"
    },
    "tags": []
   },
   "source": [
    "## ......................................................................................................................."
   ]
  },
  {
   "cell_type": "markdown",
   "id": "20375ff2",
   "metadata": {
    "papermill": {
     "duration": 0.051017,
     "end_time": "2023-12-20T12:30:10.115778",
     "exception": false,
     "start_time": "2023-12-20T12:30:10.064761",
     "status": "completed"
    },
    "tags": []
   },
   "source": [
    "#### Feature Selection:"
   ]
  },
  {
   "cell_type": "markdown",
   "id": "96fda4e6",
   "metadata": {
    "papermill": {
     "duration": 0.04968,
     "end_time": "2023-12-20T12:30:10.215643",
     "exception": false,
     "start_time": "2023-12-20T12:30:10.165963",
     "status": "completed"
    },
    "tags": []
   },
   "source": [
    "#### PCA:"
   ]
  },
  {
   "cell_type": "code",
   "execution_count": 54,
   "id": "b2948ceb",
   "metadata": {
    "execution": {
     "iopub.execute_input": "2023-12-20T12:30:10.317589Z",
     "iopub.status.busy": "2023-12-20T12:30:10.316857Z",
     "iopub.status.idle": "2023-12-20T12:30:10.321176Z",
     "shell.execute_reply": "2023-12-20T12:30:10.320385Z"
    },
    "papermill": {
     "duration": 0.057853,
     "end_time": "2023-12-20T12:30:10.323463",
     "exception": false,
     "start_time": "2023-12-20T12:30:10.265610",
     "status": "completed"
    },
    "tags": []
   },
   "outputs": [],
   "source": [
    "pca = PCA(n_components=8) # score for SGDRegressor: 0.81"
   ]
  },
  {
   "cell_type": "markdown",
   "id": "2f9a2eb3",
   "metadata": {
    "papermill": {
     "duration": 0.049303,
     "end_time": "2023-12-20T12:30:10.422854",
     "exception": false,
     "start_time": "2023-12-20T12:30:10.373551",
     "status": "completed"
    },
    "tags": []
   },
   "source": [
    "#### SelectKBest:"
   ]
  },
  {
   "cell_type": "code",
   "execution_count": 55,
   "id": "b269cfde",
   "metadata": {
    "execution": {
     "iopub.execute_input": "2023-12-20T12:30:10.525153Z",
     "iopub.status.busy": "2023-12-20T12:30:10.524487Z",
     "iopub.status.idle": "2023-12-20T12:30:10.528927Z",
     "shell.execute_reply": "2023-12-20T12:30:10.528130Z"
    },
    "papermill": {
     "duration": 0.058065,
     "end_time": "2023-12-20T12:30:10.531196",
     "exception": false,
     "start_time": "2023-12-20T12:30:10.473131",
     "status": "completed"
    },
    "tags": []
   },
   "outputs": [],
   "source": [
    "skb = SelectKBest(f_regression, k=18) \n",
    "# score for SGDRegressor\n",
    "#18: 0.8795587839384801\n",
    "#15: 0.8795559673233831\n",
    "#20: 0.87954134572976\n",
    "#12: 0.8786932739186317 \n",
    "#10: 0.878632060096975 \n",
    "#8: 0.8769226169772277"
   ]
  },
  {
   "cell_type": "markdown",
   "id": "9095ce93",
   "metadata": {
    "papermill": {
     "duration": 0.049424,
     "end_time": "2023-12-20T12:30:10.630212",
     "exception": false,
     "start_time": "2023-12-20T12:30:10.580788",
     "status": "completed"
    },
    "tags": []
   },
   "source": [
    "#### VarianceThreshold:"
   ]
  },
  {
   "cell_type": "code",
   "execution_count": 56,
   "id": "01b383ec",
   "metadata": {
    "execution": {
     "iopub.execute_input": "2023-12-20T12:30:10.732926Z",
     "iopub.status.busy": "2023-12-20T12:30:10.732252Z",
     "iopub.status.idle": "2023-12-20T12:30:10.736912Z",
     "shell.execute_reply": "2023-12-20T12:30:10.736059Z"
    },
    "papermill": {
     "duration": 0.058979,
     "end_time": "2023-12-20T12:30:10.739328",
     "exception": false,
     "start_time": "2023-12-20T12:30:10.680349",
     "status": "completed"
    },
    "tags": []
   },
   "outputs": [],
   "source": [
    "vt = VarianceThreshold()"
   ]
  },
  {
   "cell_type": "markdown",
   "id": "bb89dd76",
   "metadata": {
    "papermill": {
     "duration": 0.049062,
     "end_time": "2023-12-20T12:30:10.838708",
     "exception": false,
     "start_time": "2023-12-20T12:30:10.789646",
     "status": "completed"
    },
    "tags": []
   },
   "source": [
    "## ......................................................................................................................."
   ]
  },
  {
   "cell_type": "markdown",
   "id": "d379a70e",
   "metadata": {
    "papermill": {
     "duration": 0.049418,
     "end_time": "2023-12-20T12:30:10.939044",
     "exception": false,
     "start_time": "2023-12-20T12:30:10.889626",
     "status": "completed"
    },
    "tags": []
   },
   "source": [
    "### MODEL-1\n",
    "#### XGBRegressor with RandomizedSearchCV"
   ]
  },
  {
   "cell_type": "code",
   "execution_count": 57,
   "id": "c0c6d81a",
   "metadata": {
    "execution": {
     "iopub.execute_input": "2023-12-20T12:30:11.041173Z",
     "iopub.status.busy": "2023-12-20T12:30:11.040480Z",
     "iopub.status.idle": "2023-12-20T12:30:11.045596Z",
     "shell.execute_reply": "2023-12-20T12:30:11.044671Z"
    },
    "papermill": {
     "duration": 0.059372,
     "end_time": "2023-12-20T12:30:11.048045",
     "exception": false,
     "start_time": "2023-12-20T12:30:10.988673",
     "status": "completed"
    },
    "tags": []
   },
   "outputs": [],
   "source": [
    "xg = xgb.XGBRegressor(n_estimators = 600, max_depth = 5, learning_rate = 0.015, random_state = 42) # best parameters"
   ]
  },
  {
   "cell_type": "markdown",
   "id": "8425045d",
   "metadata": {
    "papermill": {
     "duration": 0.051869,
     "end_time": "2023-12-20T12:30:11.149699",
     "exception": false,
     "start_time": "2023-12-20T12:30:11.097830",
     "status": "completed"
    },
    "tags": []
   },
   "source": [
    "- **Pipeline:**\n",
    "    - ColumnTransformer: OneHotEncoder and MinMaxScaler\n",
    "    - VarianceThreshold\n",
    "    - XGBRegressor"
   ]
  },
  {
   "cell_type": "code",
   "execution_count": 58,
   "id": "bcc1d061",
   "metadata": {
    "execution": {
     "iopub.execute_input": "2023-12-20T12:30:11.252013Z",
     "iopub.status.busy": "2023-12-20T12:30:11.251309Z",
     "iopub.status.idle": "2023-12-20T12:30:11.256164Z",
     "shell.execute_reply": "2023-12-20T12:30:11.255285Z"
    },
    "papermill": {
     "duration": 0.05838,
     "end_time": "2023-12-20T12:30:11.258479",
     "exception": false,
     "start_time": "2023-12-20T12:30:11.200099",
     "status": "completed"
    },
    "tags": []
   },
   "outputs": [],
   "source": [
    "stp1 = [('ct2', ct2), ('vt', vt), ('xg', xg)]"
   ]
  },
  {
   "cell_type": "code",
   "execution_count": 59,
   "id": "1017a2dd",
   "metadata": {
    "execution": {
     "iopub.execute_input": "2023-12-20T12:30:11.361178Z",
     "iopub.status.busy": "2023-12-20T12:30:11.360492Z",
     "iopub.status.idle": "2023-12-20T12:30:11.365464Z",
     "shell.execute_reply": "2023-12-20T12:30:11.364509Z"
    },
    "papermill": {
     "duration": 0.059015,
     "end_time": "2023-12-20T12:30:11.367925",
     "exception": false,
     "start_time": "2023-12-20T12:30:11.308910",
     "status": "completed"
    },
    "tags": []
   },
   "outputs": [],
   "source": [
    "pipe1 = Pipeline(steps=stp1).set_output(transform='pandas')"
   ]
  },
  {
   "cell_type": "code",
   "execution_count": 60,
   "id": "aef1d7fb",
   "metadata": {
    "execution": {
     "iopub.execute_input": "2023-12-20T12:30:11.469945Z",
     "iopub.status.busy": "2023-12-20T12:30:11.469294Z",
     "iopub.status.idle": "2023-12-20T12:31:14.482719Z",
     "shell.execute_reply": "2023-12-20T12:31:14.481835Z"
    },
    "papermill": {
     "duration": 63.118313,
     "end_time": "2023-12-20T12:31:14.535974",
     "exception": false,
     "start_time": "2023-12-20T12:30:11.417661",
     "status": "completed"
    },
    "tags": []
   },
   "outputs": [
    {
     "data": {
      "text/html": [
       "<style>#sk-container-id-4 {color: black;background-color: white;}#sk-container-id-4 pre{padding: 0;}#sk-container-id-4 div.sk-toggleable {background-color: white;}#sk-container-id-4 label.sk-toggleable__label {cursor: pointer;display: block;width: 100%;margin-bottom: 0;padding: 0.3em;box-sizing: border-box;text-align: center;}#sk-container-id-4 label.sk-toggleable__label-arrow:before {content: \"▸\";float: left;margin-right: 0.25em;color: #696969;}#sk-container-id-4 label.sk-toggleable__label-arrow:hover:before {color: black;}#sk-container-id-4 div.sk-estimator:hover label.sk-toggleable__label-arrow:before {color: black;}#sk-container-id-4 div.sk-toggleable__content {max-height: 0;max-width: 0;overflow: hidden;text-align: left;background-color: #f0f8ff;}#sk-container-id-4 div.sk-toggleable__content pre {margin: 0.2em;color: black;border-radius: 0.25em;background-color: #f0f8ff;}#sk-container-id-4 input.sk-toggleable__control:checked~div.sk-toggleable__content {max-height: 200px;max-width: 100%;overflow: auto;}#sk-container-id-4 input.sk-toggleable__control:checked~label.sk-toggleable__label-arrow:before {content: \"▾\";}#sk-container-id-4 div.sk-estimator input.sk-toggleable__control:checked~label.sk-toggleable__label {background-color: #d4ebff;}#sk-container-id-4 div.sk-label input.sk-toggleable__control:checked~label.sk-toggleable__label {background-color: #d4ebff;}#sk-container-id-4 input.sk-hidden--visually {border: 0;clip: rect(1px 1px 1px 1px);clip: rect(1px, 1px, 1px, 1px);height: 1px;margin: -1px;overflow: hidden;padding: 0;position: absolute;width: 1px;}#sk-container-id-4 div.sk-estimator {font-family: monospace;background-color: #f0f8ff;border: 1px dotted black;border-radius: 0.25em;box-sizing: border-box;margin-bottom: 0.5em;}#sk-container-id-4 div.sk-estimator:hover {background-color: #d4ebff;}#sk-container-id-4 div.sk-parallel-item::after {content: \"\";width: 100%;border-bottom: 1px solid gray;flex-grow: 1;}#sk-container-id-4 div.sk-label:hover label.sk-toggleable__label {background-color: #d4ebff;}#sk-container-id-4 div.sk-serial::before {content: \"\";position: absolute;border-left: 1px solid gray;box-sizing: border-box;top: 0;bottom: 0;left: 50%;z-index: 0;}#sk-container-id-4 div.sk-serial {display: flex;flex-direction: column;align-items: center;background-color: white;padding-right: 0.2em;padding-left: 0.2em;position: relative;}#sk-container-id-4 div.sk-item {position: relative;z-index: 1;}#sk-container-id-4 div.sk-parallel {display: flex;align-items: stretch;justify-content: center;background-color: white;position: relative;}#sk-container-id-4 div.sk-item::before, #sk-container-id-4 div.sk-parallel-item::before {content: \"\";position: absolute;border-left: 1px solid gray;box-sizing: border-box;top: 0;bottom: 0;left: 50%;z-index: -1;}#sk-container-id-4 div.sk-parallel-item {display: flex;flex-direction: column;z-index: 1;position: relative;background-color: white;}#sk-container-id-4 div.sk-parallel-item:first-child::after {align-self: flex-end;width: 50%;}#sk-container-id-4 div.sk-parallel-item:last-child::after {align-self: flex-start;width: 50%;}#sk-container-id-4 div.sk-parallel-item:only-child::after {width: 0;}#sk-container-id-4 div.sk-dashed-wrapped {border: 1px dashed gray;margin: 0 0.4em 0.5em 0.4em;box-sizing: border-box;padding-bottom: 0.4em;background-color: white;}#sk-container-id-4 div.sk-label label {font-family: monospace;font-weight: bold;display: inline-block;line-height: 1.2em;}#sk-container-id-4 div.sk-label-container {text-align: center;}#sk-container-id-4 div.sk-container {/* jupyter's `normalize.less` sets `[hidden] { display: none; }` but bootstrap.min.css set `[hidden] { display: none !important; }` so we also need the `!important` here to be able to override the default hidden behavior on the sphinx rendered scikit-learn.org. See: https://github.com/scikit-learn/scikit-learn/issues/21755 */display: inline-block !important;position: relative;}#sk-container-id-4 div.sk-text-repr-fallback {display: none;}</style><div id=\"sk-container-id-4\" class=\"sk-top-container\"><div class=\"sk-text-repr-fallback\"><pre>Pipeline(steps=[(&#x27;ct2&#x27;,\n",
       "                 ColumnTransformer(remainder=&#x27;passthrough&#x27;,\n",
       "                                   transformers=[(&#x27;ohe&#x27;,\n",
       "                                                  OneHotEncoder(sparse_output=False),\n",
       "                                                  Index([&#x27;store_and_fwd_flag&#x27;, &#x27;payment_type&#x27;], dtype=&#x27;object&#x27;)),\n",
       "                                                 (&#x27;mms&#x27;, MinMaxScaler(),\n",
       "                                                  Index([&#x27;passenger_count&#x27;, &#x27;RatecodeID&#x27;, &#x27;congestion_surcharge&#x27;, &#x27;Airport_fee&#x27;,\n",
       "       &#x27;VendorID&#x27;, &#x27;trip_distance&#x27;, &#x27;PULocationID&#x27;, &#x27;DOLocationID&#x27;, &#x27;extra&#x27;,\n",
       "       &#x27;tip_a...\n",
       "                              feature_types=None, gamma=None, gpu_id=None,\n",
       "                              grow_policy=None, importance_type=None,\n",
       "                              interaction_constraints=None, learning_rate=0.015,\n",
       "                              max_bin=None, max_cat_threshold=None,\n",
       "                              max_cat_to_onehot=None, max_delta_step=None,\n",
       "                              max_depth=5, max_leaves=None,\n",
       "                              min_child_weight=None, missing=nan,\n",
       "                              monotone_constraints=None, n_estimators=600,\n",
       "                              n_jobs=None, num_parallel_tree=None,\n",
       "                              predictor=None, random_state=42, ...))])</pre><b>In a Jupyter environment, please rerun this cell to show the HTML representation or trust the notebook. <br />On GitHub, the HTML representation is unable to render, please try loading this page with nbviewer.org.</b></div><div class=\"sk-container\" hidden><div class=\"sk-item sk-dashed-wrapped\"><div class=\"sk-label-container\"><div class=\"sk-label sk-toggleable\"><input class=\"sk-toggleable__control sk-hidden--visually\" id=\"sk-estimator-id-22\" type=\"checkbox\" ><label for=\"sk-estimator-id-22\" class=\"sk-toggleable__label sk-toggleable__label-arrow\">Pipeline</label><div class=\"sk-toggleable__content\"><pre>Pipeline(steps=[(&#x27;ct2&#x27;,\n",
       "                 ColumnTransformer(remainder=&#x27;passthrough&#x27;,\n",
       "                                   transformers=[(&#x27;ohe&#x27;,\n",
       "                                                  OneHotEncoder(sparse_output=False),\n",
       "                                                  Index([&#x27;store_and_fwd_flag&#x27;, &#x27;payment_type&#x27;], dtype=&#x27;object&#x27;)),\n",
       "                                                 (&#x27;mms&#x27;, MinMaxScaler(),\n",
       "                                                  Index([&#x27;passenger_count&#x27;, &#x27;RatecodeID&#x27;, &#x27;congestion_surcharge&#x27;, &#x27;Airport_fee&#x27;,\n",
       "       &#x27;VendorID&#x27;, &#x27;trip_distance&#x27;, &#x27;PULocationID&#x27;, &#x27;DOLocationID&#x27;, &#x27;extra&#x27;,\n",
       "       &#x27;tip_a...\n",
       "                              feature_types=None, gamma=None, gpu_id=None,\n",
       "                              grow_policy=None, importance_type=None,\n",
       "                              interaction_constraints=None, learning_rate=0.015,\n",
       "                              max_bin=None, max_cat_threshold=None,\n",
       "                              max_cat_to_onehot=None, max_delta_step=None,\n",
       "                              max_depth=5, max_leaves=None,\n",
       "                              min_child_weight=None, missing=nan,\n",
       "                              monotone_constraints=None, n_estimators=600,\n",
       "                              n_jobs=None, num_parallel_tree=None,\n",
       "                              predictor=None, random_state=42, ...))])</pre></div></div></div><div class=\"sk-serial\"><div class=\"sk-item sk-dashed-wrapped\"><div class=\"sk-label-container\"><div class=\"sk-label sk-toggleable\"><input class=\"sk-toggleable__control sk-hidden--visually\" id=\"sk-estimator-id-23\" type=\"checkbox\" ><label for=\"sk-estimator-id-23\" class=\"sk-toggleable__label sk-toggleable__label-arrow\">ct2: ColumnTransformer</label><div class=\"sk-toggleable__content\"><pre>ColumnTransformer(remainder=&#x27;passthrough&#x27;,\n",
       "                  transformers=[(&#x27;ohe&#x27;, OneHotEncoder(sparse_output=False),\n",
       "                                 Index([&#x27;store_and_fwd_flag&#x27;, &#x27;payment_type&#x27;], dtype=&#x27;object&#x27;)),\n",
       "                                (&#x27;mms&#x27;, MinMaxScaler(),\n",
       "                                 Index([&#x27;passenger_count&#x27;, &#x27;RatecodeID&#x27;, &#x27;congestion_surcharge&#x27;, &#x27;Airport_fee&#x27;,\n",
       "       &#x27;VendorID&#x27;, &#x27;trip_distance&#x27;, &#x27;PULocationID&#x27;, &#x27;DOLocationID&#x27;, &#x27;extra&#x27;,\n",
       "       &#x27;tip_amount&#x27;, &#x27;tolls_amount&#x27;, &#x27;improvement_surcharge&#x27;,\n",
       "       &#x27;tpep_pickup_month&#x27;, &#x27;tpep_dropoff_month&#x27;, &#x27;tpep_pickup_day&#x27;,\n",
       "       &#x27;tpep_dropoff_day&#x27;, &#x27;tpep_pickup_time&#x27;, &#x27;tpep_dropoff_time&#x27;],\n",
       "      dtype=&#x27;object&#x27;))],\n",
       "                  verbose_feature_names_out=False)</pre></div></div></div><div class=\"sk-parallel\"><div class=\"sk-parallel-item\"><div class=\"sk-item\"><div class=\"sk-label-container\"><div class=\"sk-label sk-toggleable\"><input class=\"sk-toggleable__control sk-hidden--visually\" id=\"sk-estimator-id-24\" type=\"checkbox\" ><label for=\"sk-estimator-id-24\" class=\"sk-toggleable__label sk-toggleable__label-arrow\">ohe</label><div class=\"sk-toggleable__content\"><pre>Index([&#x27;store_and_fwd_flag&#x27;, &#x27;payment_type&#x27;], dtype=&#x27;object&#x27;)</pre></div></div></div><div class=\"sk-serial\"><div class=\"sk-item\"><div class=\"sk-estimator sk-toggleable\"><input class=\"sk-toggleable__control sk-hidden--visually\" id=\"sk-estimator-id-25\" type=\"checkbox\" ><label for=\"sk-estimator-id-25\" class=\"sk-toggleable__label sk-toggleable__label-arrow\">OneHotEncoder</label><div class=\"sk-toggleable__content\"><pre>OneHotEncoder(sparse_output=False)</pre></div></div></div></div></div></div><div class=\"sk-parallel-item\"><div class=\"sk-item\"><div class=\"sk-label-container\"><div class=\"sk-label sk-toggleable\"><input class=\"sk-toggleable__control sk-hidden--visually\" id=\"sk-estimator-id-26\" type=\"checkbox\" ><label for=\"sk-estimator-id-26\" class=\"sk-toggleable__label sk-toggleable__label-arrow\">mms</label><div class=\"sk-toggleable__content\"><pre>Index([&#x27;passenger_count&#x27;, &#x27;RatecodeID&#x27;, &#x27;congestion_surcharge&#x27;, &#x27;Airport_fee&#x27;,\n",
       "       &#x27;VendorID&#x27;, &#x27;trip_distance&#x27;, &#x27;PULocationID&#x27;, &#x27;DOLocationID&#x27;, &#x27;extra&#x27;,\n",
       "       &#x27;tip_amount&#x27;, &#x27;tolls_amount&#x27;, &#x27;improvement_surcharge&#x27;,\n",
       "       &#x27;tpep_pickup_month&#x27;, &#x27;tpep_dropoff_month&#x27;, &#x27;tpep_pickup_day&#x27;,\n",
       "       &#x27;tpep_dropoff_day&#x27;, &#x27;tpep_pickup_time&#x27;, &#x27;tpep_dropoff_time&#x27;],\n",
       "      dtype=&#x27;object&#x27;)</pre></div></div></div><div class=\"sk-serial\"><div class=\"sk-item\"><div class=\"sk-estimator sk-toggleable\"><input class=\"sk-toggleable__control sk-hidden--visually\" id=\"sk-estimator-id-27\" type=\"checkbox\" ><label for=\"sk-estimator-id-27\" class=\"sk-toggleable__label sk-toggleable__label-arrow\">MinMaxScaler</label><div class=\"sk-toggleable__content\"><pre>MinMaxScaler()</pre></div></div></div></div></div></div><div class=\"sk-parallel-item\"><div class=\"sk-item\"><div class=\"sk-label-container\"><div class=\"sk-label sk-toggleable\"><input class=\"sk-toggleable__control sk-hidden--visually\" id=\"sk-estimator-id-28\" type=\"checkbox\" ><label for=\"sk-estimator-id-28\" class=\"sk-toggleable__label sk-toggleable__label-arrow\">remainder</label><div class=\"sk-toggleable__content\"><pre>[]</pre></div></div></div><div class=\"sk-serial\"><div class=\"sk-item\"><div class=\"sk-estimator sk-toggleable\"><input class=\"sk-toggleable__control sk-hidden--visually\" id=\"sk-estimator-id-29\" type=\"checkbox\" ><label for=\"sk-estimator-id-29\" class=\"sk-toggleable__label sk-toggleable__label-arrow\">passthrough</label><div class=\"sk-toggleable__content\"><pre>passthrough</pre></div></div></div></div></div></div></div></div><div class=\"sk-item\"><div class=\"sk-estimator sk-toggleable\"><input class=\"sk-toggleable__control sk-hidden--visually\" id=\"sk-estimator-id-30\" type=\"checkbox\" ><label for=\"sk-estimator-id-30\" class=\"sk-toggleable__label sk-toggleable__label-arrow\">VarianceThreshold</label><div class=\"sk-toggleable__content\"><pre>VarianceThreshold()</pre></div></div></div><div class=\"sk-item\"><div class=\"sk-estimator sk-toggleable\"><input class=\"sk-toggleable__control sk-hidden--visually\" id=\"sk-estimator-id-31\" type=\"checkbox\" ><label for=\"sk-estimator-id-31\" class=\"sk-toggleable__label sk-toggleable__label-arrow\">XGBRegressor</label><div class=\"sk-toggleable__content\"><pre>XGBRegressor(base_score=None, booster=None, callbacks=None,\n",
       "             colsample_bylevel=None, colsample_bynode=None,\n",
       "             colsample_bytree=None, early_stopping_rounds=None,\n",
       "             enable_categorical=False, eval_metric=None, feature_types=None,\n",
       "             gamma=None, gpu_id=None, grow_policy=None, importance_type=None,\n",
       "             interaction_constraints=None, learning_rate=0.015, max_bin=None,\n",
       "             max_cat_threshold=None, max_cat_to_onehot=None,\n",
       "             max_delta_step=None, max_depth=5, max_leaves=None,\n",
       "             min_child_weight=None, missing=nan, monotone_constraints=None,\n",
       "             n_estimators=600, n_jobs=None, num_parallel_tree=None,\n",
       "             predictor=None, random_state=42, ...)</pre></div></div></div></div></div></div></div>"
      ],
      "text/plain": [
       "Pipeline(steps=[('ct2',\n",
       "                 ColumnTransformer(remainder='passthrough',\n",
       "                                   transformers=[('ohe',\n",
       "                                                  OneHotEncoder(sparse_output=False),\n",
       "                                                  Index(['store_and_fwd_flag', 'payment_type'], dtype='object')),\n",
       "                                                 ('mms', MinMaxScaler(),\n",
       "                                                  Index(['passenger_count', 'RatecodeID', 'congestion_surcharge', 'Airport_fee',\n",
       "       'VendorID', 'trip_distance', 'PULocationID', 'DOLocationID', 'extra',\n",
       "       'tip_a...\n",
       "                              feature_types=None, gamma=None, gpu_id=None,\n",
       "                              grow_policy=None, importance_type=None,\n",
       "                              interaction_constraints=None, learning_rate=0.015,\n",
       "                              max_bin=None, max_cat_threshold=None,\n",
       "                              max_cat_to_onehot=None, max_delta_step=None,\n",
       "                              max_depth=5, max_leaves=None,\n",
       "                              min_child_weight=None, missing=nan,\n",
       "                              monotone_constraints=None, n_estimators=600,\n",
       "                              n_jobs=None, num_parallel_tree=None,\n",
       "                              predictor=None, random_state=42, ...))])"
      ]
     },
     "execution_count": 60,
     "metadata": {},
     "output_type": "execute_result"
    }
   ],
   "source": [
    "pipe1.fit(X_train, y_train)"
   ]
  },
  {
   "cell_type": "code",
   "execution_count": 61,
   "id": "ea01e41d",
   "metadata": {
    "execution": {
     "iopub.execute_input": "2023-12-20T12:31:14.638966Z",
     "iopub.status.busy": "2023-12-20T12:31:14.638080Z",
     "iopub.status.idle": "2023-12-20T12:31:15.485239Z",
     "shell.execute_reply": "2023-12-20T12:31:15.484128Z"
    },
    "papermill": {
     "duration": 0.902378,
     "end_time": "2023-12-20T12:31:15.488489",
     "exception": false,
     "start_time": "2023-12-20T12:31:14.586111",
     "status": "completed"
    },
    "tags": []
   },
   "outputs": [
    {
     "data": {
      "text/plain": [
       "0.9532548778787405"
      ]
     },
     "execution_count": 61,
     "metadata": {},
     "output_type": "execute_result"
    }
   ],
   "source": [
    "train_score1 = pipe1.score(X_train, y_train)\n",
    "train_score1"
   ]
  },
  {
   "cell_type": "code",
   "execution_count": 62,
   "id": "bc838481",
   "metadata": {
    "execution": {
     "iopub.execute_input": "2023-12-20T12:31:15.594405Z",
     "iopub.status.busy": "2023-12-20T12:31:15.593167Z",
     "iopub.status.idle": "2023-12-20T12:31:15.815189Z",
     "shell.execute_reply": "2023-12-20T12:31:15.814183Z"
    },
    "papermill": {
     "duration": 0.277503,
     "end_time": "2023-12-20T12:31:15.818019",
     "exception": false,
     "start_time": "2023-12-20T12:31:15.540516",
     "status": "completed"
    },
    "tags": []
   },
   "outputs": [
    {
     "data": {
      "text/plain": [
       "0.9568975056524907"
      ]
     },
     "execution_count": 62,
     "metadata": {},
     "output_type": "execute_result"
    }
   ],
   "source": [
    "score1 = r2_score(y_test, pipe1.predict(X_test)) \n",
    "score1\n",
    "# 0.9568975056524907 # 0.94484"
   ]
  },
  {
   "cell_type": "markdown",
   "id": "681aa355",
   "metadata": {
    "papermill": {
     "duration": 0.051116,
     "end_time": "2023-12-20T12:31:15.921099",
     "exception": false,
     "start_time": "2023-12-20T12:31:15.869983",
     "status": "completed"
    },
    "tags": []
   },
   "source": [
    "- **Hyperparameter tuning:**"
   ]
  },
  {
   "cell_type": "code",
   "execution_count": 63,
   "id": "4cfd5a58",
   "metadata": {
    "execution": {
     "iopub.execute_input": "2023-12-20T12:31:16.025374Z",
     "iopub.status.busy": "2023-12-20T12:31:16.024582Z",
     "iopub.status.idle": "2023-12-20T12:31:16.032407Z",
     "shell.execute_reply": "2023-12-20T12:31:16.031245Z"
    },
    "papermill": {
     "duration": 0.062779,
     "end_time": "2023-12-20T12:31:16.034783",
     "exception": false,
     "start_time": "2023-12-20T12:31:15.972004",
     "status": "completed"
    },
    "tags": []
   },
   "outputs": [
    {
     "data": {
      "text/plain": [
       "'param = {\"xg__max_depth\":    [4, 5, 6],\\n         \"xg__n_estimators\": [500, 600, 700],\\n         \"xg__learning_rate\": [0.01, 0.015]}'"
      ]
     },
     "execution_count": 63,
     "metadata": {},
     "output_type": "execute_result"
    }
   ],
   "source": [
    "'''param = {\"xg__max_depth\":    [4, 5, 6],\n",
    "         \"xg__n_estimators\": [500, 600, 700],\n",
    "         \"xg__learning_rate\": [0.01, 0.015]}'''"
   ]
  },
  {
   "cell_type": "code",
   "execution_count": 64,
   "id": "5651abf2",
   "metadata": {
    "execution": {
     "iopub.execute_input": "2023-12-20T12:31:16.138885Z",
     "iopub.status.busy": "2023-12-20T12:31:16.138465Z",
     "iopub.status.idle": "2023-12-20T12:31:16.144909Z",
     "shell.execute_reply": "2023-12-20T12:31:16.144022Z"
    },
    "papermill": {
     "duration": 0.061258,
     "end_time": "2023-12-20T12:31:16.146939",
     "exception": false,
     "start_time": "2023-12-20T12:31:16.085681",
     "status": "completed"
    },
    "tags": []
   },
   "outputs": [
    {
     "data": {
      "text/plain": [
       "'random = RandomizedSearchCV(estimator = pipe, param_distributions = param,\\n                               cv = 2, n_iter = 10, n_jobs=-1)'"
      ]
     },
     "execution_count": 64,
     "metadata": {},
     "output_type": "execute_result"
    }
   ],
   "source": [
    "'''random = RandomizedSearchCV(estimator = pipe, param_distributions = param,\n",
    "                               cv = 2, n_iter = 10, n_jobs=-1)'''"
   ]
  },
  {
   "cell_type": "code",
   "execution_count": 65,
   "id": "fbbf9b50",
   "metadata": {
    "execution": {
     "iopub.execute_input": "2023-12-20T12:31:16.251900Z",
     "iopub.status.busy": "2023-12-20T12:31:16.250694Z",
     "iopub.status.idle": "2023-12-20T12:31:16.255157Z",
     "shell.execute_reply": "2023-12-20T12:31:16.254368Z"
    },
    "papermill": {
     "duration": 0.059399,
     "end_time": "2023-12-20T12:31:16.257310",
     "exception": false,
     "start_time": "2023-12-20T12:31:16.197911",
     "status": "completed"
    },
    "tags": []
   },
   "outputs": [],
   "source": [
    "#random.fit(X_train, y_train)"
   ]
  },
  {
   "cell_type": "code",
   "execution_count": 66,
   "id": "b7cce829",
   "metadata": {
    "execution": {
     "iopub.execute_input": "2023-12-20T12:31:16.362473Z",
     "iopub.status.busy": "2023-12-20T12:31:16.362013Z",
     "iopub.status.idle": "2023-12-20T12:31:16.366033Z",
     "shell.execute_reply": "2023-12-20T12:31:16.365156Z"
    },
    "papermill": {
     "duration": 0.059835,
     "end_time": "2023-12-20T12:31:16.368769",
     "exception": false,
     "start_time": "2023-12-20T12:31:16.308934",
     "status": "completed"
    },
    "tags": []
   },
   "outputs": [],
   "source": [
    "#random.best_params_\n",
    "# {'xg__n_estimators': 600, 'xg__max_depth': 5, 'xg__learning_rate': 0.015}"
   ]
  },
  {
   "cell_type": "code",
   "execution_count": 67,
   "id": "ea05b466",
   "metadata": {
    "execution": {
     "iopub.execute_input": "2023-12-20T12:31:16.474917Z",
     "iopub.status.busy": "2023-12-20T12:31:16.474256Z",
     "iopub.status.idle": "2023-12-20T12:31:16.478488Z",
     "shell.execute_reply": "2023-12-20T12:31:16.477467Z"
    },
    "papermill": {
     "duration": 0.059135,
     "end_time": "2023-12-20T12:31:16.480832",
     "exception": false,
     "start_time": "2023-12-20T12:31:16.421697",
     "status": "completed"
    },
    "tags": []
   },
   "outputs": [],
   "source": [
    "#r2_score(y_test, random.predict(X_test)) \n",
    "# with hpt # 0.9568975056524907 # 0.93519"
   ]
  },
  {
   "cell_type": "markdown",
   "id": "3cf4ace5",
   "metadata": {
    "papermill": {
     "duration": 0.051063,
     "end_time": "2023-12-20T12:31:16.583384",
     "exception": false,
     "start_time": "2023-12-20T12:31:16.532321",
     "status": "completed"
    },
    "tags": []
   },
   "source": [
    "## ......................................................................................................................."
   ]
  },
  {
   "cell_type": "markdown",
   "id": "49f0ca27",
   "metadata": {
    "papermill": {
     "duration": 0.051516,
     "end_time": "2023-12-20T12:31:16.687185",
     "exception": false,
     "start_time": "2023-12-20T12:31:16.635669",
     "status": "completed"
    },
    "tags": []
   },
   "source": [
    "### MODEL-2\n",
    "#### SGDRegressor with GridSearchCV"
   ]
  },
  {
   "cell_type": "code",
   "execution_count": 68,
   "id": "f71793b2",
   "metadata": {
    "execution": {
     "iopub.execute_input": "2023-12-20T12:31:16.796120Z",
     "iopub.status.busy": "2023-12-20T12:31:16.795276Z",
     "iopub.status.idle": "2023-12-20T12:31:16.800606Z",
     "shell.execute_reply": "2023-12-20T12:31:16.799409Z"
    },
    "papermill": {
     "duration": 0.06295,
     "end_time": "2023-12-20T12:31:16.803238",
     "exception": false,
     "start_time": "2023-12-20T12:31:16.740288",
     "status": "completed"
    },
    "tags": []
   },
   "outputs": [],
   "source": [
    "sgd = SGDRegressor(alpha = 1e-05, penalty = 'l1', tol = 0.0001, random_state = 42) # best parameters"
   ]
  },
  {
   "cell_type": "markdown",
   "id": "79e41cec",
   "metadata": {
    "papermill": {
     "duration": 0.051315,
     "end_time": "2023-12-20T12:31:16.906099",
     "exception": false,
     "start_time": "2023-12-20T12:31:16.854784",
     "status": "completed"
    },
    "tags": []
   },
   "source": [
    "- **Pipeline:**\n",
    "    - ColumnTransformer: OneHotEncoder and MinMaxScaler\n",
    "    - VarianceThreshold\n",
    "    - SGDRegressor"
   ]
  },
  {
   "cell_type": "code",
   "execution_count": 69,
   "id": "dee03ea3",
   "metadata": {
    "execution": {
     "iopub.execute_input": "2023-12-20T12:31:17.010376Z",
     "iopub.status.busy": "2023-12-20T12:31:17.009906Z",
     "iopub.status.idle": "2023-12-20T12:31:17.015745Z",
     "shell.execute_reply": "2023-12-20T12:31:17.014444Z"
    },
    "papermill": {
     "duration": 0.060861,
     "end_time": "2023-12-20T12:31:17.018027",
     "exception": false,
     "start_time": "2023-12-20T12:31:16.957166",
     "status": "completed"
    },
    "tags": []
   },
   "outputs": [],
   "source": [
    "stp2 = [('ct2', ct2), ('vt', vt), ('sgd', sgd)]"
   ]
  },
  {
   "cell_type": "code",
   "execution_count": 70,
   "id": "7055f50c",
   "metadata": {
    "execution": {
     "iopub.execute_input": "2023-12-20T12:31:17.122171Z",
     "iopub.status.busy": "2023-12-20T12:31:17.121668Z",
     "iopub.status.idle": "2023-12-20T12:31:17.127798Z",
     "shell.execute_reply": "2023-12-20T12:31:17.126652Z"
    },
    "papermill": {
     "duration": 0.061317,
     "end_time": "2023-12-20T12:31:17.130078",
     "exception": false,
     "start_time": "2023-12-20T12:31:17.068761",
     "status": "completed"
    },
    "tags": []
   },
   "outputs": [],
   "source": [
    "pipe2 = Pipeline(steps=stp2).set_output(transform='pandas')"
   ]
  },
  {
   "cell_type": "code",
   "execution_count": 71,
   "id": "866548ce",
   "metadata": {
    "execution": {
     "iopub.execute_input": "2023-12-20T12:31:17.233849Z",
     "iopub.status.busy": "2023-12-20T12:31:17.233388Z",
     "iopub.status.idle": "2023-12-20T12:31:28.677540Z",
     "shell.execute_reply": "2023-12-20T12:31:28.676260Z"
    },
    "papermill": {
     "duration": 11.4994,
     "end_time": "2023-12-20T12:31:28.680320",
     "exception": false,
     "start_time": "2023-12-20T12:31:17.180920",
     "status": "completed"
    },
    "tags": []
   },
   "outputs": [
    {
     "data": {
      "text/html": [
       "<style>#sk-container-id-5 {color: black;background-color: white;}#sk-container-id-5 pre{padding: 0;}#sk-container-id-5 div.sk-toggleable {background-color: white;}#sk-container-id-5 label.sk-toggleable__label {cursor: pointer;display: block;width: 100%;margin-bottom: 0;padding: 0.3em;box-sizing: border-box;text-align: center;}#sk-container-id-5 label.sk-toggleable__label-arrow:before {content: \"▸\";float: left;margin-right: 0.25em;color: #696969;}#sk-container-id-5 label.sk-toggleable__label-arrow:hover:before {color: black;}#sk-container-id-5 div.sk-estimator:hover label.sk-toggleable__label-arrow:before {color: black;}#sk-container-id-5 div.sk-toggleable__content {max-height: 0;max-width: 0;overflow: hidden;text-align: left;background-color: #f0f8ff;}#sk-container-id-5 div.sk-toggleable__content pre {margin: 0.2em;color: black;border-radius: 0.25em;background-color: #f0f8ff;}#sk-container-id-5 input.sk-toggleable__control:checked~div.sk-toggleable__content {max-height: 200px;max-width: 100%;overflow: auto;}#sk-container-id-5 input.sk-toggleable__control:checked~label.sk-toggleable__label-arrow:before {content: \"▾\";}#sk-container-id-5 div.sk-estimator input.sk-toggleable__control:checked~label.sk-toggleable__label {background-color: #d4ebff;}#sk-container-id-5 div.sk-label input.sk-toggleable__control:checked~label.sk-toggleable__label {background-color: #d4ebff;}#sk-container-id-5 input.sk-hidden--visually {border: 0;clip: rect(1px 1px 1px 1px);clip: rect(1px, 1px, 1px, 1px);height: 1px;margin: -1px;overflow: hidden;padding: 0;position: absolute;width: 1px;}#sk-container-id-5 div.sk-estimator {font-family: monospace;background-color: #f0f8ff;border: 1px dotted black;border-radius: 0.25em;box-sizing: border-box;margin-bottom: 0.5em;}#sk-container-id-5 div.sk-estimator:hover {background-color: #d4ebff;}#sk-container-id-5 div.sk-parallel-item::after {content: \"\";width: 100%;border-bottom: 1px solid gray;flex-grow: 1;}#sk-container-id-5 div.sk-label:hover label.sk-toggleable__label {background-color: #d4ebff;}#sk-container-id-5 div.sk-serial::before {content: \"\";position: absolute;border-left: 1px solid gray;box-sizing: border-box;top: 0;bottom: 0;left: 50%;z-index: 0;}#sk-container-id-5 div.sk-serial {display: flex;flex-direction: column;align-items: center;background-color: white;padding-right: 0.2em;padding-left: 0.2em;position: relative;}#sk-container-id-5 div.sk-item {position: relative;z-index: 1;}#sk-container-id-5 div.sk-parallel {display: flex;align-items: stretch;justify-content: center;background-color: white;position: relative;}#sk-container-id-5 div.sk-item::before, #sk-container-id-5 div.sk-parallel-item::before {content: \"\";position: absolute;border-left: 1px solid gray;box-sizing: border-box;top: 0;bottom: 0;left: 50%;z-index: -1;}#sk-container-id-5 div.sk-parallel-item {display: flex;flex-direction: column;z-index: 1;position: relative;background-color: white;}#sk-container-id-5 div.sk-parallel-item:first-child::after {align-self: flex-end;width: 50%;}#sk-container-id-5 div.sk-parallel-item:last-child::after {align-self: flex-start;width: 50%;}#sk-container-id-5 div.sk-parallel-item:only-child::after {width: 0;}#sk-container-id-5 div.sk-dashed-wrapped {border: 1px dashed gray;margin: 0 0.4em 0.5em 0.4em;box-sizing: border-box;padding-bottom: 0.4em;background-color: white;}#sk-container-id-5 div.sk-label label {font-family: monospace;font-weight: bold;display: inline-block;line-height: 1.2em;}#sk-container-id-5 div.sk-label-container {text-align: center;}#sk-container-id-5 div.sk-container {/* jupyter's `normalize.less` sets `[hidden] { display: none; }` but bootstrap.min.css set `[hidden] { display: none !important; }` so we also need the `!important` here to be able to override the default hidden behavior on the sphinx rendered scikit-learn.org. See: https://github.com/scikit-learn/scikit-learn/issues/21755 */display: inline-block !important;position: relative;}#sk-container-id-5 div.sk-text-repr-fallback {display: none;}</style><div id=\"sk-container-id-5\" class=\"sk-top-container\"><div class=\"sk-text-repr-fallback\"><pre>Pipeline(steps=[(&#x27;ct2&#x27;,\n",
       "                 ColumnTransformer(remainder=&#x27;passthrough&#x27;,\n",
       "                                   transformers=[(&#x27;ohe&#x27;,\n",
       "                                                  OneHotEncoder(sparse_output=False),\n",
       "                                                  Index([&#x27;store_and_fwd_flag&#x27;, &#x27;payment_type&#x27;], dtype=&#x27;object&#x27;)),\n",
       "                                                 (&#x27;mms&#x27;, MinMaxScaler(),\n",
       "                                                  Index([&#x27;passenger_count&#x27;, &#x27;RatecodeID&#x27;, &#x27;congestion_surcharge&#x27;, &#x27;Airport_fee&#x27;,\n",
       "       &#x27;VendorID&#x27;, &#x27;trip_distance&#x27;, &#x27;PULocationID&#x27;, &#x27;DOLocationID&#x27;, &#x27;extra&#x27;,\n",
       "       &#x27;tip_amount&#x27;, &#x27;tolls_amount&#x27;, &#x27;improvement_surcharge&#x27;,\n",
       "       &#x27;tpep_pickup_month&#x27;, &#x27;tpep_dropoff_month&#x27;, &#x27;tpep_pickup_day&#x27;,\n",
       "       &#x27;tpep_dropoff_day&#x27;, &#x27;tpep_pickup_time&#x27;, &#x27;tpep_dropoff_time&#x27;],\n",
       "      dtype=&#x27;object&#x27;))],\n",
       "                                   verbose_feature_names_out=False)),\n",
       "                (&#x27;vt&#x27;, VarianceThreshold()),\n",
       "                (&#x27;sgd&#x27;,\n",
       "                 SGDRegressor(alpha=1e-05, penalty=&#x27;l1&#x27;, random_state=42,\n",
       "                              tol=0.0001))])</pre><b>In a Jupyter environment, please rerun this cell to show the HTML representation or trust the notebook. <br />On GitHub, the HTML representation is unable to render, please try loading this page with nbviewer.org.</b></div><div class=\"sk-container\" hidden><div class=\"sk-item sk-dashed-wrapped\"><div class=\"sk-label-container\"><div class=\"sk-label sk-toggleable\"><input class=\"sk-toggleable__control sk-hidden--visually\" id=\"sk-estimator-id-32\" type=\"checkbox\" ><label for=\"sk-estimator-id-32\" class=\"sk-toggleable__label sk-toggleable__label-arrow\">Pipeline</label><div class=\"sk-toggleable__content\"><pre>Pipeline(steps=[(&#x27;ct2&#x27;,\n",
       "                 ColumnTransformer(remainder=&#x27;passthrough&#x27;,\n",
       "                                   transformers=[(&#x27;ohe&#x27;,\n",
       "                                                  OneHotEncoder(sparse_output=False),\n",
       "                                                  Index([&#x27;store_and_fwd_flag&#x27;, &#x27;payment_type&#x27;], dtype=&#x27;object&#x27;)),\n",
       "                                                 (&#x27;mms&#x27;, MinMaxScaler(),\n",
       "                                                  Index([&#x27;passenger_count&#x27;, &#x27;RatecodeID&#x27;, &#x27;congestion_surcharge&#x27;, &#x27;Airport_fee&#x27;,\n",
       "       &#x27;VendorID&#x27;, &#x27;trip_distance&#x27;, &#x27;PULocationID&#x27;, &#x27;DOLocationID&#x27;, &#x27;extra&#x27;,\n",
       "       &#x27;tip_amount&#x27;, &#x27;tolls_amount&#x27;, &#x27;improvement_surcharge&#x27;,\n",
       "       &#x27;tpep_pickup_month&#x27;, &#x27;tpep_dropoff_month&#x27;, &#x27;tpep_pickup_day&#x27;,\n",
       "       &#x27;tpep_dropoff_day&#x27;, &#x27;tpep_pickup_time&#x27;, &#x27;tpep_dropoff_time&#x27;],\n",
       "      dtype=&#x27;object&#x27;))],\n",
       "                                   verbose_feature_names_out=False)),\n",
       "                (&#x27;vt&#x27;, VarianceThreshold()),\n",
       "                (&#x27;sgd&#x27;,\n",
       "                 SGDRegressor(alpha=1e-05, penalty=&#x27;l1&#x27;, random_state=42,\n",
       "                              tol=0.0001))])</pre></div></div></div><div class=\"sk-serial\"><div class=\"sk-item sk-dashed-wrapped\"><div class=\"sk-label-container\"><div class=\"sk-label sk-toggleable\"><input class=\"sk-toggleable__control sk-hidden--visually\" id=\"sk-estimator-id-33\" type=\"checkbox\" ><label for=\"sk-estimator-id-33\" class=\"sk-toggleable__label sk-toggleable__label-arrow\">ct2: ColumnTransformer</label><div class=\"sk-toggleable__content\"><pre>ColumnTransformer(remainder=&#x27;passthrough&#x27;,\n",
       "                  transformers=[(&#x27;ohe&#x27;, OneHotEncoder(sparse_output=False),\n",
       "                                 Index([&#x27;store_and_fwd_flag&#x27;, &#x27;payment_type&#x27;], dtype=&#x27;object&#x27;)),\n",
       "                                (&#x27;mms&#x27;, MinMaxScaler(),\n",
       "                                 Index([&#x27;passenger_count&#x27;, &#x27;RatecodeID&#x27;, &#x27;congestion_surcharge&#x27;, &#x27;Airport_fee&#x27;,\n",
       "       &#x27;VendorID&#x27;, &#x27;trip_distance&#x27;, &#x27;PULocationID&#x27;, &#x27;DOLocationID&#x27;, &#x27;extra&#x27;,\n",
       "       &#x27;tip_amount&#x27;, &#x27;tolls_amount&#x27;, &#x27;improvement_surcharge&#x27;,\n",
       "       &#x27;tpep_pickup_month&#x27;, &#x27;tpep_dropoff_month&#x27;, &#x27;tpep_pickup_day&#x27;,\n",
       "       &#x27;tpep_dropoff_day&#x27;, &#x27;tpep_pickup_time&#x27;, &#x27;tpep_dropoff_time&#x27;],\n",
       "      dtype=&#x27;object&#x27;))],\n",
       "                  verbose_feature_names_out=False)</pre></div></div></div><div class=\"sk-parallel\"><div class=\"sk-parallel-item\"><div class=\"sk-item\"><div class=\"sk-label-container\"><div class=\"sk-label sk-toggleable\"><input class=\"sk-toggleable__control sk-hidden--visually\" id=\"sk-estimator-id-34\" type=\"checkbox\" ><label for=\"sk-estimator-id-34\" class=\"sk-toggleable__label sk-toggleable__label-arrow\">ohe</label><div class=\"sk-toggleable__content\"><pre>Index([&#x27;store_and_fwd_flag&#x27;, &#x27;payment_type&#x27;], dtype=&#x27;object&#x27;)</pre></div></div></div><div class=\"sk-serial\"><div class=\"sk-item\"><div class=\"sk-estimator sk-toggleable\"><input class=\"sk-toggleable__control sk-hidden--visually\" id=\"sk-estimator-id-35\" type=\"checkbox\" ><label for=\"sk-estimator-id-35\" class=\"sk-toggleable__label sk-toggleable__label-arrow\">OneHotEncoder</label><div class=\"sk-toggleable__content\"><pre>OneHotEncoder(sparse_output=False)</pre></div></div></div></div></div></div><div class=\"sk-parallel-item\"><div class=\"sk-item\"><div class=\"sk-label-container\"><div class=\"sk-label sk-toggleable\"><input class=\"sk-toggleable__control sk-hidden--visually\" id=\"sk-estimator-id-36\" type=\"checkbox\" ><label for=\"sk-estimator-id-36\" class=\"sk-toggleable__label sk-toggleable__label-arrow\">mms</label><div class=\"sk-toggleable__content\"><pre>Index([&#x27;passenger_count&#x27;, &#x27;RatecodeID&#x27;, &#x27;congestion_surcharge&#x27;, &#x27;Airport_fee&#x27;,\n",
       "       &#x27;VendorID&#x27;, &#x27;trip_distance&#x27;, &#x27;PULocationID&#x27;, &#x27;DOLocationID&#x27;, &#x27;extra&#x27;,\n",
       "       &#x27;tip_amount&#x27;, &#x27;tolls_amount&#x27;, &#x27;improvement_surcharge&#x27;,\n",
       "       &#x27;tpep_pickup_month&#x27;, &#x27;tpep_dropoff_month&#x27;, &#x27;tpep_pickup_day&#x27;,\n",
       "       &#x27;tpep_dropoff_day&#x27;, &#x27;tpep_pickup_time&#x27;, &#x27;tpep_dropoff_time&#x27;],\n",
       "      dtype=&#x27;object&#x27;)</pre></div></div></div><div class=\"sk-serial\"><div class=\"sk-item\"><div class=\"sk-estimator sk-toggleable\"><input class=\"sk-toggleable__control sk-hidden--visually\" id=\"sk-estimator-id-37\" type=\"checkbox\" ><label for=\"sk-estimator-id-37\" class=\"sk-toggleable__label sk-toggleable__label-arrow\">MinMaxScaler</label><div class=\"sk-toggleable__content\"><pre>MinMaxScaler()</pre></div></div></div></div></div></div><div class=\"sk-parallel-item\"><div class=\"sk-item\"><div class=\"sk-label-container\"><div class=\"sk-label sk-toggleable\"><input class=\"sk-toggleable__control sk-hidden--visually\" id=\"sk-estimator-id-38\" type=\"checkbox\" ><label for=\"sk-estimator-id-38\" class=\"sk-toggleable__label sk-toggleable__label-arrow\">remainder</label><div class=\"sk-toggleable__content\"><pre>[]</pre></div></div></div><div class=\"sk-serial\"><div class=\"sk-item\"><div class=\"sk-estimator sk-toggleable\"><input class=\"sk-toggleable__control sk-hidden--visually\" id=\"sk-estimator-id-39\" type=\"checkbox\" ><label for=\"sk-estimator-id-39\" class=\"sk-toggleable__label sk-toggleable__label-arrow\">passthrough</label><div class=\"sk-toggleable__content\"><pre>passthrough</pre></div></div></div></div></div></div></div></div><div class=\"sk-item\"><div class=\"sk-estimator sk-toggleable\"><input class=\"sk-toggleable__control sk-hidden--visually\" id=\"sk-estimator-id-40\" type=\"checkbox\" ><label for=\"sk-estimator-id-40\" class=\"sk-toggleable__label sk-toggleable__label-arrow\">VarianceThreshold</label><div class=\"sk-toggleable__content\"><pre>VarianceThreshold()</pre></div></div></div><div class=\"sk-item\"><div class=\"sk-estimator sk-toggleable\"><input class=\"sk-toggleable__control sk-hidden--visually\" id=\"sk-estimator-id-41\" type=\"checkbox\" ><label for=\"sk-estimator-id-41\" class=\"sk-toggleable__label sk-toggleable__label-arrow\">SGDRegressor</label><div class=\"sk-toggleable__content\"><pre>SGDRegressor(alpha=1e-05, penalty=&#x27;l1&#x27;, random_state=42, tol=0.0001)</pre></div></div></div></div></div></div></div>"
      ],
      "text/plain": [
       "Pipeline(steps=[('ct2',\n",
       "                 ColumnTransformer(remainder='passthrough',\n",
       "                                   transformers=[('ohe',\n",
       "                                                  OneHotEncoder(sparse_output=False),\n",
       "                                                  Index(['store_and_fwd_flag', 'payment_type'], dtype='object')),\n",
       "                                                 ('mms', MinMaxScaler(),\n",
       "                                                  Index(['passenger_count', 'RatecodeID', 'congestion_surcharge', 'Airport_fee',\n",
       "       'VendorID', 'trip_distance', 'PULocationID', 'DOLocationID', 'extra',\n",
       "       'tip_amount', 'tolls_amount', 'improvement_surcharge',\n",
       "       'tpep_pickup_month', 'tpep_dropoff_month', 'tpep_pickup_day',\n",
       "       'tpep_dropoff_day', 'tpep_pickup_time', 'tpep_dropoff_time'],\n",
       "      dtype='object'))],\n",
       "                                   verbose_feature_names_out=False)),\n",
       "                ('vt', VarianceThreshold()),\n",
       "                ('sgd',\n",
       "                 SGDRegressor(alpha=1e-05, penalty='l1', random_state=42,\n",
       "                              tol=0.0001))])"
      ]
     },
     "execution_count": 71,
     "metadata": {},
     "output_type": "execute_result"
    }
   ],
   "source": [
    "pipe2.fit(X_train, y_train)"
   ]
  },
  {
   "cell_type": "code",
   "execution_count": 72,
   "id": "a72b0e5a",
   "metadata": {
    "execution": {
     "iopub.execute_input": "2023-12-20T12:31:28.787358Z",
     "iopub.status.busy": "2023-12-20T12:31:28.786875Z",
     "iopub.status.idle": "2023-12-20T12:31:29.008063Z",
     "shell.execute_reply": "2023-12-20T12:31:29.006167Z"
    },
    "papermill": {
     "duration": 0.281711,
     "end_time": "2023-12-20T12:31:29.014328",
     "exception": false,
     "start_time": "2023-12-20T12:31:28.732617",
     "status": "completed"
    },
    "tags": []
   },
   "outputs": [
    {
     "data": {
      "text/plain": [
       "0.8578073925312962"
      ]
     },
     "execution_count": 72,
     "metadata": {},
     "output_type": "execute_result"
    }
   ],
   "source": [
    "train_score2 = pipe2.score(X_train, y_train)\n",
    "train_score2"
   ]
  },
  {
   "cell_type": "code",
   "execution_count": 73,
   "id": "b2a6e059",
   "metadata": {
    "execution": {
     "iopub.execute_input": "2023-12-20T12:31:29.173601Z",
     "iopub.status.busy": "2023-12-20T12:31:29.173106Z",
     "iopub.status.idle": "2023-12-20T12:31:29.240123Z",
     "shell.execute_reply": "2023-12-20T12:31:29.238586Z"
    },
    "papermill": {
     "duration": 0.124221,
     "end_time": "2023-12-20T12:31:29.244296",
     "exception": false,
     "start_time": "2023-12-20T12:31:29.120075",
     "status": "completed"
    },
    "tags": []
   },
   "outputs": [
    {
     "data": {
      "text/plain": [
       "0.8789061024260565"
      ]
     },
     "execution_count": 73,
     "metadata": {},
     "output_type": "execute_result"
    }
   ],
   "source": [
    "score2 = r2_score(y_test, pipe2.predict(X_test)) # 0.8789061024260565\n",
    "score2"
   ]
  },
  {
   "cell_type": "markdown",
   "id": "09ef6d18",
   "metadata": {
    "papermill": {
     "duration": 0.051313,
     "end_time": "2023-12-20T12:31:29.403685",
     "exception": false,
     "start_time": "2023-12-20T12:31:29.352372",
     "status": "completed"
    },
    "tags": []
   },
   "source": [
    "- **Hyperparameter tuning:**"
   ]
  },
  {
   "cell_type": "code",
   "execution_count": 74,
   "id": "895b6569",
   "metadata": {
    "execution": {
     "iopub.execute_input": "2023-12-20T12:31:29.511364Z",
     "iopub.status.busy": "2023-12-20T12:31:29.510865Z",
     "iopub.status.idle": "2023-12-20T12:31:29.515705Z",
     "shell.execute_reply": "2023-12-20T12:31:29.514805Z"
    },
    "papermill": {
     "duration": 0.06112,
     "end_time": "2023-12-20T12:31:29.517808",
     "exception": false,
     "start_time": "2023-12-20T12:31:29.456688",
     "status": "completed"
    },
    "tags": []
   },
   "outputs": [],
   "source": [
    "#params = {'sgd__penalty': ['l1', 'l2'], 'sgd__alpha': [1e-5, 1e-4, 1e-3, 1e-2, 1e-1],  'sgd__tol': [1e-4, 1e-3, 1e-2, 1e-1]}"
   ]
  },
  {
   "cell_type": "code",
   "execution_count": 75,
   "id": "89179071",
   "metadata": {
    "execution": {
     "iopub.execute_input": "2023-12-20T12:31:29.624991Z",
     "iopub.status.busy": "2023-12-20T12:31:29.623746Z",
     "iopub.status.idle": "2023-12-20T12:31:29.628747Z",
     "shell.execute_reply": "2023-12-20T12:31:29.627888Z"
    },
    "papermill": {
     "duration": 0.061345,
     "end_time": "2023-12-20T12:31:29.631012",
     "exception": false,
     "start_time": "2023-12-20T12:31:29.569667",
     "status": "completed"
    },
    "tags": []
   },
   "outputs": [],
   "source": [
    "#grid = GridSearchCV(estimator = pipe, param_grid = params, cv = 5, n_jobs = -1)"
   ]
  },
  {
   "cell_type": "code",
   "execution_count": 76,
   "id": "25016482",
   "metadata": {
    "execution": {
     "iopub.execute_input": "2023-12-20T12:31:29.737082Z",
     "iopub.status.busy": "2023-12-20T12:31:29.736335Z",
     "iopub.status.idle": "2023-12-20T12:31:29.740519Z",
     "shell.execute_reply": "2023-12-20T12:31:29.739636Z"
    },
    "papermill": {
     "duration": 0.059886,
     "end_time": "2023-12-20T12:31:29.742753",
     "exception": false,
     "start_time": "2023-12-20T12:31:29.682867",
     "status": "completed"
    },
    "tags": []
   },
   "outputs": [],
   "source": [
    "#grid.fit(X_train, y_train)"
   ]
  },
  {
   "cell_type": "code",
   "execution_count": 77,
   "id": "1b2b166b",
   "metadata": {
    "execution": {
     "iopub.execute_input": "2023-12-20T12:31:29.848406Z",
     "iopub.status.busy": "2023-12-20T12:31:29.847641Z",
     "iopub.status.idle": "2023-12-20T12:31:29.852129Z",
     "shell.execute_reply": "2023-12-20T12:31:29.850962Z"
    },
    "papermill": {
     "duration": 0.06029,
     "end_time": "2023-12-20T12:31:29.854740",
     "exception": false,
     "start_time": "2023-12-20T12:31:29.794450",
     "status": "completed"
    },
    "tags": []
   },
   "outputs": [],
   "source": [
    "#grid.best_params_"
   ]
  },
  {
   "cell_type": "code",
   "execution_count": 78,
   "id": "a85b2e26",
   "metadata": {
    "execution": {
     "iopub.execute_input": "2023-12-20T12:31:29.960679Z",
     "iopub.status.busy": "2023-12-20T12:31:29.960270Z",
     "iopub.status.idle": "2023-12-20T12:31:29.964755Z",
     "shell.execute_reply": "2023-12-20T12:31:29.963803Z"
    },
    "papermill": {
     "duration": 0.060294,
     "end_time": "2023-12-20T12:31:29.966924",
     "exception": false,
     "start_time": "2023-12-20T12:31:29.906630",
     "status": "completed"
    },
    "tags": []
   },
   "outputs": [],
   "source": [
    "#r2_score(y_test, grid.predict(X_test)) # 0.8789061024260565"
   ]
  },
  {
   "cell_type": "markdown",
   "id": "c58310f4",
   "metadata": {
    "papermill": {
     "duration": 0.051188,
     "end_time": "2023-12-20T12:31:30.069567",
     "exception": false,
     "start_time": "2023-12-20T12:31:30.018379",
     "status": "completed"
    },
    "tags": []
   },
   "source": [
    "## ......................................................................................................................."
   ]
  },
  {
   "cell_type": "markdown",
   "id": "c36f02ac",
   "metadata": {
    "papermill": {
     "duration": 0.050963,
     "end_time": "2023-12-20T12:31:30.171902",
     "exception": false,
     "start_time": "2023-12-20T12:31:30.120939",
     "status": "completed"
    },
    "tags": []
   },
   "source": [
    "### MODEL-3\n",
    "#### RandomForestRegressor"
   ]
  },
  {
   "cell_type": "code",
   "execution_count": 79,
   "id": "e05edf88",
   "metadata": {
    "execution": {
     "iopub.execute_input": "2023-12-20T12:31:30.277233Z",
     "iopub.status.busy": "2023-12-20T12:31:30.276378Z",
     "iopub.status.idle": "2023-12-20T12:31:30.281123Z",
     "shell.execute_reply": "2023-12-20T12:31:30.280263Z"
    },
    "papermill": {
     "duration": 0.060085,
     "end_time": "2023-12-20T12:31:30.283400",
     "exception": false,
     "start_time": "2023-12-20T12:31:30.223315",
     "status": "completed"
    },
    "tags": []
   },
   "outputs": [],
   "source": [
    "rfr = RandomForestRegressor(random_state=42)"
   ]
  },
  {
   "cell_type": "markdown",
   "id": "2333dceb",
   "metadata": {
    "papermill": {
     "duration": 0.051407,
     "end_time": "2023-12-20T12:31:30.386814",
     "exception": false,
     "start_time": "2023-12-20T12:31:30.335407",
     "status": "completed"
    },
    "tags": []
   },
   "source": [
    "- **Pipeline:**\n",
    "    - ColumnTransformer: OneHotEncoder and MinMaxScaler\n",
    "    - VarianceThreshold\n",
    "    - RandomForestRegressor"
   ]
  },
  {
   "cell_type": "code",
   "execution_count": 80,
   "id": "657ee727",
   "metadata": {
    "execution": {
     "iopub.execute_input": "2023-12-20T12:31:30.495570Z",
     "iopub.status.busy": "2023-12-20T12:31:30.495094Z",
     "iopub.status.idle": "2023-12-20T12:31:30.500503Z",
     "shell.execute_reply": "2023-12-20T12:31:30.499362Z"
    },
    "papermill": {
     "duration": 0.064238,
     "end_time": "2023-12-20T12:31:30.502792",
     "exception": false,
     "start_time": "2023-12-20T12:31:30.438554",
     "status": "completed"
    },
    "tags": []
   },
   "outputs": [],
   "source": [
    "stp3 = [('ct2', ct2), ('vt', vt), ('rfr', rfr)]"
   ]
  },
  {
   "cell_type": "code",
   "execution_count": 81,
   "id": "b339977f",
   "metadata": {
    "execution": {
     "iopub.execute_input": "2023-12-20T12:31:30.608700Z",
     "iopub.status.busy": "2023-12-20T12:31:30.608243Z",
     "iopub.status.idle": "2023-12-20T12:31:30.614000Z",
     "shell.execute_reply": "2023-12-20T12:31:30.612479Z"
    },
    "papermill": {
     "duration": 0.061959,
     "end_time": "2023-12-20T12:31:30.616619",
     "exception": false,
     "start_time": "2023-12-20T12:31:30.554660",
     "status": "completed"
    },
    "tags": []
   },
   "outputs": [],
   "source": [
    "pipe3 = Pipeline(steps=stp3).set_output(transform='pandas')"
   ]
  },
  {
   "cell_type": "code",
   "execution_count": 82,
   "id": "e97823ad",
   "metadata": {
    "execution": {
     "iopub.execute_input": "2023-12-20T12:31:30.725078Z",
     "iopub.status.busy": "2023-12-20T12:31:30.723740Z",
     "iopub.status.idle": "2023-12-20T12:33:30.478363Z",
     "shell.execute_reply": "2023-12-20T12:33:30.477043Z"
    },
    "papermill": {
     "duration": 119.864183,
     "end_time": "2023-12-20T12:33:30.533502",
     "exception": false,
     "start_time": "2023-12-20T12:31:30.669319",
     "status": "completed"
    },
    "tags": []
   },
   "outputs": [
    {
     "data": {
      "text/html": [
       "<style>#sk-container-id-6 {color: black;background-color: white;}#sk-container-id-6 pre{padding: 0;}#sk-container-id-6 div.sk-toggleable {background-color: white;}#sk-container-id-6 label.sk-toggleable__label {cursor: pointer;display: block;width: 100%;margin-bottom: 0;padding: 0.3em;box-sizing: border-box;text-align: center;}#sk-container-id-6 label.sk-toggleable__label-arrow:before {content: \"▸\";float: left;margin-right: 0.25em;color: #696969;}#sk-container-id-6 label.sk-toggleable__label-arrow:hover:before {color: black;}#sk-container-id-6 div.sk-estimator:hover label.sk-toggleable__label-arrow:before {color: black;}#sk-container-id-6 div.sk-toggleable__content {max-height: 0;max-width: 0;overflow: hidden;text-align: left;background-color: #f0f8ff;}#sk-container-id-6 div.sk-toggleable__content pre {margin: 0.2em;color: black;border-radius: 0.25em;background-color: #f0f8ff;}#sk-container-id-6 input.sk-toggleable__control:checked~div.sk-toggleable__content {max-height: 200px;max-width: 100%;overflow: auto;}#sk-container-id-6 input.sk-toggleable__control:checked~label.sk-toggleable__label-arrow:before {content: \"▾\";}#sk-container-id-6 div.sk-estimator input.sk-toggleable__control:checked~label.sk-toggleable__label {background-color: #d4ebff;}#sk-container-id-6 div.sk-label input.sk-toggleable__control:checked~label.sk-toggleable__label {background-color: #d4ebff;}#sk-container-id-6 input.sk-hidden--visually {border: 0;clip: rect(1px 1px 1px 1px);clip: rect(1px, 1px, 1px, 1px);height: 1px;margin: -1px;overflow: hidden;padding: 0;position: absolute;width: 1px;}#sk-container-id-6 div.sk-estimator {font-family: monospace;background-color: #f0f8ff;border: 1px dotted black;border-radius: 0.25em;box-sizing: border-box;margin-bottom: 0.5em;}#sk-container-id-6 div.sk-estimator:hover {background-color: #d4ebff;}#sk-container-id-6 div.sk-parallel-item::after {content: \"\";width: 100%;border-bottom: 1px solid gray;flex-grow: 1;}#sk-container-id-6 div.sk-label:hover label.sk-toggleable__label {background-color: #d4ebff;}#sk-container-id-6 div.sk-serial::before {content: \"\";position: absolute;border-left: 1px solid gray;box-sizing: border-box;top: 0;bottom: 0;left: 50%;z-index: 0;}#sk-container-id-6 div.sk-serial {display: flex;flex-direction: column;align-items: center;background-color: white;padding-right: 0.2em;padding-left: 0.2em;position: relative;}#sk-container-id-6 div.sk-item {position: relative;z-index: 1;}#sk-container-id-6 div.sk-parallel {display: flex;align-items: stretch;justify-content: center;background-color: white;position: relative;}#sk-container-id-6 div.sk-item::before, #sk-container-id-6 div.sk-parallel-item::before {content: \"\";position: absolute;border-left: 1px solid gray;box-sizing: border-box;top: 0;bottom: 0;left: 50%;z-index: -1;}#sk-container-id-6 div.sk-parallel-item {display: flex;flex-direction: column;z-index: 1;position: relative;background-color: white;}#sk-container-id-6 div.sk-parallel-item:first-child::after {align-self: flex-end;width: 50%;}#sk-container-id-6 div.sk-parallel-item:last-child::after {align-self: flex-start;width: 50%;}#sk-container-id-6 div.sk-parallel-item:only-child::after {width: 0;}#sk-container-id-6 div.sk-dashed-wrapped {border: 1px dashed gray;margin: 0 0.4em 0.5em 0.4em;box-sizing: border-box;padding-bottom: 0.4em;background-color: white;}#sk-container-id-6 div.sk-label label {font-family: monospace;font-weight: bold;display: inline-block;line-height: 1.2em;}#sk-container-id-6 div.sk-label-container {text-align: center;}#sk-container-id-6 div.sk-container {/* jupyter's `normalize.less` sets `[hidden] { display: none; }` but bootstrap.min.css set `[hidden] { display: none !important; }` so we also need the `!important` here to be able to override the default hidden behavior on the sphinx rendered scikit-learn.org. See: https://github.com/scikit-learn/scikit-learn/issues/21755 */display: inline-block !important;position: relative;}#sk-container-id-6 div.sk-text-repr-fallback {display: none;}</style><div id=\"sk-container-id-6\" class=\"sk-top-container\"><div class=\"sk-text-repr-fallback\"><pre>Pipeline(steps=[(&#x27;ct2&#x27;,\n",
       "                 ColumnTransformer(remainder=&#x27;passthrough&#x27;,\n",
       "                                   transformers=[(&#x27;ohe&#x27;,\n",
       "                                                  OneHotEncoder(sparse_output=False),\n",
       "                                                  Index([&#x27;store_and_fwd_flag&#x27;, &#x27;payment_type&#x27;], dtype=&#x27;object&#x27;)),\n",
       "                                                 (&#x27;mms&#x27;, MinMaxScaler(),\n",
       "                                                  Index([&#x27;passenger_count&#x27;, &#x27;RatecodeID&#x27;, &#x27;congestion_surcharge&#x27;, &#x27;Airport_fee&#x27;,\n",
       "       &#x27;VendorID&#x27;, &#x27;trip_distance&#x27;, &#x27;PULocationID&#x27;, &#x27;DOLocationID&#x27;, &#x27;extra&#x27;,\n",
       "       &#x27;tip_amount&#x27;, &#x27;tolls_amount&#x27;, &#x27;improvement_surcharge&#x27;,\n",
       "       &#x27;tpep_pickup_month&#x27;, &#x27;tpep_dropoff_month&#x27;, &#x27;tpep_pickup_day&#x27;,\n",
       "       &#x27;tpep_dropoff_day&#x27;, &#x27;tpep_pickup_time&#x27;, &#x27;tpep_dropoff_time&#x27;],\n",
       "      dtype=&#x27;object&#x27;))],\n",
       "                                   verbose_feature_names_out=False)),\n",
       "                (&#x27;vt&#x27;, VarianceThreshold()),\n",
       "                (&#x27;rfr&#x27;, RandomForestRegressor(random_state=42))])</pre><b>In a Jupyter environment, please rerun this cell to show the HTML representation or trust the notebook. <br />On GitHub, the HTML representation is unable to render, please try loading this page with nbviewer.org.</b></div><div class=\"sk-container\" hidden><div class=\"sk-item sk-dashed-wrapped\"><div class=\"sk-label-container\"><div class=\"sk-label sk-toggleable\"><input class=\"sk-toggleable__control sk-hidden--visually\" id=\"sk-estimator-id-42\" type=\"checkbox\" ><label for=\"sk-estimator-id-42\" class=\"sk-toggleable__label sk-toggleable__label-arrow\">Pipeline</label><div class=\"sk-toggleable__content\"><pre>Pipeline(steps=[(&#x27;ct2&#x27;,\n",
       "                 ColumnTransformer(remainder=&#x27;passthrough&#x27;,\n",
       "                                   transformers=[(&#x27;ohe&#x27;,\n",
       "                                                  OneHotEncoder(sparse_output=False),\n",
       "                                                  Index([&#x27;store_and_fwd_flag&#x27;, &#x27;payment_type&#x27;], dtype=&#x27;object&#x27;)),\n",
       "                                                 (&#x27;mms&#x27;, MinMaxScaler(),\n",
       "                                                  Index([&#x27;passenger_count&#x27;, &#x27;RatecodeID&#x27;, &#x27;congestion_surcharge&#x27;, &#x27;Airport_fee&#x27;,\n",
       "       &#x27;VendorID&#x27;, &#x27;trip_distance&#x27;, &#x27;PULocationID&#x27;, &#x27;DOLocationID&#x27;, &#x27;extra&#x27;,\n",
       "       &#x27;tip_amount&#x27;, &#x27;tolls_amount&#x27;, &#x27;improvement_surcharge&#x27;,\n",
       "       &#x27;tpep_pickup_month&#x27;, &#x27;tpep_dropoff_month&#x27;, &#x27;tpep_pickup_day&#x27;,\n",
       "       &#x27;tpep_dropoff_day&#x27;, &#x27;tpep_pickup_time&#x27;, &#x27;tpep_dropoff_time&#x27;],\n",
       "      dtype=&#x27;object&#x27;))],\n",
       "                                   verbose_feature_names_out=False)),\n",
       "                (&#x27;vt&#x27;, VarianceThreshold()),\n",
       "                (&#x27;rfr&#x27;, RandomForestRegressor(random_state=42))])</pre></div></div></div><div class=\"sk-serial\"><div class=\"sk-item sk-dashed-wrapped\"><div class=\"sk-label-container\"><div class=\"sk-label sk-toggleable\"><input class=\"sk-toggleable__control sk-hidden--visually\" id=\"sk-estimator-id-43\" type=\"checkbox\" ><label for=\"sk-estimator-id-43\" class=\"sk-toggleable__label sk-toggleable__label-arrow\">ct2: ColumnTransformer</label><div class=\"sk-toggleable__content\"><pre>ColumnTransformer(remainder=&#x27;passthrough&#x27;,\n",
       "                  transformers=[(&#x27;ohe&#x27;, OneHotEncoder(sparse_output=False),\n",
       "                                 Index([&#x27;store_and_fwd_flag&#x27;, &#x27;payment_type&#x27;], dtype=&#x27;object&#x27;)),\n",
       "                                (&#x27;mms&#x27;, MinMaxScaler(),\n",
       "                                 Index([&#x27;passenger_count&#x27;, &#x27;RatecodeID&#x27;, &#x27;congestion_surcharge&#x27;, &#x27;Airport_fee&#x27;,\n",
       "       &#x27;VendorID&#x27;, &#x27;trip_distance&#x27;, &#x27;PULocationID&#x27;, &#x27;DOLocationID&#x27;, &#x27;extra&#x27;,\n",
       "       &#x27;tip_amount&#x27;, &#x27;tolls_amount&#x27;, &#x27;improvement_surcharge&#x27;,\n",
       "       &#x27;tpep_pickup_month&#x27;, &#x27;tpep_dropoff_month&#x27;, &#x27;tpep_pickup_day&#x27;,\n",
       "       &#x27;tpep_dropoff_day&#x27;, &#x27;tpep_pickup_time&#x27;, &#x27;tpep_dropoff_time&#x27;],\n",
       "      dtype=&#x27;object&#x27;))],\n",
       "                  verbose_feature_names_out=False)</pre></div></div></div><div class=\"sk-parallel\"><div class=\"sk-parallel-item\"><div class=\"sk-item\"><div class=\"sk-label-container\"><div class=\"sk-label sk-toggleable\"><input class=\"sk-toggleable__control sk-hidden--visually\" id=\"sk-estimator-id-44\" type=\"checkbox\" ><label for=\"sk-estimator-id-44\" class=\"sk-toggleable__label sk-toggleable__label-arrow\">ohe</label><div class=\"sk-toggleable__content\"><pre>Index([&#x27;store_and_fwd_flag&#x27;, &#x27;payment_type&#x27;], dtype=&#x27;object&#x27;)</pre></div></div></div><div class=\"sk-serial\"><div class=\"sk-item\"><div class=\"sk-estimator sk-toggleable\"><input class=\"sk-toggleable__control sk-hidden--visually\" id=\"sk-estimator-id-45\" type=\"checkbox\" ><label for=\"sk-estimator-id-45\" class=\"sk-toggleable__label sk-toggleable__label-arrow\">OneHotEncoder</label><div class=\"sk-toggleable__content\"><pre>OneHotEncoder(sparse_output=False)</pre></div></div></div></div></div></div><div class=\"sk-parallel-item\"><div class=\"sk-item\"><div class=\"sk-label-container\"><div class=\"sk-label sk-toggleable\"><input class=\"sk-toggleable__control sk-hidden--visually\" id=\"sk-estimator-id-46\" type=\"checkbox\" ><label for=\"sk-estimator-id-46\" class=\"sk-toggleable__label sk-toggleable__label-arrow\">mms</label><div class=\"sk-toggleable__content\"><pre>Index([&#x27;passenger_count&#x27;, &#x27;RatecodeID&#x27;, &#x27;congestion_surcharge&#x27;, &#x27;Airport_fee&#x27;,\n",
       "       &#x27;VendorID&#x27;, &#x27;trip_distance&#x27;, &#x27;PULocationID&#x27;, &#x27;DOLocationID&#x27;, &#x27;extra&#x27;,\n",
       "       &#x27;tip_amount&#x27;, &#x27;tolls_amount&#x27;, &#x27;improvement_surcharge&#x27;,\n",
       "       &#x27;tpep_pickup_month&#x27;, &#x27;tpep_dropoff_month&#x27;, &#x27;tpep_pickup_day&#x27;,\n",
       "       &#x27;tpep_dropoff_day&#x27;, &#x27;tpep_pickup_time&#x27;, &#x27;tpep_dropoff_time&#x27;],\n",
       "      dtype=&#x27;object&#x27;)</pre></div></div></div><div class=\"sk-serial\"><div class=\"sk-item\"><div class=\"sk-estimator sk-toggleable\"><input class=\"sk-toggleable__control sk-hidden--visually\" id=\"sk-estimator-id-47\" type=\"checkbox\" ><label for=\"sk-estimator-id-47\" class=\"sk-toggleable__label sk-toggleable__label-arrow\">MinMaxScaler</label><div class=\"sk-toggleable__content\"><pre>MinMaxScaler()</pre></div></div></div></div></div></div><div class=\"sk-parallel-item\"><div class=\"sk-item\"><div class=\"sk-label-container\"><div class=\"sk-label sk-toggleable\"><input class=\"sk-toggleable__control sk-hidden--visually\" id=\"sk-estimator-id-48\" type=\"checkbox\" ><label for=\"sk-estimator-id-48\" class=\"sk-toggleable__label sk-toggleable__label-arrow\">remainder</label><div class=\"sk-toggleable__content\"><pre>[]</pre></div></div></div><div class=\"sk-serial\"><div class=\"sk-item\"><div class=\"sk-estimator sk-toggleable\"><input class=\"sk-toggleable__control sk-hidden--visually\" id=\"sk-estimator-id-49\" type=\"checkbox\" ><label for=\"sk-estimator-id-49\" class=\"sk-toggleable__label sk-toggleable__label-arrow\">passthrough</label><div class=\"sk-toggleable__content\"><pre>passthrough</pre></div></div></div></div></div></div></div></div><div class=\"sk-item\"><div class=\"sk-estimator sk-toggleable\"><input class=\"sk-toggleable__control sk-hidden--visually\" id=\"sk-estimator-id-50\" type=\"checkbox\" ><label for=\"sk-estimator-id-50\" class=\"sk-toggleable__label sk-toggleable__label-arrow\">VarianceThreshold</label><div class=\"sk-toggleable__content\"><pre>VarianceThreshold()</pre></div></div></div><div class=\"sk-item\"><div class=\"sk-estimator sk-toggleable\"><input class=\"sk-toggleable__control sk-hidden--visually\" id=\"sk-estimator-id-51\" type=\"checkbox\" ><label for=\"sk-estimator-id-51\" class=\"sk-toggleable__label sk-toggleable__label-arrow\">RandomForestRegressor</label><div class=\"sk-toggleable__content\"><pre>RandomForestRegressor(random_state=42)</pre></div></div></div></div></div></div></div>"
      ],
      "text/plain": [
       "Pipeline(steps=[('ct2',\n",
       "                 ColumnTransformer(remainder='passthrough',\n",
       "                                   transformers=[('ohe',\n",
       "                                                  OneHotEncoder(sparse_output=False),\n",
       "                                                  Index(['store_and_fwd_flag', 'payment_type'], dtype='object')),\n",
       "                                                 ('mms', MinMaxScaler(),\n",
       "                                                  Index(['passenger_count', 'RatecodeID', 'congestion_surcharge', 'Airport_fee',\n",
       "       'VendorID', 'trip_distance', 'PULocationID', 'DOLocationID', 'extra',\n",
       "       'tip_amount', 'tolls_amount', 'improvement_surcharge',\n",
       "       'tpep_pickup_month', 'tpep_dropoff_month', 'tpep_pickup_day',\n",
       "       'tpep_dropoff_day', 'tpep_pickup_time', 'tpep_dropoff_time'],\n",
       "      dtype='object'))],\n",
       "                                   verbose_feature_names_out=False)),\n",
       "                ('vt', VarianceThreshold()),\n",
       "                ('rfr', RandomForestRegressor(random_state=42))])"
      ]
     },
     "execution_count": 82,
     "metadata": {},
     "output_type": "execute_result"
    }
   ],
   "source": [
    "pipe3.fit(X_train, y_train)"
   ]
  },
  {
   "cell_type": "code",
   "execution_count": 83,
   "id": "8d737361",
   "metadata": {
    "execution": {
     "iopub.execute_input": "2023-12-20T12:33:30.639643Z",
     "iopub.status.busy": "2023-12-20T12:33:30.639154Z",
     "iopub.status.idle": "2023-12-20T12:33:37.708653Z",
     "shell.execute_reply": "2023-12-20T12:33:37.707459Z"
    },
    "papermill": {
     "duration": 7.125679,
     "end_time": "2023-12-20T12:33:37.710955",
     "exception": false,
     "start_time": "2023-12-20T12:33:30.585276",
     "status": "completed"
    },
    "tags": []
   },
   "outputs": [
    {
     "data": {
      "text/plain": [
       "0.9913846549937125"
      ]
     },
     "execution_count": 83,
     "metadata": {},
     "output_type": "execute_result"
    }
   ],
   "source": [
    "train_score3 = pipe3.score(X_train, y_train)\n",
    "train_score3"
   ]
  },
  {
   "cell_type": "code",
   "execution_count": 84,
   "id": "12190187",
   "metadata": {
    "execution": {
     "iopub.execute_input": "2023-12-20T12:33:37.819219Z",
     "iopub.status.busy": "2023-12-20T12:33:37.818009Z",
     "iopub.status.idle": "2023-12-20T12:33:39.763971Z",
     "shell.execute_reply": "2023-12-20T12:33:39.762786Z"
    },
    "papermill": {
     "duration": 2.002483,
     "end_time": "2023-12-20T12:33:39.766448",
     "exception": false,
     "start_time": "2023-12-20T12:33:37.763965",
     "status": "completed"
    },
    "tags": []
   },
   "outputs": [
    {
     "data": {
      "text/plain": [
       "0.9541987630104413"
      ]
     },
     "execution_count": 84,
     "metadata": {},
     "output_type": "execute_result"
    }
   ],
   "source": [
    "score3 = r2_score(y_test, pipe3.predict(X_test))\n",
    "score3\n",
    "# 0.9541987630104413 # 0.93744 "
   ]
  },
  {
   "cell_type": "markdown",
   "id": "1a340731",
   "metadata": {
    "papermill": {
     "duration": 0.05136,
     "end_time": "2023-12-20T12:33:39.869712",
     "exception": false,
     "start_time": "2023-12-20T12:33:39.818352",
     "status": "completed"
    },
    "tags": []
   },
   "source": [
    "## ......................................................................................................................."
   ]
  },
  {
   "cell_type": "markdown",
   "id": "29d10fe5",
   "metadata": {
    "papermill": {
     "duration": 0.052231,
     "end_time": "2023-12-20T12:33:39.974084",
     "exception": false,
     "start_time": "2023-12-20T12:33:39.921853",
     "status": "completed"
    },
    "tags": []
   },
   "source": [
    "### Model Comparison:"
   ]
  },
  {
   "cell_type": "code",
   "execution_count": 85,
   "id": "bd66e2f1",
   "metadata": {
    "execution": {
     "iopub.execute_input": "2023-12-20T12:33:40.082812Z",
     "iopub.status.busy": "2023-12-20T12:33:40.082055Z",
     "iopub.status.idle": "2023-12-20T12:33:40.096481Z",
     "shell.execute_reply": "2023-12-20T12:33:40.095371Z"
    },
    "papermill": {
     "duration": 0.070117,
     "end_time": "2023-12-20T12:33:40.098773",
     "exception": false,
     "start_time": "2023-12-20T12:33:40.028656",
     "status": "completed"
    },
    "tags": []
   },
   "outputs": [
    {
     "data": {
      "text/html": [
       "<div>\n",
       "<style scoped>\n",
       "    .dataframe tbody tr th:only-of-type {\n",
       "        vertical-align: middle;\n",
       "    }\n",
       "\n",
       "    .dataframe tbody tr th {\n",
       "        vertical-align: top;\n",
       "    }\n",
       "\n",
       "    .dataframe thead th {\n",
       "        text-align: right;\n",
       "    }\n",
       "</style>\n",
       "<table border=\"1\" class=\"dataframe\">\n",
       "  <thead>\n",
       "    <tr style=\"text-align: right;\">\n",
       "      <th></th>\n",
       "      <th>R2 Score</th>\n",
       "    </tr>\n",
       "    <tr>\n",
       "      <th>Model</th>\n",
       "      <th></th>\n",
       "    </tr>\n",
       "  </thead>\n",
       "  <tbody>\n",
       "    <tr>\n",
       "      <th>RandomForestRegressor</th>\n",
       "      <td>0.991385</td>\n",
       "    </tr>\n",
       "    <tr>\n",
       "      <th>XGBRegressor</th>\n",
       "      <td>0.953255</td>\n",
       "    </tr>\n",
       "    <tr>\n",
       "      <th>SGDRegressor</th>\n",
       "      <td>0.857807</td>\n",
       "    </tr>\n",
       "  </tbody>\n",
       "</table>\n",
       "</div>"
      ],
      "text/plain": [
       "                       R2 Score\n",
       "Model                          \n",
       "RandomForestRegressor  0.991385\n",
       "XGBRegressor           0.953255\n",
       "SGDRegressor           0.857807"
      ]
     },
     "execution_count": 85,
     "metadata": {},
     "output_type": "execute_result"
    }
   ],
   "source": [
    "# train data score\n",
    "results = pd.DataFrame({'Model':['XGBRegressor','SGDRegressor','RandomForestRegressor'],\n",
    "                    'R2 Score':[train_score1, train_score2, train_score3]})\n",
    "result1 = results.sort_values(by='R2 Score', ascending=False)\n",
    "result1 = result1.set_index('Model')\n",
    "result1"
   ]
  },
  {
   "cell_type": "code",
   "execution_count": 86,
   "id": "6ffe268c",
   "metadata": {
    "execution": {
     "iopub.execute_input": "2023-12-20T12:33:40.283623Z",
     "iopub.status.busy": "2023-12-20T12:33:40.283133Z",
     "iopub.status.idle": "2023-12-20T12:33:40.526520Z",
     "shell.execute_reply": "2023-12-20T12:33:40.525309Z"
    },
    "papermill": {
     "duration": 0.378183,
     "end_time": "2023-12-20T12:33:40.528913",
     "exception": false,
     "start_time": "2023-12-20T12:33:40.150730",
     "status": "completed"
    },
    "tags": []
   },
   "outputs": [
    {
     "data": {
      "text/plain": [
       "<Axes: xlabel='Model'>"
      ]
     },
     "execution_count": 86,
     "metadata": {},
     "output_type": "execute_result"
    },
    {
     "data": {
      "image/png": "[encoded data removed]",
      "text/plain": [
       "<Figure size 640x480 with 1 Axes>"
      ]
     },
     "metadata": {},
     "output_type": "display_data"
    }
   ],
   "source": [
    "result1.plot.bar(ylim=(0.85, 1.0))"
   ]
  },
  {
   "cell_type": "code",
   "execution_count": 87,
   "id": "8d6ad3bd",
   "metadata": {
    "execution": {
     "iopub.execute_input": "2023-12-20T12:33:40.636773Z",
     "iopub.status.busy": "2023-12-20T12:33:40.635388Z",
     "iopub.status.idle": "2023-12-20T12:33:40.650008Z",
     "shell.execute_reply": "2023-12-20T12:33:40.648866Z"
    },
    "papermill": {
     "duration": 0.071076,
     "end_time": "2023-12-20T12:33:40.652483",
     "exception": false,
     "start_time": "2023-12-20T12:33:40.581407",
     "status": "completed"
    },
    "tags": []
   },
   "outputs": [
    {
     "data": {
      "text/html": [
       "<div>\n",
       "<style scoped>\n",
       "    .dataframe tbody tr th:only-of-type {\n",
       "        vertical-align: middle;\n",
       "    }\n",
       "\n",
       "    .dataframe tbody tr th {\n",
       "        vertical-align: top;\n",
       "    }\n",
       "\n",
       "    .dataframe thead th {\n",
       "        text-align: right;\n",
       "    }\n",
       "</style>\n",
       "<table border=\"1\" class=\"dataframe\">\n",
       "  <thead>\n",
       "    <tr style=\"text-align: right;\">\n",
       "      <th></th>\n",
       "      <th>R2 Score</th>\n",
       "    </tr>\n",
       "    <tr>\n",
       "      <th>Model</th>\n",
       "      <th></th>\n",
       "    </tr>\n",
       "  </thead>\n",
       "  <tbody>\n",
       "    <tr>\n",
       "      <th>XGBRegressor</th>\n",
       "      <td>0.956898</td>\n",
       "    </tr>\n",
       "    <tr>\n",
       "      <th>RandomForestRegressor</th>\n",
       "      <td>0.954199</td>\n",
       "    </tr>\n",
       "    <tr>\n",
       "      <th>SGDRegressor</th>\n",
       "      <td>0.878906</td>\n",
       "    </tr>\n",
       "  </tbody>\n",
       "</table>\n",
       "</div>"
      ],
      "text/plain": [
       "                       R2 Score\n",
       "Model                          \n",
       "XGBRegressor           0.956898\n",
       "RandomForestRegressor  0.954199\n",
       "SGDRegressor           0.878906"
      ]
     },
     "execution_count": 87,
     "metadata": {},
     "output_type": "execute_result"
    }
   ],
   "source": [
    "# test set score\n",
    "results = pd.DataFrame({'Model':['XGBRegressor','SGDRegressor','RandomForestRegressor'],\n",
    "                    'R2 Score':[score1, score2, score3]})\n",
    "result2 = results.sort_values(by='R2 Score', ascending=False)\n",
    "result2 = result2.set_index('Model')\n",
    "result2"
   ]
  },
  {
   "cell_type": "code",
   "execution_count": 88,
   "id": "dd6d9fc4",
   "metadata": {
    "execution": {
     "iopub.execute_input": "2023-12-20T12:33:40.763821Z",
     "iopub.status.busy": "2023-12-20T12:33:40.762700Z",
     "iopub.status.idle": "2023-12-20T12:33:41.059185Z",
     "shell.execute_reply": "2023-12-20T12:33:41.057913Z"
    },
    "papermill": {
     "duration": 0.354855,
     "end_time": "2023-12-20T12:33:41.061778",
     "exception": false,
     "start_time": "2023-12-20T12:33:40.706923",
     "status": "completed"
    },
    "tags": []
   },
   "outputs": [
    {
     "data": {
      "text/plain": [
       "<Axes: xlabel='Model'>"
      ]
     },
     "execution_count": 88,
     "metadata": {},
     "output_type": "execute_result"
    },
    {
     "data": {
      "image/png": "[encoded data removed]",
      "text/plain": [
       "<Figure size 640x480 with 1 Axes>"
      ]
     },
     "metadata": {},
     "output_type": "display_data"
    }
   ],
   "source": [
    "result2.plot.bar(ylim=(0.85, 1.0))"
   ]
  },
  {
   "cell_type": "markdown",
   "id": "266a1030",
   "metadata": {
    "papermill": {
     "duration": 0.053768,
     "end_time": "2023-12-20T12:33:41.170406",
     "exception": false,
     "start_time": "2023-12-20T12:33:41.116638",
     "status": "completed"
    },
    "tags": []
   },
   "source": [
    "#### Conclusion: \n",
    "**Train set:**\n",
    "* Highest score was achieved using RandomForestRegressor.\n",
    "* SGDRegressor gave a lower score as compared to RandomForestRegressor and XGBRegressor.\n",
    "\n",
    "**Test set:**\n",
    "* Highest score was achieved using XGBregressor.\n",
    "* SGDRegressor gave a lower r2_score as compared to RandomForestRegressor and XGBRegressor."
   ]
  },
  {
   "cell_type": "markdown",
   "id": "efafae72",
   "metadata": {
    "papermill": {
     "duration": 0.053838,
     "end_time": "2023-12-20T12:33:41.278488",
     "exception": false,
     "start_time": "2023-12-20T12:33:41.224650",
     "status": "completed"
    },
    "tags": []
   },
   "source": [
    "## ......................................................................................................................."
   ]
  },
  {
   "cell_type": "code",
   "execution_count": 89,
   "id": "3d10663b",
   "metadata": {
    "execution": {
     "iopub.execute_input": "2023-12-20T12:33:41.389013Z",
     "iopub.status.busy": "2023-12-20T12:33:41.387890Z",
     "iopub.status.idle": "2023-12-20T12:33:41.684548Z",
     "shell.execute_reply": "2023-12-20T12:33:41.683473Z"
    },
    "papermill": {
     "duration": 0.355536,
     "end_time": "2023-12-20T12:33:41.687698",
     "exception": false,
     "start_time": "2023-12-20T12:33:41.332162",
     "status": "completed"
    },
    "tags": []
   },
   "outputs": [],
   "source": [
    "output = pipe1.predict(test_data)"
   ]
  },
  {
   "cell_type": "code",
   "execution_count": 90,
   "id": "91fb3719",
   "metadata": {
    "execution": {
     "iopub.execute_input": "2023-12-20T12:33:41.800375Z",
     "iopub.status.busy": "2023-12-20T12:33:41.799909Z",
     "iopub.status.idle": "2023-12-20T12:33:41.806848Z",
     "shell.execute_reply": "2023-12-20T12:33:41.805734Z"
    },
    "papermill": {
     "duration": 0.066173,
     "end_time": "2023-12-20T12:33:41.809679",
     "exception": false,
     "start_time": "2023-12-20T12:33:41.743506",
     "status": "completed"
    },
    "tags": []
   },
   "outputs": [],
   "source": [
    "output = pd.DataFrame({'ID': np.arange(1,50001), 'total_amount': output})"
   ]
  },
  {
   "cell_type": "code",
   "execution_count": 91,
   "id": "4a09569c",
   "metadata": {
    "execution": {
     "iopub.execute_input": "2023-12-20T12:33:41.921843Z",
     "iopub.status.busy": "2023-12-20T12:33:41.921411Z",
     "iopub.status.idle": "2023-12-20T12:33:42.098260Z",
     "shell.execute_reply": "2023-12-20T12:33:42.096944Z"
    },
    "papermill": {
     "duration": 0.236216,
     "end_time": "2023-12-20T12:33:42.101280",
     "exception": false,
     "start_time": "2023-12-20T12:33:41.865064",
     "status": "completed"
    },
    "tags": []
   },
   "outputs": [],
   "source": [
    "output.to_csv(\"submission.csv\", index=False)"
   ]
  }
 ],
 "metadata": {
  "kaggle": {
   "accelerator": "none",
   "dataSources": [
    {
     "databundleVersionId": 6604167,
     "sourceId": 61246,
     "sourceType": "competition"
    }
   ],
   "dockerImageVersionId": 30558,
   "isGpuEnabled": false,
   "isInternetEnabled": true,
   "language": "python",
   "sourceType": "notebook"
  },
  "kernelspec": {
   "display_name": "Python 3",
   "language": "python",
   "name": "python3"
  },
  "language_info": {
   "codemirror_mode": {
    "name": "ipython",
    "version": 3
   },
   "file_extension": ".py",
   "mimetype": "text/x-python",
   "name": "python",
   "nbconvert_exporter": "python",
   "pygments_lexer": "ipython3",
   "version": "3.10.12"
  },
  "papermill": {
   "default_parameters": {},
   "duration": 402.282432,
   "end_time": "2023-12-20T12:33:44.778678",
   "environment_variables": {},
   "exception": null,
   "input_path": "__notebook__.ipynb",
   "output_path": "__notebook__.ipynb",
   "parameters": {},
   "start_time": "2023-12-20T12:27:02.496246",
   "version": "2.4.0"
  }
 },
 "nbformat": 4,
 "nbformat_minor": 5
}
